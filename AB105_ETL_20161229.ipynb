{
 "cells": [
  {
   "cell_type": "code",
   "execution_count": 3,
   "metadata": {
    "collapsed": false
   },
   "outputs": [],
   "source": [
    "from selenium import webdriver\n",
    "from selenium.webdriver.common.by import By\n",
    "from selenium.webdriver.common.keys import Keys\n",
    "from selenium.webdriver.support.ui import Select\n",
    "from selenium.common.exceptions import NoSuchElementException\n",
    "from selenium.common.exceptions import NoAlertPresentException"
   ]
  },
  {
   "cell_type": "code",
   "execution_count": 11,
   "metadata": {
    "collapsed": false
   },
   "outputs": [],
   "source": [
    "driver = webdriver.Firefox()\n",
    "driver.implicitly_wait(30)\n",
    "base_url = \"https://github.com/\"\n",
    "driver.get(base_url + \"/showcases\")\n",
    "driver.find_element_by_link_text(\"Next\").click()\n",
    "driver.find_element_by_link_text(\"Next\").click()\n",
    "driver.find_element_by_link_text(\"Next\").click()"
   ]
  },
  {
   "cell_type": "code",
   "execution_count": 12,
   "metadata": {
    "collapsed": true
   },
   "outputs": [],
   "source": [
    "import re"
   ]
  },
  {
   "cell_type": "code",
   "execution_count": 14,
   "metadata": {
    "collapsed": false
   },
   "outputs": [
    {
     "name": "stdout",
     "output_type": "stream",
     "text": [
      "250,000\n"
     ]
    }
   ],
   "source": [
    "a = '大數據班 250,000元，I have a pen'\n",
    "b = 'b欠我4,100元，地震了'\n",
    "c = '坐車來中壢，70元'\n",
    "\n",
    "m = re.search('250,000', a)\n",
    "print(m.group(0))"
   ]
  },
  {
   "cell_type": "code",
   "execution_count": 18,
   "metadata": {
    "collapsed": false
   },
   "outputs": [
    {
     "name": "stdout",
     "output_type": "stream",
     "text": [
      "b欠我4,100元，地震了\n",
      "4\n",
      "4\n",
      "4\n"
     ]
    }
   ],
   "source": [
    "print(b)\n",
    "m = re.search('[0123456789]', b)\n",
    "print(m.group(0))\n",
    "m = re.search('[0-9]', b)\n",
    "print(m.group(0))\n",
    "m = re.search('\\d', b)\n",
    "print(m.group(0))"
   ]
  },
  {
   "cell_type": "code",
   "execution_count": 23,
   "metadata": {
    "collapsed": false
   },
   "outputs": [
    {
     "name": "stdout",
     "output_type": "stream",
     "text": [
      "b欠我4,100元，地震了\n",
      "b\n",
      "b\n",
      "b\n",
      "b\n",
      "b\n"
     ]
    }
   ],
   "source": [
    "print(b)\n",
    "m = re.search('[abcdefghijklmnopqrstuvwxyz]', b)\n",
    "print(m.group(0))\n",
    "m = re.search('[a-z]', b) # [abcdefg....xyz] == [a-z]\n",
    "print(m.group(0))\n",
    "m = re.search('[a-zA-Z]', b) # 增加大小寫\n",
    "print(m.group(0))\n",
    "m = re.search('[a-zA-Z0-9]', b) # 增加數字\n",
    "print(m.group(0))\n",
    "m = re.search('\\w', b) #英文大小寫 + 數字 == \\w\n",
    "print(m.group(0))"
   ]
  },
  {
   "cell_type": "code",
   "execution_count": 24,
   "metadata": {
    "collapsed": false
   },
   "outputs": [
    {
     "name": "stdout",
     "output_type": "stream",
     "text": [
      "a\n"
     ]
    }
   ],
   "source": [
    "c = 'asaoisfjosa'\n",
    "m = re.search('.', c)\n",
    "print(m.group(0))"
   ]
  },
  {
   "cell_type": "code",
   "execution_count": 29,
   "metadata": {
    "collapsed": false
   },
   "outputs": [
    {
     "name": "stdout",
     "output_type": "stream",
     "text": [
      "25\n",
      "250\n",
      "250\n",
      "250\n",
      "\n",
      "\n"
     ]
    }
   ],
   "source": [
    "a = '大數據班 250,000元，I have a pen'\n",
    "m = re.search('\\d{1,2}', a)\n",
    "print(m.group(0))\n",
    "\n",
    "m = re.search('\\d{3}', a)\n",
    "print(m.group(0))\n",
    "\n",
    "m = re.search('\\d{1,}', a)\n",
    "print(m.group(0))\n",
    "\n",
    "m = re.search('\\d+', a) # {1,} == +\n",
    "print(m.group(0))\n",
    "\n",
    "m = re.search('\\d{0,}', a)\n",
    "print(m.group(0))\n",
    "\n",
    "m = re.search('\\d*', a) # {0,} == *\n",
    "print(m.group(0))"
   ]
  },
  {
   "cell_type": "code",
   "execution_count": 33,
   "metadata": {
    "collapsed": false
   },
   "outputs": [
    {
     "name": "stdout",
     "output_type": "stream",
     "text": [
      "250,000\n",
      "911\n",
      "250,000元\n"
     ]
    }
   ],
   "source": [
    "a = '保時捷 250,000元，I have a pen'\n",
    "m = re.search('[0-9,]+', a)\n",
    "print(m.group(0))\n",
    "\n",
    "a = '911保時捷 250,000元，I have a pen'\n",
    "m = re.search('[0-9,]+', a)\n",
    "print(m.group(0))\n",
    "\n",
    "a = '911保時捷 250,000元，I have a pen'\n",
    "m = re.search('[0-9,]+元', a)\n",
    "print(m.group(0))"
   ]
  },
  {
   "cell_type": "code",
   "execution_count": 37,
   "metadata": {
    "collapsed": false
   },
   "outputs": [
    {
     "name": "stdout",
     "output_type": "stream",
     "text": [
      "250,000,000元 250,000\n"
     ]
    }
   ],
   "source": [
    "a = '911保時捷 250,000,000元，I have a pen'\n",
    "m = re.search('([0-9,]+)元', a)\n",
    "print(m.group(0), m.group(1)[:-4])"
   ]
  },
  {
   "cell_type": "code",
   "execution_count": 38,
   "metadata": {
    "collapsed": false
   },
   "outputs": [
    {
     "name": "stdout",
     "output_type": "stream",
     "text": [
      "==========\n",
      "小明欠了我 250,000元\n",
      "小明\n",
      "250,000\n",
      "==========\n",
      "9527欠了我 4,000元\n",
      "9527\n",
      "4,000\n",
      "==========\n",
      "馬英九欠了我 2,000,000元\n",
      "馬英九\n",
      "2,000,000\n"
     ]
    }
   ],
   "source": [
    "a = ['小明欠了我 250,000元, 地震了~~~~~~', \\\n",
    "    '9527欠了我 4,000元, 地震了~~~~~~',\\\n",
    "    '馬英九欠了我 2,000,000元, 地震了~~~~~~']\n",
    "for line in a:\n",
    "    m = re.search('(.+)欠了我 ([0-9,]+)元', line)\n",
    "    print(\"==========\")\n",
    "    print(m.group(0))\n",
    "    print(m.group(1))\n",
    "    print(m.group(2))"
   ]
  },
  {
   "cell_type": "code",
   "execution_count": 44,
   "metadata": {
    "collapsed": false
   },
   "outputs": [
    {
     "name": "stdout",
     "output_type": "stream",
     "text": [
      "達美樂 0922-222-222\n",
      "0922\n",
      "我的電話是 0912345678 Call Me\n",
      "0912345678\n",
      "Ian Chen 0978-839834\n",
      "0978\n",
      "借錢嗎？？？ 093427823744534534\n",
      "093427823744534534\n",
      "===========================\n",
      "達美樂 0922-222-222\n",
      "0922-222-222\n",
      "我的電話是 0912345678 Call Me\n",
      "0912345678\n",
      "Ian Chen 0978-839834\n",
      "0978-839834\n",
      "借錢嗎？？？ 093427823744534534\n",
      "0934278237\n",
      "===========================\n",
      "達美樂 0922-222-222\n",
      "0922-222-222\n",
      "我的電話是 0912345678 Call Me\n",
      "0912345678\n",
      "Ian Chen 0978-839834\n",
      "0978-839834\n",
      "借錢嗎？？？ 093427823744534534\n",
      "0934278237\n",
      "===========================\n",
      "達美樂 0922-222-222\n"
     ]
    },
    {
     "ename": "AttributeError",
     "evalue": "'NoneType' object has no attribute 'group'",
     "output_type": "error",
     "traceback": [
      "\u001b[0;31m---------------------------------------------------------------------------\u001b[0m",
      "\u001b[0;31mAttributeError\u001b[0m                            Traceback (most recent call last)",
      "\u001b[0;32m<ipython-input-44-02f401c821ee>\u001b[0m in \u001b[0;36m<module>\u001b[0;34m()\u001b[0m\n\u001b[1;32m     25\u001b[0m     \u001b[0mprint\u001b[0m\u001b[0;34m(\u001b[0m\u001b[0mphone\u001b[0m\u001b[0;34m)\u001b[0m\u001b[0;34m\u001b[0m\u001b[0m\n\u001b[1;32m     26\u001b[0m     \u001b[0mm\u001b[0m \u001b[0;34m=\u001b[0m \u001b[0mre\u001b[0m\u001b[0;34m.\u001b[0m\u001b[0msearch\u001b[0m\u001b[0;34m(\u001b[0m\u001b[0;34m'^09\\d{2}-?\\d{3}-?\\d{3}$'\u001b[0m\u001b[0;34m,\u001b[0m \u001b[0mphone\u001b[0m\u001b[0;34m)\u001b[0m \u001b[0;31m# {0,1} == ?\u001b[0m\u001b[0;34m\u001b[0m\u001b[0m\n\u001b[0;32m---> 27\u001b[0;31m     \u001b[0mprint\u001b[0m\u001b[0;34m(\u001b[0m\u001b[0mm\u001b[0m\u001b[0;34m.\u001b[0m\u001b[0mgroup\u001b[0m\u001b[0;34m(\u001b[0m\u001b[0;36m0\u001b[0m\u001b[0;34m)\u001b[0m\u001b[0;34m)\u001b[0m\u001b[0;34m\u001b[0m\u001b[0m\n\u001b[0m",
      "\u001b[0;31mAttributeError\u001b[0m: 'NoneType' object has no attribute 'group'"
     ]
    }
   ],
   "source": [
    "phones = ['達美樂 0922-222-222', '我的電話是 0912345678 Call Me',\n",
    "         'Ian Chen 0978-839834', '借錢嗎？？？ 093427823744534534']\n",
    "\n",
    "for phone in phones:\n",
    "    print(phone)\n",
    "    m = re.search('09\\d+', phone)\n",
    "    print(m.group(0))\n",
    "print(\"===========================\")\n",
    "\n",
    "for phone in phones:\n",
    "    print(phone)\n",
    "    m = re.search('09\\d{2}-{0,1}\\d{3}-{0,1}\\d{3}', phone)\n",
    "    print(m.group(0))\n",
    "    \n",
    "print(\"===========================\")\n",
    "\n",
    "for phone in phones:\n",
    "    print(phone)\n",
    "    m = re.search('09\\d{2}-?\\d{3}-?\\d{3}', phone) # {0,1} == ?\n",
    "    print(m.group(0))\n",
    "    \n",
    "print(\"===========================\")\n",
    "\n",
    "for phone in phones:\n",
    "    print(phone)\n",
    "    m = re.search('^09\\d{2}-?\\d{3}-?\\d{3}$', phone) # {0,1} == ?\n",
    "    print(m.group(0))"
   ]
  },
  {
   "cell_type": "code",
   "execution_count": 45,
   "metadata": {
    "collapsed": false
   },
   "outputs": [
    {
     "name": "stdout",
     "output_type": "stream",
     "text": [
      "美國研究好棒棒\n"
     ]
    }
   ],
   "source": [
    "a = '英國研究好棒棒'\n",
    "print(re.sub('英國', '美國', a))"
   ]
  },
  {
   "cell_type": "code",
   "execution_count": 50,
   "metadata": {
    "collapsed": false
   },
   "outputs": [
    {
     "name": "stdout",
     "output_type": "stream",
     "text": [
      "中國人最謙虛，英國研究最準確，韓國人發明一切\n",
      "日本人最謙虛，美國研究最準確，?????人發明一切\n",
      "英國研究好棒棒\n",
      "美國研究好棒棒\n"
     ]
    }
   ],
   "source": [
    "dic = {'中國': '日本', '英國': '美國', '韓國': '?????'}\n",
    "articles = ['中國人最謙虛，英國研究最準確，韓國人發明一切',\n",
    "           '英國研究好棒棒']\n",
    "for article in articles:\n",
    "    print(article)\n",
    "    result = article\n",
    "    for ele in dic:\n",
    "        result = re.sub(ele,dic[ele], result)\n",
    "    print(result)"
   ]
  },
  {
   "cell_type": "code",
   "execution_count": null,
   "metadata": {
    "collapsed": true
   },
   "outputs": [],
   "source": []
  }
 ],
 "metadata": {
  "kernelspec": {
   "display_name": "Python 3",
   "language": "python",
   "name": "python3"
  },
  "language_info": {
   "codemirror_mode": {
    "name": "ipython",
    "version": 3
   },
   "file_extension": ".py",
   "mimetype": "text/x-python",
   "name": "python",
   "nbconvert_exporter": "python",
   "pygments_lexer": "ipython3",
   "version": "3.6.0"
  }
 },
 "nbformat": 4,
 "nbformat_minor": 2
}
