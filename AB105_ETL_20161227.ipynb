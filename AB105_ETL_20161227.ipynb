{
 "cells": [
  {
   "cell_type": "markdown",
   "metadata": {},
   "source": [
    "# PTT Crawler"
   ]
  },
  {
   "cell_type": "code",
   "execution_count": 12,
   "metadata": {
    "collapsed": true
   },
   "outputs": [],
   "source": [
    "import json\n",
    "import requests\n",
    "from bs4 import BeautifulSoup\n",
    "\n",
    "HOST = 'https://www.ptt.cc'\n",
    "\n",
    "def list_crawler(url):\n",
    "    '''\n",
    "    This is the crawler that parses the list page of ptt\n",
    "    https://www.ptt.cc/bbs/Gossiping/index.html\n",
    "    '''\n",
    "    res = requests.get(url)\n",
    "    soup = BeautifulSoup(res.text, 'lxml')\n",
    "    \n",
    "    article_list = []\n",
    "    for tag in soup.select('div.title > a'):\n",
    "        url = HOST + tag['href']\n",
    "        article_dict = article_crawler(url)\n",
    "        article_list.append(article_dict)\n",
    "    return article_list\n",
    "\n",
    "def article_crawler(url):\n",
    "    '''\n",
    "    This is the crawler that parsese the article page\n",
    "    https://www.ptt.cc/bbs/SkiSnowboard/M.1482312528.A.3BB.html\n",
    "    '''\n",
    "    print(\"[DEBUG] Cralwing artilce url {}\".format(url))\n",
    "    res = requests.get(url)\n",
    "    soup = BeautifulSoup(res.text, 'lxml')\n",
    "    \n",
    "    article_dict = {}\n",
    "    meta_values = soup.select('span.article-meta-value')\n",
    "    article_dict['author'] = meta_values[0].text\n",
    "    article_dict['board'] = meta_values[1].text\n",
    "    article_dict['title'] = meta_values[2].text\n",
    "    article_dict['tm'] = meta_values[3].text\n",
    "    \n",
    "    article_dict['ip'] = soup.select_one('span.f2').text.split(': ')[-1].strip()\n",
    "    \n",
    "    pushs = []\n",
    "    try:\n",
    "        for push in soup.select('div.push'):\n",
    "            push_dict = {}\n",
    "            push_spans = push.select('span')\n",
    "            push_dict['push_type'] = push_spans[0].text.strip()\n",
    "            push_dict['push_author'] = push_spans[1].text.strip()\n",
    "            push_dict['push_content'] = push_spans[2].text.split(': ')[1].strip()\n",
    "            push_dict['push_tm'] = push_spans[3].text.strip()\n",
    "            pushs.append(push_dict)\n",
    "    except Exception as e:\n",
    "        print(\"[Error] Error while parsing push\")\n",
    "    article_dict['pushs'] = pushs\n",
    "    \n",
    "    \n",
    "    for tag in soup.select('span.article-meta-value'):\n",
    "        tag.extract()\n",
    "    for tag in soup.select('span.article-meta-tag'):\n",
    "        tag.extract()\n",
    "    for tag in soup.select('span.f2'):\n",
    "        tag.extract()\n",
    "    for tag in soup.select('div.push'):\n",
    "        tag.extract()\n",
    "        \n",
    "    article_dict['content'] = soup.select_one(\"#main-content\").text.strip()\n",
    "    return article_dict\n",
    "\n",
    "def ptt_crawler(no_pages):\n",
    "    '''\n",
    "    This is the main function of the crawler\n",
    "    '''\n",
    "    res = requests.get(HOST + \"/bbs/SkiSnowboard/index.html\")\n",
    "    soup = BeautifulSoup(res.text, 'lxml')\n",
    "    total_page = int(soup.select('a.wide')[1]['href'].split('index')[1].split('.html')[0]) + 1\n",
    "    \n",
    "    \n",
    "    for page in range(total_page, total_page - no_pages, -1):\n",
    "        url = HOST + \"/bbs/SkiSnowboard/index{}.html\".format(page)\n",
    "        print(url)\n",
    "        article_list = list_crawler(url)\n",
    "    \n",
    "    with open('./ptt_skisnowboard.json', 'a') as f:\n",
    "        f.write(json.dumps(article_list, ensure_ascii=False))"
   ]
  },
  {
   "cell_type": "code",
   "execution_count": 87,
   "metadata": {
    "collapsed": false
   },
   "outputs": [
    {
     "name": "stdout",
     "output_type": "stream",
     "text": [
      "https://www.ptt.cc/bbs/SkiSnowboard/index125.html\n",
      "[DEBUG] Cralwing artilce url https://www.ptt.cc/bbs/SkiSnowboard/M.1482631120.A.7CE.html\n",
      "[DEBUG] Cralwing artilce url https://www.ptt.cc/bbs/SkiSnowboard/M.1482654382.A.805.html\n",
      "[DEBUG] Cralwing artilce url https://www.ptt.cc/bbs/SkiSnowboard/M.1482672665.A.5F6.html\n",
      "[DEBUG] Cralwing artilce url https://www.ptt.cc/bbs/SkiSnowboard/M.1482676594.A.95B.html\n",
      "[DEBUG] Cralwing artilce url https://www.ptt.cc/bbs/SkiSnowboard/M.1482737502.A.03B.html\n",
      "[DEBUG] Cralwing artilce url https://www.ptt.cc/bbs/SkiSnowboard/M.1482738799.A.28E.html\n",
      "[DEBUG] Cralwing artilce url https://www.ptt.cc/bbs/SkiSnowboard/M.1482762861.A.636.html\n",
      "[DEBUG] Cralwing artilce url https://www.ptt.cc/bbs/SkiSnowboard/M.1482789229.A.2FE.html\n",
      "[DEBUG] Cralwing artilce url https://www.ptt.cc/bbs/SkiSnowboard/M.1465218737.A.FB2.html\n",
      "[DEBUG] Cralwing artilce url https://www.ptt.cc/bbs/SkiSnowboard/M.1476592107.A.50C.html\n",
      "https://www.ptt.cc/bbs/SkiSnowboard/index124.html\n",
      "[DEBUG] Cralwing artilce url https://www.ptt.cc/bbs/SkiSnowboard/M.1481982992.A.0EA.html\n",
      "[DEBUG] Cralwing artilce url https://www.ptt.cc/bbs/SkiSnowboard/M.1482043542.A.9F2.html\n",
      "[DEBUG] Cralwing artilce url https://www.ptt.cc/bbs/SkiSnowboard/M.1482058190.A.872.html\n",
      "[DEBUG] Cralwing artilce url https://www.ptt.cc/bbs/SkiSnowboard/M.1482161677.A.43B.html\n",
      "[DEBUG] Cralwing artilce url https://www.ptt.cc/bbs/SkiSnowboard/M.1482162700.A.807.html\n",
      "[DEBUG] Cralwing artilce url https://www.ptt.cc/bbs/SkiSnowboard/M.1482225560.A.FA5.html\n",
      "[DEBUG] Cralwing artilce url https://www.ptt.cc/bbs/SkiSnowboard/M.1482237371.A.CB4.html\n",
      "[DEBUG] Cralwing artilce url https://www.ptt.cc/bbs/SkiSnowboard/M.1482250202.A.C88.html\n",
      "[DEBUG] Cralwing artilce url https://www.ptt.cc/bbs/SkiSnowboard/M.1482309921.A.20C.html\n",
      "[DEBUG] Cralwing artilce url https://www.ptt.cc/bbs/SkiSnowboard/M.1482312528.A.3BB.html\n",
      "[DEBUG] Cralwing artilce url https://www.ptt.cc/bbs/SkiSnowboard/M.1482337166.A.51D.html\n",
      "[DEBUG] Cralwing artilce url https://www.ptt.cc/bbs/SkiSnowboard/M.1482378199.A.C01.html\n",
      "[DEBUG] Cralwing artilce url https://www.ptt.cc/bbs/SkiSnowboard/M.1482415993.A.C99.html\n",
      "[DEBUG] Cralwing artilce url https://www.ptt.cc/bbs/SkiSnowboard/M.1482475926.A.E35.html\n",
      "[DEBUG] Cralwing artilce url https://www.ptt.cc/bbs/SkiSnowboard/M.1482481277.A.938.html\n",
      "[DEBUG] Cralwing artilce url https://www.ptt.cc/bbs/SkiSnowboard/M.1482502803.A.C8B.html\n",
      "[Error] Error while parsing push\n",
      "[DEBUG] Cralwing artilce url https://www.ptt.cc/bbs/SkiSnowboard/M.1482506718.A.878.html\n",
      "[DEBUG] Cralwing artilce url https://www.ptt.cc/bbs/SkiSnowboard/M.1482508922.A.41F.html\n",
      "[DEBUG] Cralwing artilce url https://www.ptt.cc/bbs/SkiSnowboard/M.1482545495.A.FDF.html\n",
      "[DEBUG] Cralwing artilce url https://www.ptt.cc/bbs/SkiSnowboard/M.1482577880.A.D10.html\n"
     ]
    }
   ],
   "source": [
    "ptt_crawler(2)"
   ]
  },
  {
   "cell_type": "code",
   "execution_count": 18,
   "metadata": {
    "collapsed": false
   },
   "outputs": [
    {
     "data": {
      "text/plain": [
       "[{'author': 'grantgao (grantgao)',\n",
       "  'board': 'SkiSnowboard',\n",
       "  'content': 'The North Face含雪裙Gore-Tex化纖(PrimaLoft Silver Insulation)\\n保暖滑雪外套，全新美國帶回，因太小售出，僅此一件\\n尺寸：女生XS\\n顏色：藍 (STELLAR BLUE)\\n售價：7000元\\n台北面交\\nhttps://goo.gl/IKMtSC\\nhttps://goo.gl/BNwDqp\\nhttps://goo.gl/HGfFZO\\nhttps://goo.gl/VPrDIO\\n\\n--',\n",
       "  'ip': '140.109.222.53',\n",
       "  'pushs': [],\n",
       "  'title': '[出售] North Face滑雪外套',\n",
       "  'tm': 'Sun Dec 25 09:58:38 2016'},\n",
       " {'author': 'echi (台北的天空)',\n",
       "  'board': 'SkiSnowboard',\n",
       "  'content': '時間：12/26～31\\n地點：北志賀龍王\\n出發地：北志賀龍王\\n預算額度：看人數\\nSki or Snowboard：snowboard\\n總人數與預計招募人數：目前2人/預計招募2～4人\\n主揪的話與其他注意事項：想share教練費 歡迎同樂\\n\\n意者站內信\\n\\n--',\n",
       "  'ip': '1.1.125.74',\n",
       "  'pushs': [],\n",
       "  'title': '[揪團] 12/26～31 北志賀龍王',\n",
       "  'tm': 'Sun Dec 25 16:26:19 2016'},\n",
       " {'author': 'momoya802 (水餃熟了)',\n",
       "  'board': 'SkiSnowboard',\n",
       "  'content': '各位大家晚安，因為已經訂好1/8-1/11要去琵琶湖，但是最近有意無意看了官網滑雪都是停\\n\\n現在要改去野澤，飯店貴得有點威，要改也得快動作了。不然都要去六甲山了，難過。\\n\\n麻煩最近前往的雪友告知了？非常謝謝\\n\\n雖然京都機票跟住宿加起來四天三夜才7300…\\n\\n-----\\nSent from JPTT on my Sony D5833.\\n\\n--',\n",
       "  'ip': '101.12.98.212',\n",
       "  'pushs': [],\n",
       "  'title': '[問題] Biwako valley雪況？',\n",
       "  'tm': 'Sun Dec 25 21:31:03 2016'},\n",
       " {'author': 'autumnmaple1 (deeply moved)',\n",
       "  'board': 'SkiSnowboard',\n",
       "  'content': '請問有實體照片嗎\\n\\n\\n引述《grantgao (grantgao)》之銘言：\\n: The North Face含雪裙Gore-Tex化纖(PrimaLoft Silver Insulation)\\n: 保暖滑雪外套，全新美國帶回，因太小售出，僅此一件\\n: 尺寸：女生XS\\n: 顏色：藍 (STELLAR BLUE)\\n: 售價：7000元\\n: 台北面交\\n: https://goo.gl/IKMtSC\\n\\n--',\n",
       "  'ip': '223.137.47.223',\n",
       "  'pushs': [{'push_author': 'grantgao',\n",
       "    'push_content': '您好，晚點貼圖上來',\n",
       "    'push_tm': '12/26 16:25',\n",
       "    'push_type': '→'},\n",
       "   {'push_author': 'grantgao',\n",
       "    'push_content': 'https://goo.gl/BNwDqp',\n",
       "    'push_tm': '12/26 21:44',\n",
       "    'push_type': '→'},\n",
       "   {'push_author': 'grantgao',\n",
       "    'push_content': 'https://goo.gl/HGfFZO',\n",
       "    'push_tm': '12/26 21:44',\n",
       "    'push_type': '→'},\n",
       "   {'push_author': 'grantgao',\n",
       "    'push_content': 'https://goo.gl/VPrDIO',\n",
       "    'push_tm': '12/26 21:45',\n",
       "    'push_type': '→'}],\n",
       "  'title': 'Re: [出售] North Face滑雪外套',\n",
       "  'tm': 'Sun Dec 25 22:36:32 2016'},\n",
       " {'author': 'Reiky (˙丹鳳眼˙)',\n",
       "  'board': 'SkiSnowboard',\n",
       "  'content': '時間：星期五下午，以能預約到的最接近時間為主。\\n\\n地點：台北滑雪學校\\n\\n預算額度：三堂課共3hr，分三週上完。費用是3600元\\n\\n項目：ski\\n\\n總人數與預計招募人數：3/1\\n\\n主揪的話與其他注意事項：\\n\\n2017一月底要出發至藏王滑雪，\\n希望在行前可以學會基本ski技能，\\n因滑雪學校的平日時間需三人一起上課，\\n我們已有兩人，其中一位完全沒滑過。\\n想徵求一位想學滑雪的新手朋友一同上課。\\n意者站內信聯繫\\n\\n\\n\\n\\n--',\n",
       "  'ip': '36.225.254.248',\n",
       "  'pushs': [],\n",
       "  'title': '[揪團] 台北滑雪學校新手課程',\n",
       "  'tm': 'Mon Dec 26 15:31:36 2016'},\n",
       " {'author': 'HachoBank ()',\n",
       "  'board': 'SkiSnowboard',\n",
       "  'content': '時間：2/1-2 ,預計兩天的上午\\n\\n地點：日本 輕井澤\\n\\n出發地：輕井澤\\n\\n預算額度：4個學生\\n\\nSki or Snowboard：ski\\n\\n總人數與預計招募人數：目前4人，可接受併團\\n\\n主揪的話與其他注意事項：\\n朋友很大膽的自由行、但我還是建議他們找教練、也能夠幫助處理裝備等問題\\n一家4口、內含兩個男生小朋友、一個高中、一個國中，完全沒經驗\\n如果有教練那時有帶團可以加他們，或是先跟他們談好要再加幾個同好也可以討論\\n請教練給我站內信\\n謝謝！\\n\\n--',\n",
       "  'ip': '114.34.182.137',\n",
       "  'pushs': [],\n",
       "  'title': '[揪團] 2/1-2 徵教練 新手ski',\n",
       "  'tm': 'Mon Dec 26 15:53:16 2016'},\n",
       " {'author': 'echi (台北的天空)',\n",
       "  'board': 'SkiSnowboard',\n",
       "  'content': '請問12/27～30有snowboard教練在這嗎？\\n\\n目前有2位學員（歡迎有再這的ㄧ起玩）\\n\\n\\n\\n\\n\\n--',\n",
       "  'ip': '1.1.125.123',\n",
       "  'pushs': [],\n",
       "  'title': '[問題] 龍王 徵教練',\n",
       "  'tm': 'Mon Dec 26 22:34:19 2016'},\n",
       " {'author': \"ashin42 (Rock'n roll style)\",\n",
       "  'board': 'SkiSnowboard',\n",
       "  'content': '各位先進好。我因為工作的關係出差斯洛伐克。\\n\\n目前人在Trencin ，想請教各位附近是否有合適的雪場適合新手的，之前只有在日本滑過\\n。\\n\\n假期可能只有三天。可能不適合跑太遠。\\n煩請各位推薦適合的雪場\\n\\n--',\n",
       "  'ip': '188.29.165.154',\n",
       "  'pushs': [],\n",
       "  'title': '[問題] 請推薦東歐適合新手的雪場',\n",
       "  'tm': 'Tue Dec 27 05:53:47 2016'},\n",
       " {'author': 'SLAC (滑雪教練Phil)',\n",
       "  'board': 'SkiSnowboard',\n",
       "  'content': '沿用一下之前的揪團文章\\n\\n有板友想要長天數滑雪 找人一起合租房子 分攤租金\\n\\n如果不想特別發文\\n可以在這篇留言或推文\\n\\n推文範例之一: 我想買epicpass去美國滑雪 有人要租車一起去逛遍每個雪場嘛？\\n        之二: 這個冬天想去hakuba租小屋 租一個月 我是skier 可能農曆年期間吧\\n              有人要一起share房租嘛？\\n        之三: 我是新手 但是對滑雪很有熱誠 有十多天的假期 有老手願意帶一下嘛？\\n        之四: 我要參加XX旅行社的XX團 有人一起嘛？\\n\\n\\n預祝大家有美好的雪季～\\n\\n--\\n\\u3000\\u3000\\u3000\\u3000\\u3000\\u3000\\u3000╭╮│    ╭╮              │                │\\n\\u3000\\u3000\\u3000\\u3000\\u3000\\u3000\\u3000│││∕。││╭╮╭╮│  │├╮╭╮╭╮╭╭╭┤\\n\\u3000\\u3000\\u3000\\u3000\\u3000\\u3000\\u3000╰╮├╮│╰╮│││││││││││╭┤├╯││\\n\\u3000\\u3000\\u3000\\u3000\\u3000\\u3000\\u3000││││  ││││╰╯╰┴╯├╯╰╯╰┤│  ╰┤\\n\\u3000\\u3000\\u3000\\u3000\\u3000\\u3000\\u3000╰╯  │  ╰╯\\n\\u3000\\u3000\\u3000\\u3000\\u3000\\u3000\\u3000\\u3000\\u3000\\u3000│  歡 迎 大 家 來 滑 雪 板 逛 逛 哦 !\\n\\n--',\n",
       "  'ip': '219.85.244.131',\n",
       "  'pushs': [{'push_author': 'roder',\n",
       "    'push_content': '推~',\n",
       "    'push_tm': '06/06 21:21',\n",
       "    'push_type': '推'},\n",
       "   {'push_author': 'etowl',\n",
       "    'push_content': '堆～～～大家要去哪裡呢？',\n",
       "    'push_tm': '06/07 09:33',\n",
       "    'push_type': '→'},\n",
       "   {'push_author': 'mimiu',\n",
       "    'push_content': '耶~~~',\n",
       "    'push_tm': '06/07 20:32',\n",
       "    'push_type': '推'},\n",
       "   {'push_author': 'missleia',\n",
       "    'push_content': '一月要報可樂團，現在只能等早鳥價放出來',\n",
       "    'push_tm': '06/07 23:25',\n",
       "    'push_type': '推'},\n",
       "   {'push_author': 'iiifu1234',\n",
       "    'push_content': '12月底有團可以跟嗎?需要教練@@',\n",
       "    'push_tm': '06/08 11:44',\n",
       "    'push_type': '推'},\n",
       "   {'push_author': 'heyopp',\n",
       "    'push_content': '我是新手～想學雪板明年初有沒有團可以跟',\n",
       "    'push_tm': '06/10 22:22',\n",
       "    'push_type': '推'},\n",
       "   {'push_author': 'heyopp',\n",
       "    'push_content': '><(滑過幾次雙板一次雪板但是沒請教練）',\n",
       "    'push_tm': '06/10 22:22',\n",
       "    'push_type': '→'},\n",
       "   {'push_author': 'katsuki',\n",
       "    'push_content': '8/4～8/11 澳洲徵人一起',\n",
       "    'push_tm': '06/14 19:08',\n",
       "    'push_type': '推'},\n",
       "   {'push_author': 'arkadam',\n",
       "    'push_content': '12/16~12/19 二世谷徵人一起喔',\n",
       "    'push_tm': '06/15 10:27',\n",
       "    'push_type': '推'},\n",
       "   {'push_author': 'sasa1025',\n",
       "    'push_content': '17年1月，我可能一樣跟中毒者的行程，有沒有要一起作伴',\n",
       "    'push_tm': '06/15 20:40',\n",
       "    'push_type': '→'},\n",
       "   {'push_author': 'sasa1025',\n",
       "    'push_content': '的，我高雄人',\n",
       "    'push_tm': '06/15 20:40',\n",
       "    'push_type': '→'},\n",
       "   {'push_author': 'aureusii',\n",
       "    'push_content': '17年 1月或3月 ，尚未決定跟哪家的團',\n",
       "    'push_tm': '06/16 10:26',\n",
       "    'push_type': '推'},\n",
       "   {'push_author': 's1290272',\n",
       "    'push_content': '17年1月，尚未確定跟那團，新北人',\n",
       "    'push_tm': '06/16 11:16',\n",
       "    'push_type': '推'},\n",
       "   {'push_author': 'iiifu1234',\n",
       "    'push_content': '12/18~12/20，富良野，兩位沒滑過SB徵人一起請教練',\n",
       "    'push_tm': '06/17 14:54',\n",
       "    'push_type': '推'},\n",
       "   {'push_author': 'kazame',\n",
       "    'push_content': '2017過年期間 SB找教練團重新帶基礎',\n",
       "    'push_tm': '06/19 15:18',\n",
       "    'push_type': '推'},\n",
       "   {'push_author': 'vivin109',\n",
       "    'push_content': '1/20～1/27 ski 新手2位，還沒決定雪場，想要請教練，',\n",
       "    'push_tm': '06/20 23:07',\n",
       "    'push_type': '推'},\n",
       "   {'push_author': 'vivin109',\n",
       "    'push_content': '有人也是這時間點去的嗎？',\n",
       "    'push_tm': '06/20 23:07',\n",
       "    'push_type': '→'},\n",
       "   {'push_author': 'agy411',\n",
       "    'push_content': '1/27～2/5 找自助雪伴，SB可紅線，想找人一起滑，前2幾天',\n",
       "    'push_tm': '06/28 18:58',\n",
       "    'push_type': '推'},\n",
       "   {'push_author': 'agy411',\n",
       "    'push_content': '可能找教練上課，後面幾天逛山玩樂拍影片，我有很多GoPro',\n",
       "    'push_tm': '06/28 18:58',\n",
       "    'push_type': '→'},\n",
       "   {'push_author': 'agy411',\n",
       "    'push_content': '怪道具',\n",
       "    'push_tm': '06/28 18:58',\n",
       "    'push_type': '→'},\n",
       "   {'push_author': 'petalfree',\n",
       "    'push_content': '12/30-1/2 留壽都 8人初級班找sb 教',\n",
       "    'push_tm': '07/03 22:24',\n",
       "    'push_type': '推'},\n",
       "   {'push_author': 'petalfree',\n",
       "    'push_content': '練',\n",
       "    'push_tm': '07/03 22:31',\n",
       "    'push_type': '推'},\n",
       "   {'push_author': 'mestes',\n",
       "    'push_content': '新手想報傑克神 sb 1/16.17在野澤的私人課程，徵人一起~',\n",
       "    'push_tm': '07/07 12:19',\n",
       "    'push_type': '推'},\n",
       "   {'push_author': 'vuvuo3ejo3',\n",
       "    'push_content': 'SB新手，滑過一次ski，程度不知道，17年1月，徵伴一起',\n",
       "    'push_tm': '07/07 23:15',\n",
       "    'push_type': '推'},\n",
       "   {'push_author': 'vuvuo3ejo3',\n",
       "    'push_content': '，跟團or自助皆可，主要希望有教練可教學',\n",
       "    'push_tm': '07/07 23:15',\n",
       "    'push_type': '→'},\n",
       "   {'push_author': 'kazame',\n",
       "    'push_content': '2017/2/28-3/3左右，苗場揪SB 找教練',\n",
       "    'push_tm': '07/11 01:04',\n",
       "    'push_type': '推'},\n",
       "   {'push_author': 'vincentness',\n",
       "    'push_content': '1/7~8 湯澤地區 ski初級找人一起滑',\n",
       "    'push_tm': '07/15 20:32',\n",
       "    'push_type': '推'},\n",
       "   {'push_author': 'namejoshua',\n",
       "    'push_content': '1/27-2/5，計畫挑幾天去安比學SB，徵人一起請教練',\n",
       "    'push_tm': '07/16 01:22',\n",
       "    'push_type': '推'},\n",
       "   {'push_author': 'adakinki',\n",
       "    'push_content': '新手，2017年2月想去苗場，比較想自助，會一點日文，但',\n",
       "    'push_tm': '07/19 14:40',\n",
       "    'push_type': '推'},\n",
       "   {'push_author': 'adakinki',\n",
       "    'push_content': '怕日文教練教的會聽不太懂，還是希望有中文教練可教',\n",
       "    'push_tm': '07/19 14:40',\n",
       "    'push_type': '→'},\n",
       "   {'push_author': 'agy411',\n",
       "    'push_content': '1/27～2/5 白馬找室友 share雙人房，不然超級難訂單人房QQ',\n",
       "    'push_tm': '07/19 19:23',\n",
       "    'push_type': '推'},\n",
       "   {'push_author': 'okichan',\n",
       "    'push_content': '12/18-27有人在野澤或妙高嗎？ 來一起逛山吧（招',\n",
       "    'push_tm': '07/20 01:22',\n",
       "    'push_type': '推'},\n",
       "   {'push_author': 'pomai',\n",
       "    'push_content': '2017.1/20～1/26 雪場野澤溫泉 有人有興趣一起嗎？跟滑雪',\n",
       "    'push_tm': '07/22 21:59',\n",
       "    'push_type': '推'},\n",
       "   {'push_author': 'pomai',\n",
       "    'push_content': '團～',\n",
       "    'push_tm': '07/22 21:59',\n",
       "    'push_type': '→'},\n",
       "   {'push_author': 'aureusii',\n",
       "    'push_content': '樓上是跟團？哪一家？',\n",
       "    'push_tm': '07/22 22:47',\n",
       "    'push_type': '推'},\n",
       "   {'push_author': 'utby',\n",
       "    'push_content': '2017/2/9~15 藏王滑雪找室友share雙人房',\n",
       "    'push_tm': '07/25 15:42',\n",
       "    'push_type': '推'},\n",
       "   {'push_author': 'aureusii',\n",
       "    'push_content': '有Skier想去明年1月份可樂的苗場團嗎?',\n",
       "    'push_tm': '07/29 13:14',\n",
       "    'push_type': '推'},\n",
       "   {'push_author': 'airretro',\n",
       "    'push_content': '12/28~1/1苗場跟中毒者團滑SB, 目標可湊四人團,滑29~31',\n",
       "    'push_tm': '08/01 15:21',\n",
       "    'push_type': '推'},\n",
       "   {'push_author': 'misiakimo',\n",
       "    'push_content': '2017/2/27~3/7星野八晚share雙單床(含早、雪票)住宿費',\n",
       "    'push_tm': '08/01 20:43',\n",
       "    'push_type': '推'},\n",
       "   {'push_author': 'josiph',\n",
       "    'push_content': '2月2-4日  湯澤7人  初級班 徵教練',\n",
       "    'push_tm': '08/05 08:00',\n",
       "    'push_type': '推'},\n",
       "   {'push_author': 'boss88893',\n",
       "    'push_content': '2017.1.15~1.18 找室友及教練,湯澤 初學自助找人一起',\n",
       "    'push_tm': '08/05 11:52',\n",
       "    'push_type': '推'},\n",
       "   {'push_author': 'kaid',\n",
       "    'push_content': '1/30～2/5挑幾日，日本雪場未定，徵ski教練&一起上課的夥伴',\n",
       "    'push_tm': '08/07 11:54',\n",
       "    'push_type': '推'},\n",
       "   {'push_author': 'kaid',\n",
       "    'push_content': '（目前 兩人初級，兩人中級）',\n",
       "    'push_tm': '08/07 11:54',\n",
       "    'push_type': '→'},\n",
       "   {'push_author': 'aureusii',\n",
       "    'push_content': '我報了傑克神 1/19-1/21的Ski Level 1+， 徵人一起~',\n",
       "    'push_tm': '08/11 15:36',\n",
       "    'push_type': '推'},\n",
       "   {'push_author': 'cheermeow',\n",
       "    'push_content': '1/8苗場中毒者團,會退回程機票再自訂,目前2人再湊2人',\n",
       "    'push_tm': '08/12 21:09',\n",
       "    'push_type': '推'},\n",
       "   {'push_author': 'fisal',\n",
       "    'push_content': '2月底3月初，雪場未定，徵SB教練及伙伴或輕井澤滑雪中毒者',\n",
       "    'push_tm': '08/13 10:15',\n",
       "    'push_type': '→'},\n",
       "   {'push_author': 'fisal',\n",
       "    'push_content': '雪場排除苗場',\n",
       "    'push_tm': '08/13 10:15',\n",
       "    'push_type': '→'},\n",
       "   {'push_author': 'mimiu',\n",
       "    'push_content': '3/1 ~ 3/3 北海道星野徵SB教練二名 (分別教初級&入門)',\n",
       "    'push_tm': '08/17 22:10',\n",
       "    'push_type': '→'},\n",
       "   {'push_author': 'cguchen',\n",
       "    'push_content': '2016/12/22~23預計在苗場滑雪，現有兩人徵人一起來上課~',\n",
       "    'push_tm': '08/18 23:51',\n",
       "    'push_type': '推'},\n",
       "   {'push_author': 'chwu',\n",
       "    'push_content': '2016 12月中底 SB 希望在北海道有教練 希望有人share雙人房',\n",
       "    'push_tm': '08/19 17:49',\n",
       "    'push_type': '推'},\n",
       "   {'push_author': 'Asiang',\n",
       "    'push_content': '1/30~2/1白馬徵室友或一起上課1~2位(非初學)',\n",
       "    'push_tm': '08/21 13:53',\n",
       "    'push_type': '推'},\n",
       "   {'push_author': 'yomlu',\n",
       "    'push_content': '2017.2/7~2/8 苗場，SB揪團一起找教練，內建2人，洽站內信',\n",
       "    'push_tm': '08/21 16:25',\n",
       "    'push_type': '推'},\n",
       "   {'push_author': 'michelle2368',\n",
       "    'push_content': '2/12~13二世谷揪一起找中文教練',\n",
       "    'push_tm': '08/22 12:43',\n",
       "    'push_type': '推'},\n",
       "   {'push_author': 'missleia',\n",
       "    'push_content': '9-21/Jan 白馬 藏王 2人 ski ，也順便徵',\n",
       "    'push_tm': '08/23 12:41',\n",
       "    'push_type': '推'},\n",
       "   {'push_author': 'missleia',\n",
       "    'push_content': '一起上中階教練課',\n",
       "    'push_tm': '08/23 12:41',\n",
       "    'push_type': '→'},\n",
       "   {'push_author': 'Narcissus13',\n",
       "    'push_content': '1月中野澤 徵室友或一起上課，ski紅線，或SB初學',\n",
       "    'push_tm': '08/23 13:47',\n",
       "    'push_type': '推'},\n",
       "   {'push_author': 'szuning13',\n",
       "    'push_content': '2016/12/30~31 苗場SKI、SB初階班，已有兩人再徵兩人',\n",
       "    'push_tm': '08/24 15:32',\n",
       "    'push_type': '推'},\n",
       "   {'push_author': 'fanny78',\n",
       "    'push_content': '我報了傑克神教室1/30，2/1，2/2的SB LV1 徵野澤溫泉室',\n",
       "    'push_tm': '08/24 21:20',\n",
       "    'push_type': '推'},\n",
       "   {'push_author': 'fanny78',\n",
       "    'push_content': '友',\n",
       "    'push_tm': '08/24 21:20',\n",
       "    'push_type': '→'},\n",
       "   {'push_author': 'jhun',\n",
       "    'push_content': '2/18 ~ 2/26, 8 nights ,Niseko 徵室友一名',\n",
       "    'push_tm': '08/24 22:05',\n",
       "    'push_type': '推'},\n",
       "   {'push_author': 'adanme',\n",
       "    'push_content': '2/26~2/28, Niseko 徵雪友, 住 Hilton',\n",
       "    'push_tm': '08/25 12:40',\n",
       "    'push_type': '推'},\n",
       "   {'push_author': 'jhun',\n",
       "    'push_content': '承上上則,住宿點為Owashi Lodge, 一晚約6800日幣',\n",
       "    'push_tm': '08/25 14:28',\n",
       "    'push_type': '→'},\n",
       "   {'push_author': 'yasuyoshi',\n",
       "    'push_content': '16/1229 ~ 17/0102 共四晚 二世谷跨年 住Owashi Lodge',\n",
       "    'push_tm': '08/25 15:07',\n",
       "    'push_type': '推'},\n",
       "   {'push_author': 'yasuyoshi',\n",
       "    'push_content': '徵一人',\n",
       "    'push_tm': '08/25 15:07',\n",
       "    'push_type': '→'},\n",
       "   {'push_author': 'KIRA1002',\n",
       "    'push_content': '徵輕井澤&湯澤2/28~3/6之間一日教練，不過夜6人團2人有',\n",
       "    'push_tm': '08/27 12:17',\n",
       "    'push_type': '推'},\n",
       "   {'push_author': 'KIRA1002',\n",
       "    'push_content': '滑過一次經驗，站內信報價會自行前往雪場需帶去租雪具',\n",
       "    'push_tm': '08/27 12:19',\n",
       "    'push_type': '→'},\n",
       "   {'push_author': 'KIRA1002',\n",
       "    'push_content': '湯澤是ＧＡＬＡ湯沢スキー場(Gala)',\n",
       "    'push_tm': '08/27 12:38',\n",
       "    'push_type': '推'},\n",
       "   {'push_author': 'shihying1990',\n",
       "    'push_content': '17年1月中在佐幌第一次滑,想要找教練,謝謝!',\n",
       "    'push_tm': '08/28 22:04',\n",
       "    'push_type': '推'},\n",
       "   {'push_author': 'blackapple',\n",
       "    'push_content': '12/3-12/23期間想挑五天至一星期跑日本，地點還在看',\n",
       "    'push_tm': '08/31 12:14',\n",
       "    'push_type': '推'},\n",
       "   {'push_author': 'blackapple',\n",
       "    'push_content': '以雪況好壞為主，不是長野就北海道， 時間很彈性可以',\n",
       "    'push_tm': '08/31 12:15',\n",
       "    'push_type': '→'},\n",
       "   {'push_author': 'blackapple',\n",
       "    'push_content': '合其他人，Ski中手，想找人一起自助',\n",
       "    'push_tm': '08/31 12:16',\n",
       "    'push_type': '→'},\n",
       "   {'push_author': 'aqn008',\n",
       "    'push_content': '2/8~2/11白馬或姆池高原 SB揪團找教練 現有3人，洽站內信',\n",
       "    'push_tm': '09/01 22:22',\n",
       "    'push_type': '推'},\n",
       "   {'push_author': 'cucci104',\n",
       "    'push_content': '12/28-12/29 苗場SB，完全新手，已預約教練，徵1-2人Sha',\n",
       "    'push_tm': '09/02 10:40',\n",
       "    'push_type': '推'},\n",
       "   {'push_author': 'cucci104',\n",
       "    'push_content': 're。',\n",
       "    'push_tm': '09/02 10:40',\n",
       "    'push_type': '→'},\n",
       "   {'push_author': 'chienhanchen',\n",
       "    'push_content': '12/20-1/19二世谷 提供SB教學或徵雪伴',\n",
       "    'push_tm': '09/02 15:24',\n",
       "    'push_type': '推'},\n",
       "   {'push_author': 's9300519',\n",
       "    'push_content': '1/27~2/5，藏王或志賀徵室友，詳情來信討論吧',\n",
       "    'push_tm': '09/02 17:11',\n",
       "    'push_type': '→'},\n",
       "   {'push_author': 'chenshi905',\n",
       "    'push_content': '樓上上，我12/31-1/6會在二世谷，有機會可以一起逛山',\n",
       "    'push_tm': '09/03 02:17',\n",
       "    'push_type': '推'},\n",
       "   {'push_author': 'lioncall',\n",
       "    'push_content': '報傑克神12/29~12/31 SB L1, 徵野澤滑雪村室友。站內信',\n",
       "    'push_tm': '09/04 17:11',\n",
       "    'push_type': '推'},\n",
       "   {'push_author': 'jimmibear',\n",
       "    'push_content': '12/26-12/31 藏王,徵一起逛山練習的朋友(修正s turn中)',\n",
       "    'push_tm': '09/06 23:56',\n",
       "    'push_type': '推'},\n",
       "   {'push_author': 'jimmibear',\n",
       "    'push_content': '1/20-1/24白馬, 1/25-1/29野澤, 徵雪伴一起逛山練習~',\n",
       "    'push_tm': '09/06 23:59',\n",
       "    'push_type': '→'},\n",
       "   {'push_author': 'SLAC',\n",
       "    'push_content': '有人12/27-1/6缺教練的嗎？ 北海道 長天數 優先',\n",
       "    'push_tm': '09/09 15:01',\n",
       "    'push_type': '→'},\n",
       "   {'push_author': 'sunnysmile',\n",
       "    'push_content': '明年2/8-11,一個人SKI中級,想找人share住宿,藏王附近',\n",
       "    'push_tm': '09/13 22:34',\n",
       "    'push_type': '推'},\n",
       "   {'push_author': 'miaw56',\n",
       "    'push_content': '野澤SB 12/18-21 輙個人找雪伴及教練  站內信',\n",
       "    'push_tm': '09/13 23:44',\n",
       "    'push_type': '推'},\n",
       "   {'push_author': 'ak26',\n",
       "    'push_content': '苗場2/25~2/28-徵人一起滑雪(好天氣想上山頂)~',\n",
       "    'push_tm': '09/14 16:48',\n",
       "    'push_type': '推'},\n",
       "   {'push_author': 'lastgemini21',\n",
       "    'push_content': '12/25-12/26 苗場五人徵求sb老手或教練',\n",
       "    'push_tm': '09/17 00:29',\n",
       "    'push_type': '推'},\n",
       "   {'push_author': 'misiakimo',\n",
       "    'push_content': '2/27～3/4五晚星野住宿雙人房含早餐、纜車票徵ㄧ人shar',\n",
       "    'push_tm': '09/18 09:23',\n",
       "    'push_type': '推'},\n",
       "   {'push_author': 'misiakimo',\n",
       "    'push_content': 'e（限男性），另徵3/5、3/6盤溪滑雪場sb進階課share教',\n",
       "    'push_tm': '09/18 09:23',\n",
       "    'push_type': '→'},\n",
       "   {'push_author': 'misiakimo',\n",
       "    'push_content': '練費（台籍教練，程度需可順下紅線者佳），意者私訊詳',\n",
       "    'push_tm': '09/18 09:23',\n",
       "    'push_type': '→'},\n",
       "   {'push_author': 'misiakimo',\n",
       "    'push_content': '情，謝謝',\n",
       "    'push_tm': '09/18 09:23',\n",
       "    'push_type': '→'},\n",
       "   {'push_author': 'roder',\n",
       "    'push_content': '志賀燒額山 1/20~1/22 三位初心者/兩位菜鳥 需要找教練',\n",
       "    'push_tm': '09/19 20:18',\n",
       "    'push_type': '推'},\n",
       "   {'push_author': 'roder',\n",
       "    'push_content': '都是SB~ 請站內信!',\n",
       "    'push_tm': '09/19 20:18',\n",
       "    'push_type': '→'},\n",
       "   {'push_author': 'wju1977',\n",
       "    'push_content': '2/1~2/2苗場徵求教練(3人，會落葉飄，想學轉彎)',\n",
       "    'push_tm': '09/20 12:08',\n",
       "    'push_type': '推'},\n",
       "   {'push_author': 'HIKONA',\n",
       "    'push_content': '1/14-17 NISEKO住hirafu 函館進出 可以一起滑唷晚上打牌XD',\n",
       "    'push_tm': '09/21 04:04',\n",
       "    'push_type': '→'},\n",
       "   {'push_author': 'gibam',\n",
       "    'push_content': '1/15-1/21石打丸山徵室友,請來信討論',\n",
       "    'push_tm': '09/21 12:55',\n",
       "    'push_type': '推'},\n",
       "   {'push_author': 'aureusii',\n",
       "    'push_content': '1/18~1/21 一個人野澤滑雪，有重疊的可以碰碰面打打招呼',\n",
       "    'push_tm': '09/21 17:11',\n",
       "    'push_type': '推'},\n",
       "   {'push_author': 'aaZX',\n",
       "    'push_content': '12/9~1/5 留壽都 一起逛山吧! 雪況好的話會再提早幾天出發!!',\n",
       "    'push_tm': '09/22 00:06',\n",
       "    'push_type': '推'},\n",
       "   {'push_author': 'jhun',\n",
       "    'push_content': '有雪友護照名剛好是HsiangTing Chen嗎? 2/18~2/28 酷航機票',\n",
       "    'push_tm': '09/23 12:30',\n",
       "    'push_type': '推'},\n",
       "   {'push_author': 'jhun',\n",
       "    'push_content': '想出售 含行李20Kg 桃園札幌來回 欲售6500 請PM',\n",
       "    'push_tm': '09/23 12:32',\n",
       "    'push_type': '→'},\n",
       "   {'push_author': 'wearebest',\n",
       "    'push_content': '1/9~1/4 湯澤 徵室友，也可一起滑',\n",
       "    'push_tm': '09/23 17:59',\n",
       "    'push_type': '推'},\n",
       "   {'push_author': 'wearebest',\n",
       "    'push_content': 'sb，可逛山。紅線S-Turn OK~',\n",
       "    'push_tm': '09/23 18:01',\n",
       "    'push_type': '→'},\n",
       "   {'push_author': 'wearebest',\n",
       "    'push_content': '可站內信',\n",
       "    'push_tm': '09/23 18:02',\n",
       "    'push_type': '→'},\n",
       "   {'push_author': 'wearebest',\n",
       "    'push_content': '是1/9-1/14',\n",
       "    'push_tm': '09/24 20:18',\n",
       "    'push_type': '推'},\n",
       "   {'push_author': 'taco100',\n",
       "    'push_content': '1/16-17 苗場 SB 內建3人 徵1~2人一同share教練',\n",
       "    'push_tm': '09/25 21:28',\n",
       "    'push_type': '推'},\n",
       "   {'push_author': 'johnwater',\n",
       "    'push_content': '苗場2/25~3/1 有重疊可一起逛山',\n",
       "    'push_tm': '09/27 21:45',\n",
       "    'push_type': '推'},\n",
       "   {'push_author': 'z6120',\n",
       "    'push_content': '苗場2/23 徵求教練，湊班 (已有2人，初學者)',\n",
       "    'push_tm': '09/28 14:21',\n",
       "    'push_type': '推'},\n",
       "   {'push_author': 'vincentness',\n",
       "    'push_content': '1/7~9 湯澤地區、舞子 Ski初級找人一起滑~',\n",
       "    'push_tm': '09/29 01:26',\n",
       "    'push_type': '推'},\n",
       "   {'push_author': 'kawakawa',\n",
       "    'push_content': '1/25-27 二世谷 SB 初學徵伴一起滑',\n",
       "    'push_tm': '09/29 14:21',\n",
       "    'push_type': '推'},\n",
       "   {'push_author': 'ssmmss',\n",
       "    'push_content': '1/5-1/8 野澤 求SB隊友',\n",
       "    'push_tm': '09/29 18:36',\n",
       "    'push_type': '推'},\n",
       "   {'push_author': 'ssmmss',\n",
       "    'push_content': '1/31 - 2/4 藏王 求SB室友（男）',\n",
       "    'push_tm': '09/29 18:39',\n",
       "    'push_type': '推'},\n",
       "   {'push_author': 'chichinew',\n",
       "    'push_content': '我要參加雪精靈的藏王八天團12/10-17 有人一起嘛？(女)',\n",
       "    'push_tm': '10/01 14:02',\n",
       "    'push_type': '推'},\n",
       "   {'push_author': 'chichinew',\n",
       "    'push_content': '目前是研究生、這次要初學ski，好幾年前跟團滑過SB',\n",
       "    'push_tm': '10/01 14:03',\n",
       "    'push_type': '→'},\n",
       "   {'push_author': 'kotoyan',\n",
       "    'push_content': '2/25-3/1湯澤ski中級一位，初級一位。有人這段期間也在',\n",
       "    'push_tm': '10/03 07:33',\n",
       "    'push_type': '推'},\n",
       "   {'push_author': 'kotoyan',\n",
       "    'push_content': '湯澤的話可以一起玩!',\n",
       "    'push_tm': '10/03 07:33',\n",
       "    'push_type': '→'},\n",
       "   {'push_author': 'iiifu1234',\n",
       "    'push_content': '12/18～12/20。富良野徵人一起上課，綠線s',\n",
       "    'push_tm': '10/03 08:20',\n",
       "    'push_type': '推'},\n",
       "   {'push_author': 'szuning13',\n",
       "    'push_content': '12/30~31苗場SB初學組團找教練上課，內建2人',\n",
       "    'push_tm': '10/04 09:57',\n",
       "    'push_type': '推'},\n",
       "   {'push_author': 'SURFMONKEY',\n",
       "    'push_content': '1/5-16 北海道, 道央/道南雪場都可以去！',\n",
       "    'push_tm': '10/04 22:30',\n",
       "    'push_type': '→'},\n",
       "   {'push_author': 'SURFMONKEY',\n",
       "    'push_content': '補充：SB/中級',\n",
       "    'push_tm': '10/04 22:31',\n",
       "    'push_type': '→'},\n",
       "   {'push_author': 'Babyblues23',\n",
       "    'push_content': '2017/02/03 鹿島槍10日技術精進團（雪精靈）有人有',\n",
       "    'push_tm': '10/05 10:06',\n",
       "    'push_type': '推'},\n",
       "   {'push_author': 'Babyblues23',\n",
       "    'push_content': '興趣嗎？',\n",
       "    'push_tm': '10/05 10:06',\n",
       "    'push_type': '→'},\n",
       "   {'push_author': 'bc2123',\n",
       "    'push_content': '初級程度，單人想找室友(女)，目前想報17/1~2月的團，東京',\n",
       "    'push_tm': '10/05 23:15',\n",
       "    'push_type': '推'},\n",
       "   {'push_author': 'bc2123',\n",
       "    'push_content': '歡迎站內信，加line~跟團自助都可以~目前看苗場、白馬居多',\n",
       "    'push_tm': '10/05 23:16',\n",
       "    'push_type': '→'},\n",
       "   {'push_author': 'alchi',\n",
       "    'push_content': '1/11-14(白馬) 1/14-16(野澤道祖)，單人徵室友(女)~',\n",
       "    'push_tm': '10/06 15:34',\n",
       "    'push_type': '推'},\n",
       "   {'push_author': 'alchi',\n",
       "    'push_content': 'SB/中級，詳細歡迎站內信詢問!',\n",
       "    'push_tm': '10/06 15:34',\n",
       "    'push_type': '→'},\n",
       "   {'push_author': 'ahuan',\n",
       "    'push_content': '2月底~3月初 白馬群山自助,詳細歡迎站內信詢問!',\n",
       "    'push_tm': '10/06 16:38',\n",
       "    'push_type': '推'},\n",
       "   {'push_author': 'phix',\n",
       "    'push_content': '雫石滑雪場跟立山山麓  哪個比較好啊?',\n",
       "    'push_tm': '10/06 17:55',\n",
       "    'push_type': '推'},\n",
       "   {'push_author': 'jaylan0920',\n",
       "    'push_content': '我們一家四口沒經驗的2/3在雫石求教練，站內信XD',\n",
       "    'push_tm': '10/07 11:01',\n",
       "    'push_type': '→'},\n",
       "   {'push_author': 'fanny78',\n",
       "    'push_content': '我報了傑克神教室1/30，2/1，2/2的SB LV1 徵野澤溫泉室',\n",
       "    'push_tm': '10/07 11:56',\n",
       "    'push_type': '推'},\n",
       "   {'push_author': 'fanny78',\n",
       "    'push_content': '友（女）',\n",
       "    'push_tm': '10/07 11:56',\n",
       "    'push_type': '→'},\n",
       "   {'push_author': 'lluvia3225',\n",
       "    'push_content': '12/9-12/10 輕井澤 徵人買4人早鳥票(目前2) 請站內信',\n",
       "    'push_tm': '10/07 12:48',\n",
       "    'push_type': '推'},\n",
       "   {'push_author': 'lluvia3225',\n",
       "    'push_content': '抱歉打錯了，是12/10-12/11這兩天喔！',\n",
       "    'push_tm': '10/07 13:19',\n",
       "    'push_type': '推'},\n",
       "   {'push_author': 'a18905303',\n",
       "    'push_content': '3/7~3/10 NEISKO 找室友:)',\n",
       "    'push_tm': '10/08 12:30',\n",
       "    'push_type': '推'},\n",
       "   {'push_author': 'paul0936',\n",
       "    'push_content': '2/28-3/1 苗場或輕井澤 分攤教練，房間，1人，沒滑雪經',\n",
       "    'push_tm': '10/08 14:45',\n",
       "    'push_type': '推'},\n",
       "   {'push_author': 'paul0936',\n",
       "    'push_content': '驗',\n",
       "    'push_tm': '10/08 14:45',\n",
       "    'push_type': '→'},\n",
       "   {'push_author': 'dwaw',\n",
       "    'push_content': '2/19~2/25 妙高赤倉 SB 想找伴一起滑雪, 並討論早鳥票購買',\n",
       "    'push_tm': '10/08 22:03',\n",
       "    'push_type': '推'},\n",
       "   {'push_author': 'k5613tw',\n",
       "    'push_content': '3/1-3/2 岩原滑雪場SB；徵教練，或找學者一起share教練',\n",
       "    'push_tm': '10/10 01:24',\n",
       "    'push_type': '推'},\n",
       "   {'push_author': 'k5613tw',\n",
       "    'push_content': '手殘漏字...找初學者一起share教練（已有2枚）',\n",
       "    'push_tm': '10/10 01:37',\n",
       "    'push_type': '→'},\n",
       "   {'push_author': 'alksx',\n",
       "    'push_content': '1/9~1/16野澤找伴一起滑雪line:alksx1216',\n",
       "    'push_tm': '10/11 02:54',\n",
       "    'push_type': '推'},\n",
       "   {'push_author': 'yyyiii',\n",
       "    'push_content': '雪精靈2/10的長野大山十日有人一起嗎？',\n",
       "    'push_tm': '10/11 13:52',\n",
       "    'push_type': '推'},\n",
       "   {'push_author': 'Narcissus13',\n",
       "    'push_content': '1/10-15苗場找雪伴，湊早鳥雪票。可下紅線',\n",
       "    'push_tm': '10/12 23:55',\n",
       "    'push_type': '推'},\n",
       "   {'push_author': 'frank990',\n",
       "    'push_content': '1/3-1/4，北海道盤溪初學者2人徵2人一起分攤SB教練',\n",
       "    'push_tm': '10/16 03:20',\n",
       "    'push_type': '推'},\n",
       "   {'push_author': 'crusoeisland',\n",
       "    'push_content': '1/6-1/7 盤溪或手稻。初學者徵中文教練或可share教',\n",
       "    'push_tm': '10/18 11:32',\n",
       "    'push_type': '推'},\n",
       "   {'push_author': 'crusoeisland',\n",
       "    'push_content': '練費用者～',\n",
       "    'push_tm': '10/18 11:32',\n",
       "    'push_type': '→'},\n",
       "   {'push_author': 'Babyblues23',\n",
       "    'push_content': '2/11-2/13上越國際',\n",
       "    'push_tm': '10/18 20:11',\n",
       "    'push_type': '推'},\n",
       "   {'push_author': 'Babyblues23',\n",
       "    'push_content': '想找人一起share住宿（限女）',\n",
       "    'push_tm': '10/18 20:11',\n",
       "    'push_type': '→'},\n",
       "   {'push_author': 'Babyblues23',\n",
       "    'push_content': '雙人房2晚+早晚餐+纜車票+雪具租借一共是13000台幣',\n",
       "    'push_tm': '10/18 20:11',\n",
       "    'push_type': '→'},\n",
       "   {'push_author': 'Babyblues23',\n",
       "    'push_content': '有興趣請站內信～',\n",
       "    'push_tm': '10/18 20:11',\n",
       "    'push_type': '→'},\n",
       "   {'push_author': 'minghuan',\n",
       "    'push_content': '2017/2/5-2/7苗場Snowboard三天，找人share教練，無經驗',\n",
       "    'push_tm': '10/20 21:30',\n",
       "    'push_type': '推'},\n",
       "   {'push_author': 'tboy0128',\n",
       "    'push_content': '2017/12/11-14 苗場找share 住宿！',\n",
       "    'push_tm': '10/22 19:53',\n",
       "    'push_type': '推'},\n",
       "   {'push_author': 'ltx',\n",
       "    'push_content': '2016/12/3-7 二世谷 找人share SB教練, 紅線S',\n",
       "    'push_tm': '10/25 10:04',\n",
       "    'push_type': '推'},\n",
       "   {'push_author': 'lnx',\n",
       "    'push_content': '12/23, 24 北海道七飯 徵人一起',\n",
       "    'push_tm': '10/26 01:13',\n",
       "    'push_type': '推'},\n",
       "   {'push_author': 'foreversport',\n",
       "    'push_content': '2017/1/31輕井澤全新手找人share教練',\n",
       "    'push_tm': '10/26 01:46',\n",
       "    'push_type': '推'},\n",
       "   {'push_author': 'Babyblues23',\n",
       "    'push_content': '2/11-13舞子高原 徵女室友',\n",
       "    'push_tm': '10/26 13:18',\n",
       "    'push_type': '推'},\n",
       "   {'push_author': 'Babyblues23',\n",
       "    'push_content': '（4360元兩晚含早晚餐&2天纜車票）請站內信～～～',\n",
       "    'push_tm': '10/26 13:18',\n",
       "    'push_type': '→'},\n",
       "   {'push_author': 'heyerica',\n",
       "    'push_content': '徵求12/12-13 苗場 share SB教練 程度初學 謝謝',\n",
       "    'push_tm': '10/27 22:16',\n",
       "    'push_type': '推'},\n",
       "   {'push_author': 'amandaptt',\n",
       "    'push_content': '12/20-23可提供教學本人有CASI證照地點彈性請私訊聯絡',\n",
       "    'push_tm': '10/29 02:54',\n",
       "    'push_type': '推'},\n",
       "   {'push_author': 'lochiwu',\n",
       "    'push_content': '徵2016/12/23-24或12/24-25 輕井澤初學者 share中文教練',\n",
       "    'push_tm': '10/29 03:44',\n",
       "    'push_type': '推'},\n",
       "   {'push_author': 'lochiwu',\n",
       "    'push_content': '費',\n",
       "    'push_tm': '10/29 03:44',\n",
       "    'push_type': '→'},\n",
       "   {'push_author': 'gako',\n",
       "    'push_content': '12/13-16 徵苗場share住宿 SB教練 初學程度',\n",
       "    'push_tm': '10/29 10:21',\n",
       "    'push_type': '推'},\n",
       "   {'push_author': 'cyclades324',\n",
       "    'push_content': '徵3/6-3/10星野教練，無經驗2人',\n",
       "    'push_tm': '10/29 22:51',\n",
       "    'push_type': '推'},\n",
       "   {'push_author': 'celloli',\n",
       "    'push_content': '1/29-2/3 苗場王子住宿已訂 徵人share雙人房 ㄧ人約14000',\n",
       "    'push_tm': '10/30 14:04',\n",
       "    'push_type': '推'},\n",
       "   {'push_author': 'celloli',\n",
       "    'push_content': '左右 我是玩SB 可以ㄧ起玩或是自由行動都可以 有興趣者',\n",
       "    'push_tm': '10/30 14:04',\n",
       "    'push_type': '→'},\n",
       "   {'push_author': 'celloli',\n",
       "    'push_content': '請站內信謝謝',\n",
       "    'push_tm': '10/30 14:04',\n",
       "    'push_type': '→'},\n",
       "   {'push_author': 'frankma918',\n",
       "    'push_content': '我要參加高豐的鹿島槍10日滑雪營，有人要一起的嗎？',\n",
       "    'push_tm': '10/31 14:52',\n",
       "    'push_type': '推'},\n",
       "   {'push_author': 'frankma918',\n",
       "    'push_content': '1人1床，包三餐及8天的教練，詳情可再寄信問我',\n",
       "    'push_tm': '10/31 14:53',\n",
       "    'push_type': '→'},\n",
       "   {'push_author': 'hsuey',\n",
       "    'push_content': '1/1輕井澤SB兩位要請教練，朋友完全沒學過，我1-2次，徵一',\n",
       "    'push_tm': '11/01 08:57',\n",
       "    'push_type': '推'},\n",
       "   {'push_author': 'hsuey',\n",
       "    'push_content': '起分教練請私',\n",
       "    'push_tm': '11/01 08:57',\n",
       "    'push_type': '→'},\n",
       "   {'push_author': 'canita',\n",
       "    'push_content': '我1人初學,想上4ski 或snowboard都行。時間1/31-2/3在苗場',\n",
       "    'push_tm': '11/01 13:09',\n",
       "    'push_type': '推'},\n",
       "   {'push_author': 'canita',\n",
       "    'push_content': '或GALA想找伴SHARE教練或有人可以讓我加入',\n",
       "    'push_tm': '11/01 13:10',\n",
       "    'push_type': '→'},\n",
       "   {'push_author': 'iopot',\n",
       "    'push_content': '106/2/8或9北海道盤溪新手找伴shareSB中文教練或有缺人找我',\n",
       "    'push_tm': '11/02 00:01',\n",
       "    'push_type': '推'},\n",
       "   {'push_author': 'etowl',\n",
       "    'push_content': '1/9-16 白馬 今年決定參加雪協進階訓，有空一起翹課玩',\n",
       "    'push_tm': '11/02 13:37',\n",
       "    'push_type': '推'},\n",
       "   {'push_author': 'nowish',\n",
       "    'push_content': '12/5~12/8在星野~有人要一起滑嗎',\n",
       "    'push_tm': '11/03 17:21',\n",
       "    'push_type': '推'},\n",
       "   {'push_author': 'mlmfree',\n",
       "    'push_content': '2/27~3/4 sb想找人share教練 時間地點可以來信討論',\n",
       "    'push_tm': '11/06 13:51',\n",
       "    'push_type': '推'},\n",
       "   {'push_author': 'YUG0',\n",
       "    'push_content': '徵人一起報中毒者苗場團，住OKA，12/19、20或25出發皆可～',\n",
       "    'push_tm': '11/06 20:31',\n",
       "    'push_type': '推'},\n",
       "   {'push_author': 'canita',\n",
       "    'push_content': '計劃1/3-1/7苗場想找人SHARE教練,初學SB',\n",
       "    'push_tm': '11/07 23:31',\n",
       "    'push_type': '推'},\n",
       "   {'push_author': 'boinnie98',\n",
       "    'push_content': '徵求2-4月北海道自助雪伴（女）我SB可S，北海道地點時',\n",
       "    'push_tm': '11/09 13:55',\n",
       "    'push_type': '推'},\n",
       "   {'push_author': 'boinnie98',\n",
       "    'push_content': '間可商量，但希望避開連假',\n",
       "    'push_tm': '11/09 13:55',\n",
       "    'push_type': '→'},\n",
       "   {'push_author': 'blacker112',\n",
       "    'push_content': '12/18~19，SB新手*2，想找人SHARE教練',\n",
       "    'push_tm': '11/09 18:35',\n",
       "    'push_type': '推'},\n",
       "   {'push_author': 'celloli',\n",
       "    'push_content': '1/30-2/3 苗場自助徵1人share房費 玩SB',\n",
       "    'push_tm': '11/09 22:15',\n",
       "    'push_type': '推'},\n",
       "   {'push_author': 'x8853176',\n",
       "    'push_content': '2/23～3/1 白馬 中高階徵可互拍攝影',\n",
       "    'push_tm': '11/09 23:23',\n",
       "    'push_type': '推'},\n",
       "   {'push_author': 'sandra19357',\n",
       "    'push_content': '12/28-30北京南山滑雪場，有人也在嗎，歡迎作伴.....',\n",
       "    'push_tm': '11/10 18:39',\n",
       "    'push_type': '推'},\n",
       "   {'push_author': 'sandra19357',\n",
       "    'push_content': '內地伴出現吧',\n",
       "    'push_tm': '11/10 18:39',\n",
       "    'push_type': '→'},\n",
       "   {'push_author': 'gigihung',\n",
       "    'push_content': '1/1 輕井澤 share教練，目前兩人想玩ski,初學',\n",
       "    'push_tm': '11/12 00:46',\n",
       "    'push_type': '推'},\n",
       "   {'push_author': 'ray83215',\n",
       "    'push_content': '2017. 1/2～1/4 gala湯澤滑雪 徴雪友 我ski中級紅跔A',\n",
       "    'push_tm': '11/12 01:03',\n",
       "    'push_type': '推'},\n",
       "   {'push_author': 'ray83215',\n",
       "    'push_content': '可以也一起請教練',\n",
       "    'push_tm': '11/12 01:03',\n",
       "    'push_type': '→'},\n",
       "   {'push_author': 'swabasic',\n",
       "    'push_content': '12/03,12/04 手稻 自己一個人找人一起找教練',\n",
       "    'push_tm': '11/12 13:59',\n",
       "    'push_type': '推'},\n",
       "   {'push_author': 'fish213',\n",
       "    'push_content': '1/18-1/22 苗場男生一個，19、20會請教練',\n",
       "    'push_tm': '11/12 16:40',\n",
       "    'push_type': '推'},\n",
       "   {'push_author': 'shangyo1985',\n",
       "    'push_content': '徵人一起報中毒者苗場團，住OKA，1/16出發～',\n",
       "    'push_tm': '11/14 01:02',\n",
       "    'push_type': '推'},\n",
       "   {'push_author': 'eking1987',\n",
       "    'push_content': '12/26-12/30 Niseko 近比羅夫小木屋還缺1男室友，詳細',\n",
       "    'push_tm': '11/14 12:30',\n",
       "    'push_type': '推'},\n",
       "   {'push_author': 'eking1987',\n",
       "    'push_content': '請站內信',\n",
       "    'push_tm': '11/14 12:30',\n",
       "    'push_type': '→'},\n",
       "   {'push_author': 'channychen',\n",
       "    'push_content': '1/25 琵琶湖2人無經驗，徵雪友及教練',\n",
       "    'push_tm': '11/14 23:12',\n",
       "    'push_type': '推'},\n",
       "   {'push_author': 'tsuji',\n",
       "    'push_content': '12/29gala湯澤1日滑雪 初學 目前2位 徵share教練',\n",
       "    'push_tm': '11/15 12:39',\n",
       "    'push_type': '推'},\n",
       "   {'push_author': 'cagge',\n",
       "    'push_content': '1/30-2/1藏王，2/3-2/5安比高原，有同時的可一起滑',\n",
       "    'push_tm': '11/16 01:53',\n",
       "    'push_type': '推'},\n",
       "   {'push_author': 'orange610',\n",
       "    'push_content': '1/27~1/29二世谷徵人一起SHARE 野雪塾進階SB教練',\n",
       "    'push_tm': '11/16 14:24',\n",
       "    'push_type': '推'},\n",
       "   {'push_author': 'richman',\n",
       "    'push_content': '12/13 ~18 niseko hirafu 小木屋可以再徵兩位唷',\n",
       "    'push_tm': '11/18 14:04',\n",
       "    'push_type': '推'},\n",
       "   {'push_author': 'pleaseCLAP',\n",
       "    'push_content': '1/10-11求野澤ski教練',\n",
       "    'push_tm': '11/18 21:19',\n",
       "    'push_type': '推'},\n",
       "   {'push_author': 'laksd753951',\n",
       "    'push_content': '1/22 長野志賀揪團目前已3人 詳情請站內信',\n",
       "    'push_tm': '11/18 21:20',\n",
       "    'push_type': '推'},\n",
       "   {'push_author': 'evenif',\n",
       "    'push_content': '2/16-19星野SB初學者徵教練一位  詳請站內信',\n",
       "    'push_tm': '11/19 16:50',\n",
       "    'push_type': '→'},\n",
       "   {'push_author': 'sindunsindun',\n",
       "    'push_content': '12/19-23滑雪中毒者 缺一',\n",
       "    'push_tm': '11/19 17:25',\n",
       "    'push_type': '推'},\n",
       "   {'push_author': 'SURFMONKEY',\n",
       "    'push_content': '徵中級伴一起玩 1/6-9 札幌小樽附近，1/10-14 Hiraf',\n",
       "    'push_tm': '11/20 21:23',\n",
       "    'push_type': '推'},\n",
       "   {'push_author': 'SURFMONKEY',\n",
       "    'push_content': 'u，',\n",
       "    'push_tm': '11/20 21:23',\n",
       "    'push_type': '→'},\n",
       "   {'push_author': 'chunjing',\n",
       "    'push_content': '12/6或7，關西六甲山，2人ski徵教練',\n",
       "    'push_tm': '11/22 07:39',\n",
       "    'push_type': '推'},\n",
       "   {'push_author': 'jenny011625',\n",
       "    'push_content': '徵2/14輕井澤分教練錢(目前兩人皆沒學過)，意者私',\n",
       "    'push_tm': '11/23 23:05',\n",
       "    'push_type': '推'},\n",
       "   {'push_author': 'foxelitex',\n",
       "    'push_content': '2/26~3/3苗場滑雪 兩人(沒學過)找教練或作伴，意者私',\n",
       "    'push_tm': '11/25 07:29',\n",
       "    'push_type': '推'},\n",
       "   {'push_author': 'forevercloud',\n",
       "    'push_content': '1/11或1/12 盤溪 兩人初學者想找人一起share教練費',\n",
       "    'push_tm': '11/26 09:07',\n",
       "    'push_type': '推'},\n",
       "   {'push_author': 'forevercloud',\n",
       "    'push_content': '意者請站內信聯絡',\n",
       "    'push_tm': '11/26 09:07',\n",
       "    'push_type': '→'},\n",
       "   {'push_author': 'kotoyan',\n",
       "    'push_content': '1/11-1/15湯澤 ski中級找伴，另徵ski教練教初級一人',\n",
       "    'push_tm': '11/28 20:21',\n",
       "    'push_type': '推'},\n",
       "   {'push_author': 'wms0128',\n",
       "    'push_content': '徵2/25-3/1 ClubMed女性室友一人，或是轉讓二人房一間 09',\n",
       "    'push_tm': '11/30 12:34',\n",
       "    'push_type': '推'},\n",
       "   {'push_author': 'wms0128',\n",
       "    'push_content': '0919156634 Ms 梁',\n",
       "    'push_tm': '11/30 12:35',\n",
       "    'push_type': '→'},\n",
       "   {'push_author': 'rick7712',\n",
       "    'push_content': '1/6 新手＋非新手 找藏王教練',\n",
       "    'push_tm': '12/03 15:40',\n",
       "    'push_type': '推'},\n",
       "   {'push_author': 'chienhanchen',\n",
       "    'push_content': '3/4-8 留壽都飯店住宿找室友',\n",
       "    'push_tm': '12/04 13:42',\n",
       "    'push_type': '推'},\n",
       "   {'push_author': 'aiik',\n",
       "    'push_content': '1/27-2/5 時間彈性，北海道/長野，ski紅，想學SB，徵伴或團',\n",
       "    'push_tm': '12/04 22:40',\n",
       "    'push_type': '推'},\n",
       "   {'push_author': 'mizukichiba',\n",
       "    'push_content': '1/10~11 新手藏王找SB教練',\n",
       "    'push_tm': '12/06 22:20',\n",
       "    'push_type': '推'},\n",
       "   {'push_author': 'ianstar',\n",
       "    'push_content': '1/13~19藏王 初中級找伴練功和逛山',\n",
       "    'push_tm': '12/08 13:43',\n",
       "    'push_type': '推'},\n",
       "   {'push_author': 'hem',\n",
       "    'push_content': '1/11 輕井澤找伴 share 教練費 2人新手 SB',\n",
       "    'push_tm': '12/08 17:52',\n",
       "    'push_type': '推'},\n",
       "   {'push_author': 'opl363',\n",
       "    'push_content': '12/9-10 北海道留壽都徵人一起滑雪，可以幫看動作哦',\n",
       "    'push_tm': '12/09 09:36',\n",
       "    'push_type': '→'},\n",
       "   {'push_author': 'opl363',\n",
       "    'push_content': '忘了說我們是SB!',\n",
       "    'push_tm': '12/09 09:36',\n",
       "    'push_type': '→'},\n",
       "   {'push_author': 'a98382000',\n",
       "    'push_content': '1/7湯澤GALA 找教練 2人新手SB 請站內信',\n",
       "    'push_tm': '12/10 20:46',\n",
       "    'push_type': '推'},\n",
       "   {'push_author': 'Charlene27',\n",
       "    'push_content': '2/15~2/16 野澤溫泉share教練費SB',\n",
       "    'push_tm': '12/14 09:04',\n",
       "    'push_type': '推'},\n",
       "   {'push_author': 'Asiang',\n",
       "    'push_content': '1/24～1/27白馬Hotel Abest徵室友，一個人去滑雪所以想徵',\n",
       "    'push_tm': '12/14 13:06',\n",
       "    'push_type': '推'},\n",
       "   {'push_author': 'GxpU8538',\n",
       "    'push_content': '1/15-18 苗場找伴～',\n",
       "    'push_tm': '12/14 22:28',\n",
       "    'push_type': '推'},\n",
       "   {'push_author': 'candevil',\n",
       "    'push_content': '2/27二世谷annupri SB初級找人一起分教練錢 請私信',\n",
       "    'push_tm': '12/15 12:16',\n",
       "    'push_type': '推'},\n",
       "   {'push_author': 'wacoww',\n",
       "    'push_content': '徵求野澤2/23-2/25 SB教練',\n",
       "    'push_tm': '12/15 18:22',\n",
       "    'push_type': '推'},\n",
       "   {'push_author': 'ianstar',\n",
       "    'push_content': '開了一個藏王觀光滑雪情報交流揪團line群 意者請站內信',\n",
       "    'push_tm': '12/15 21:30',\n",
       "    'push_type': '推'},\n",
       "   {'push_author': 'bludmind',\n",
       "    'push_content': '想跟雪精靈3/9志賀自由行的團~徵室友(女) SB中級',\n",
       "    'push_tm': '12/16 17:06',\n",
       "    'push_type': '推'},\n",
       "   {'push_author': 'mhietzae',\n",
       "    'push_content': '2/7-8二世谷SB新手1人 揪團找教練 1月會先去小叮噹學',\n",
       "    'push_tm': '12/17 09:31',\n",
       "    'push_type': '推'},\n",
       "   {'push_author': 'justmediocri',\n",
       "    'push_content': '12/27-12/28新手3人想找人share教練費 ski/sb再討論',\n",
       "    'push_tm': '12/19 22:43',\n",
       "    'push_type': '推'},\n",
       "   {'push_author': 'shanliutw',\n",
       "    'push_content': '2月中 白馬 有經驗2人想再找兩位share教練 SB',\n",
       "    'push_tm': '12/21 11:10',\n",
       "    'push_type': '推'},\n",
       "   {'push_author': 'intov',\n",
       "    'push_content': '2/16~17 苗場SB無經驗兩人 想再找兩位share教練',\n",
       "    'push_tm': '12/24 00:25',\n",
       "    'push_type': '噓'},\n",
       "   {'push_author': 'intov',\n",
       "    'push_content': '抱歉 按到噓...',\n",
       "    'push_tm': '12/24 00:25',\n",
       "    'push_type': '→'},\n",
       "   {'push_author': 'intov',\n",
       "    'push_content': '補推',\n",
       "    'push_tm': '12/24 00:44',\n",
       "    'push_type': '推'},\n",
       "   {'push_author': 'echi',\n",
       "    'push_content': '12/26~31 北志賀龍王滑雪場 想找人share教練',\n",
       "    'push_tm': '12/25 16:16',\n",
       "    'push_type': '推'},\n",
       "   {'push_author': 'bludmind',\n",
       "    'push_content': '2月底3月初 KIRORO徵室友(女)',\n",
       "    'push_tm': '12/26 18:20',\n",
       "    'push_type': '推'}],\n",
       "  'title': '[揪團] 16/17 雪季糾團滑雪媒合區',\n",
       "  'tm': 'Mon Jun  6 21:12:09 2016'},\n",
       " {'author': 'SLAC (滑雪教練Phil)',\n",
       "  'board': 'SkiSnowboard',\n",
       "  'content': '這是Snowkon小宇整理出來的可能提供中文滑雪教學的單位\\n\\n我稍微整理如下 大家可以參考\\n\\n\\n白馬\\nEVERGREEN OUTDOOR CENTER\\nhttp://www.evergreen-hakuba.com/en/\\n白馬雪龍中文滑雪教室\\nhttps://www.facebook.com/hakubasnowdragon\\n無限界滑走國際滑雪學校\\nhttps://www.facebook.com/CrossShredSnowSports\\n\\n二世谷\\nSNOW COUNTRY INSTRUCTORS\\nhttp://www.snowcountry-instructors-hokkaido.com/chinese-instructors/\\nTHE WHITE ROOM\\nhttp://thewhiteroom.co.jp/\\n\\n野澤\\n傑克神滑雪教室\\nhttps://www.facebook.com/Jackson.SB.SKI/\\n\\n不特定區域\\nSKIDIY 自助滑雪\\nhttps://www.facebook.com/groups/162747074061712\\nYKT Snow School\\nhttps://m.facebook.com/YKT-SNOW-School-1686105854995415/\\n樂活滑雪旅遊\\nhttps://www.facebook.com/lohaski\\n野雪塾 Noyuki Academy\\nhttps://www.facebook.com/noyukia\\n\\n\\n\\n★下列為雪場中文教學單位部份 :\\n苗場王子飯店官方滑雪學校Naeba Snow School\\nhttps://www.facebook.com/NaebaSnowSchool/\\n\\n星野與留壽都滑雪學校也有可能提供中文教學\\n\\n★下列為旅行社部份 :\\n那魯灣旅行社\\nhttp://www.naruwan.com/eWeb/GI/L_GI_List_CORE.asp\\n高豐旅行社 / 雪精靈滑雪營\\nhttps://www.facebook.com/skicamp/\\n高豐旅行社 / 滑板基地\\nhttp://www.snowboard.com.tw/\\n可樂旅遊 （哈哈哈 要報名可樂旅遊可以找原PO我Phil）\\nhttp://www.colatour.com.tw/webDM/tour/japan/ski/tomamu.html#con01\\n雄獅旅遊\\nhttp://www.liontravel.com/promotion/bigsale/ski/page1.html?Sprima=def00R3A10\\n歐普雷旅行社\\nhttp://www.o-play.com.tw/eWeb_allplay/template/index.asp\\n芬達旅遊 / 極光滑雪學校\\nhttp://www.fantast.com.tw/eWeb_fantast/project/2017ski/index.html\\n櫻雪旅行社 / 滑雪中毒者\\nhttp://www.skisnow.com.tw/\\n巨泰旅行社 / 雪地飛象\\nhttp://www.juj.com.tw/webeip/HT01010/\\n晴天旅遊\\nhttp://www.sundaytour.com.tw/#\\n\\n\\n\\n--\\n╭═╮\\u3000\\u3000\\u3000 \\u3000╭═╮\\u3000\\u3000\\u3000\\u3000\\u3000\\u3000\\u3000\\u3000\\u3000\\u3000\\u3000\\u3000\\u3000\\u3000\\u3000\\u3000\\u3000\\u3000 \\u3000\\u3000\\u3000\\u3000\\u3000\\n║\\u3000\\u3000╮\\u3000\\u3000 。║\\u3000\\u3000\\u3000\\u3000\\u3000\\u3000\\u3000\\u3000\\u3000\\u3000\\u3000╮\\u3000\\u3000\\u3000\\u3000\\u3000\\u3000\\u3000\\u3000 \\u3000\\u3000\\u3000\\u3000╭國家體育場\\n╰═╮║\\u3000╮ ╦╰═╮╮═╮╭═╮╮╮╮║═╮╭═╮╭═╮ ╮╭╭═║    ↓\\n\\u3000\\u3000║║\\u3000║ ║\\u3000\\u3000║║\\u3000║║\\u3000║║║║║  ║║  ║╭═╣ ╠╯║  ║ PttSport\\n║\\u3000║╠╦╯ ║\\u3000\\u3000║║\\u3000║║\\u3000║║║║║  ║║  ║║  ║ ║\\u3000║  ║    ↓     \\n╰═╯╯╰═ ╩╰═╯╰\\u3000╰╰═╯╰╩╯╰═╯╰═╯╰═╰ ╯\\u3000╰═╯  滑雪板   \\n\\n--',\n",
       "  'ip': '219.85.246.94',\n",
       "  'pushs': [{'push_author': 'clarkchang',\n",
       "    'push_content': '推!',\n",
       "    'push_tm': '10/16 21:33',\n",
       "    'push_type': '推'},\n",
       "   {'push_author': 'HAOCHEN',\n",
       "    'push_content': '推 好實用的資訊',\n",
       "    'push_tm': '10/16 22:37',\n",
       "    'push_type': '推'},\n",
       "   {'push_author': 'SLAC',\n",
       "    'push_content': '可以說是Phil Lai介紹的 嘻嘻',\n",
       "    'push_tm': '10/17 01:03',\n",
       "    'push_type': '→'},\n",
       "   {'push_author': 'zx87p',\n",
       "    'push_content': '推整理。版主辛苦了。',\n",
       "    'push_tm': '10/17 16:50',\n",
       "    'push_type': '推'},\n",
       "   {'push_author': 'jabbd',\n",
       "    'push_content': '推',\n",
       "    'push_tm': '10/18 08:59',\n",
       "    'push_type': '推'},\n",
       "   {'push_author': 'uinwen',\n",
       "    'push_content': '用心推！',\n",
       "    'push_tm': '10/21 12:25',\n",
       "    'push_type': '推'},\n",
       "   {'push_author': 'hamk5202',\n",
       "    'push_content': '拜謝~',\n",
       "    'push_tm': '10/22 22:05',\n",
       "    'push_type': '推'},\n",
       "   {'push_author': 'JimBrass',\n",
       "    'push_content': '正需要這類資訊，感謝您～！',\n",
       "    'push_tm': '10/26 09:53',\n",
       "    'push_type': '推'}],\n",
       "  'title': '[情報] 提供中文滑雪教學的單位',\n",
       "  'tm': 'Sun Oct 16 12:28:18 2016'}]"
      ]
     },
     "execution_count": 18,
     "metadata": {},
     "output_type": "execute_result"
    }
   ],
   "source": [
    "with open('./ptt_skisnowboard.json') as f:\n",
    "    ptt_data = json.loads(f.read())\n",
    "\n",
    "ptt_data"
   ]
  },
  {
   "cell_type": "markdown",
   "metadata": {},
   "source": [
    "# Datetime"
   ]
  },
  {
   "cell_type": "code",
   "execution_count": 23,
   "metadata": {
    "collapsed": true
   },
   "outputs": [],
   "source": [
    "from datetime import datetime, timedelta"
   ]
  },
  {
   "cell_type": "code",
   "execution_count": 20,
   "metadata": {
    "collapsed": false
   },
   "outputs": [
    {
     "data": {
      "text/plain": [
       "<module 'datetime' from '/Users/ian/.pyenv/versions/3.5.2/lib/python3.5/datetime.py'>"
      ]
     },
     "execution_count": 20,
     "metadata": {},
     "output_type": "execute_result"
    }
   ],
   "source": [
    "datetime"
   ]
  },
  {
   "cell_type": "code",
   "execution_count": 25,
   "metadata": {
    "collapsed": false
   },
   "outputs": [
    {
     "data": {
      "text/plain": [
       "datetime.timedelta(1)"
      ]
     },
     "execution_count": 25,
     "metadata": {},
     "output_type": "execute_result"
    }
   ],
   "source": [
    "timedelta(days=1)"
   ]
  },
  {
   "cell_type": "code",
   "execution_count": 32,
   "metadata": {
    "collapsed": false
   },
   "outputs": [
    {
     "data": {
      "text/plain": [
       "datetime.datetime(2016, 12, 27, 9, 47, 57, 845401)"
      ]
     },
     "execution_count": 32,
     "metadata": {},
     "output_type": "execute_result"
    }
   ],
   "source": [
    "datetime.now()"
   ]
  },
  {
   "cell_type": "code",
   "execution_count": 33,
   "metadata": {
    "collapsed": false
   },
   "outputs": [
    {
     "data": {
      "text/plain": [
       "2016"
      ]
     },
     "execution_count": 33,
     "metadata": {},
     "output_type": "execute_result"
    }
   ],
   "source": [
    "datetime.now().year"
   ]
  },
  {
   "cell_type": "code",
   "execution_count": 34,
   "metadata": {
    "collapsed": false
   },
   "outputs": [
    {
     "data": {
      "text/plain": [
       "12"
      ]
     },
     "execution_count": 34,
     "metadata": {},
     "output_type": "execute_result"
    }
   ],
   "source": [
    "datetime.now().month"
   ]
  },
  {
   "cell_type": "code",
   "execution_count": 35,
   "metadata": {
    "collapsed": false
   },
   "outputs": [
    {
     "data": {
      "text/plain": [
       "27"
      ]
     },
     "execution_count": 35,
     "metadata": {},
     "output_type": "execute_result"
    }
   ],
   "source": [
    "datetime.now().day"
   ]
  },
  {
   "cell_type": "code",
   "execution_count": 27,
   "metadata": {
    "collapsed": false
   },
   "outputs": [
    {
     "data": {
      "text/plain": [
       "datetime.datetime(2016, 12, 26, 9, 43, 2, 840932)"
      ]
     },
     "execution_count": 27,
     "metadata": {},
     "output_type": "execute_result"
    }
   ],
   "source": [
    "datetime.now() - timedelta(days=1)"
   ]
  },
  {
   "cell_type": "code",
   "execution_count": 21,
   "metadata": {
    "collapsed": true
   },
   "outputs": [],
   "source": [
    "push_tm = '12/26 21:45'"
   ]
  },
  {
   "cell_type": "code",
   "execution_count": 36,
   "metadata": {
    "collapsed": false
   },
   "outputs": [
    {
     "data": {
      "text/plain": [
       "datetime.datetime(2016, 12, 26, 21, 45)"
      ]
     },
     "execution_count": 36,
     "metadata": {},
     "output_type": "execute_result"
    }
   ],
   "source": [
    "mydt = datetime.strptime('2016/' + push_tm, \"%Y/%m/%d %H:%M\")\n",
    "mydt"
   ]
  },
  {
   "cell_type": "code",
   "execution_count": 37,
   "metadata": {
    "collapsed": false
   },
   "outputs": [
    {
     "data": {
      "text/plain": [
       "'2016-12-26 21:45'"
      ]
     },
     "execution_count": 37,
     "metadata": {},
     "output_type": "execute_result"
    }
   ],
   "source": [
    "mydt.strftime(\"%Y-%m-%d %H:%M\")"
   ]
  },
  {
   "cell_type": "code",
   "execution_count": 65,
   "metadata": {
    "collapsed": false
   },
   "outputs": [
    {
     "data": {
      "text/plain": [
       "1482759900.0"
      ]
     },
     "execution_count": 65,
     "metadata": {},
     "output_type": "execute_result"
    }
   ],
   "source": [
    "mydt.timestamp()"
   ]
  },
  {
   "cell_type": "code",
   "execution_count": 64,
   "metadata": {
    "collapsed": false
   },
   "outputs": [
    {
     "data": {
      "text/plain": [
       "1482676592.0"
      ]
     },
     "execution_count": 64,
     "metadata": {},
     "output_type": "execute_result"
    }
   ],
   "source": [
    "article_tm = 'Sun Dec 25 22:36:32 2016'\n",
    "datetime.strptime(article_tm, \"%a %b %d %H:%M:%S %Y\").timestamp()"
   ]
  },
  {
   "cell_type": "code",
   "execution_count": 59,
   "metadata": {
    "collapsed": true
   },
   "outputs": [],
   "source": [
    "# Another way to get current UNIX timestamp"
   ]
  },
  {
   "cell_type": "code",
   "execution_count": 39,
   "metadata": {
    "collapsed": true
   },
   "outputs": [],
   "source": [
    "import time"
   ]
  },
  {
   "cell_type": "code",
   "execution_count": 58,
   "metadata": {
    "collapsed": false
   },
   "outputs": [
    {
     "data": {
      "text/plain": [
       "1482803420.155398"
      ]
     },
     "execution_count": 58,
     "metadata": {},
     "output_type": "execute_result"
    }
   ],
   "source": [
    "time.time()"
   ]
  },
  {
   "cell_type": "markdown",
   "metadata": {},
   "source": [
    "# Regular Expression"
   ]
  },
  {
   "cell_type": "code",
   "execution_count": 66,
   "metadata": {
    "collapsed": true
   },
   "outputs": [],
   "source": [
    "import re"
   ]
  },
  {
   "cell_type": "code",
   "execution_count": 90,
   "metadata": {
    "collapsed": true
   },
   "outputs": [],
   "source": [
    "mystr = 'I have a pen, I have an apple'"
   ]
  },
  {
   "cell_type": "code",
   "execution_count": 93,
   "metadata": {
    "collapsed": true
   },
   "outputs": [],
   "source": [
    "match = re.match('pen', mystr) # Match from beginning"
   ]
  },
  {
   "cell_type": "code",
   "execution_count": 94,
   "metadata": {
    "collapsed": false
   },
   "outputs": [
    {
     "ename": "AttributeError",
     "evalue": "'NoneType' object has no attribute 'group'",
     "output_type": "error",
     "traceback": [
      "\u001b[0;31m---------------------------------------------------------------------------\u001b[0m",
      "\u001b[0;31mAttributeError\u001b[0m                            Traceback (most recent call last)",
      "\u001b[0;32m<ipython-input-94-f6ba369a70a4>\u001b[0m in \u001b[0;36m<module>\u001b[0;34m()\u001b[0m\n\u001b[0;32m----> 1\u001b[0;31m \u001b[0mmatch\u001b[0m\u001b[0;34m.\u001b[0m\u001b[0mgroup\u001b[0m\u001b[0;34m(\u001b[0m\u001b[0;36m0\u001b[0m\u001b[0;34m)\u001b[0m\u001b[0;34m\u001b[0m\u001b[0m\n\u001b[0m",
      "\u001b[0;31mAttributeError\u001b[0m: 'NoneType' object has no attribute 'group'"
     ]
    }
   ],
   "source": [
    "match.group(0)"
   ]
  },
  {
   "cell_type": "code",
   "execution_count": 79,
   "metadata": {
    "collapsed": false
   },
   "outputs": [
    {
     "data": {
      "text/plain": [
       "'pen'"
      ]
     },
     "execution_count": 79,
     "metadata": {},
     "output_type": "execute_result"
    }
   ],
   "source": [
    "match = re.search('p.n', mystr) # Search in the string\n",
    "match.group(0)"
   ]
  },
  {
   "cell_type": "code",
   "execution_count": 86,
   "metadata": {
    "collapsed": false
   },
   "outputs": [
    {
     "data": {
      "text/plain": [
       "'p1n'"
      ]
     },
     "execution_count": 86,
     "metadata": {},
     "output_type": "execute_result"
    }
   ],
   "source": [
    "match = re.search('p\\wn', mystr)\n",
    "match.group(0)"
   ]
  },
  {
   "cell_type": "code",
   "execution_count": 84,
   "metadata": {
    "collapsed": false
   },
   "outputs": [
    {
     "data": {
      "text/plain": [
       "'hav'"
      ]
     },
     "execution_count": 84,
     "metadata": {},
     "output_type": "execute_result"
    }
   ],
   "source": [
    "match = re.search('\\w\\w\\w', mystr)\n",
    "match.group(0)"
   ]
  },
  {
   "cell_type": "code",
   "execution_count": 100,
   "metadata": {
    "collapsed": false
   },
   "outputs": [
    {
     "data": {
      "text/plain": [
       "'hav'"
      ]
     },
     "execution_count": 100,
     "metadata": {},
     "output_type": "execute_result"
    }
   ],
   "source": [
    "match = re.search('\\w{3}', mystr)\n",
    "match.group(0)"
   ]
  },
  {
   "cell_type": "code",
   "execution_count": 102,
   "metadata": {
    "collapsed": false
   },
   "outputs": [
    {
     "data": {
      "text/plain": [
       "'pen'"
      ]
     },
     "execution_count": 102,
     "metadata": {},
     "output_type": "execute_result"
    }
   ],
   "source": [
    "match = re.search('[a-zA-Z]en', mystr)\n",
    "match.group(0)"
   ]
  },
  {
   "cell_type": "code",
   "execution_count": null,
   "metadata": {
    "collapsed": true
   },
   "outputs": [],
   "source": [
    "match = re.search('')"
   ]
  },
  {
   "cell_type": "code",
   "execution_count": 99,
   "metadata": {
    "collapsed": false
   },
   "outputs": [
    {
     "data": {
      "text/plain": [
       "'[Error] Error while parsing push'"
      ]
     },
     "execution_count": 99,
     "metadata": {},
     "output_type": "execute_result"
    }
   ],
   "source": [
    "err_str = \"[Error] Error while parsing push\"\n",
    "match = re.search(\"^\\[Err.*$\", err_str)\n",
    "match.group(0)"
   ]
  },
  {
   "cell_type": "code",
   "execution_count": 103,
   "metadata": {
    "collapsed": false
   },
   "outputs": [
    {
     "data": {
      "text/plain": [
       "' Error while parsing push'"
      ]
     },
     "execution_count": 103,
     "metadata": {},
     "output_type": "execute_result"
    }
   ],
   "source": [
    "err_str = \"[Error] Error while parsing push\"\n",
    "match = re.sub(\"^\\[Error\\]\", '',err_str)\n",
    "match"
   ]
  },
  {
   "cell_type": "markdown",
   "metadata": {},
   "source": [
    "# Selenium"
   ]
  },
  {
   "cell_type": "code",
   "execution_count": 113,
   "metadata": {
    "collapsed": false
   },
   "outputs": [
    {
     "name": "stdout",
     "output_type": "stream",
     "text": [
      "Requirement already satisfied (use --upgrade to upgrade): selenium in /Users/ian/.pyenv/versions/3.5.2/lib/python3.5/site-packages\r\n",
      "\u001b[33mYou are using pip version 8.1.1, however version 9.0.1 is available.\r\n",
      "You should consider upgrading via the 'pip install --upgrade pip' command.\u001b[0m\r\n"
     ]
    }
   ],
   "source": [
    "!pip install selenium"
   ]
  },
  {
   "cell_type": "code",
   "execution_count": null,
   "metadata": {
    "collapsed": true
   },
   "outputs": [],
   "source": [
    "# Install Chromedriver\n",
    "# https://sites.google.com/a/chromium.org/chromedriver/"
   ]
  },
  {
   "cell_type": "code",
   "execution_count": 114,
   "metadata": {
    "collapsed": true
   },
   "outputs": [],
   "source": [
    "from selenium import webdriver\n",
    "from selenium.webdriver.common.desired_capabilities import DesiredCapabilities"
   ]
  },
  {
   "cell_type": "code",
   "execution_count": 134,
   "metadata": {
    "collapsed": true
   },
   "outputs": [],
   "source": [
    "driver = webdriver.Remote(command_executor='http://localhost:9515', desired_capabilities=DesiredCapabilities.CHROME)"
   ]
  },
  {
   "cell_type": "code",
   "execution_count": 135,
   "metadata": {
    "collapsed": false
   },
   "outputs": [],
   "source": [
    "driver.get(\"https://www.skyscanner.com.tw/transport/flights/tpet/cts/170105/170115/airfares-from-taipei-to-sapporo-chitose-in-january-2017.html?adults=1&children=0&adultsv2=1&childrenv2=&infants=0&cabinclass=economy&rtn=1&preferdirects=false&outboundaltsenabled=false&inboundaltsenabled=false&ref=home#results\")"
   ]
  },
  {
   "cell_type": "code",
   "execution_count": 129,
   "metadata": {
    "collapsed": false
   },
   "outputs": [
    {
     "data": {
      "text/plain": [
       "'<!DOCTYPE html><html xmlns=\"http://www.w3.org/1999/xhtml\" class=\"skyscanner  legacy-button  bpk-no-touch-support\" lang=\"zh-TW\"><head><script src=\"https://pagead2.googlesyndication.com/pagead/osd.js\"></script><script src=\"https://securepubads.g.doubleclick.net/gampad/ads?gdfp_req=1&amp;correlator=3715581441601257&amp;output=json_html&amp;callback=googletag.impl.pubads.callbackProxy1&amp;impl=fifs&amp;json_a=1&amp;eid=108809080&amp;sc=1&amp;sfv=1-0-5&amp;iu_parts=24268069%2Cskyscanner.com.tw%2Cflights_funnel%2Cday_view%2Cbooking_panel%2Cinline%2Cleaderboard&amp;enc_prev_ius=%2F0%2F1%2F2%2F3%2F4%2C%2F0%2F1%2F2%2F3%2F5%2C%2F0%2F1%2F2%2F3%2F6&amp;prev_iu_szs=320x50%2C1024x66%2C728x90%7C468x60&amp;fluid=height%2C0%2C0&amp;prev_scp=divId%3DsponsoredPartner-adslot%7C%7C&amp;cust_params=domain%3Dhttps%253A%252F%252Fwww.skyscanner.com.tw%26nativeadjs%3D%252Fsttc%252Fstrevda%252Fjs%252Fnativead.9e02300dd1cf6d9cb7a7.js%26nativeadcss%3D%252Fsttc%252Fstrevda%252Fcss%252Fnativead.bbef3ab22ed30bd91ce0a827ca2885ba.css%26inlineadjs%3D%252Fsttc%252Fstrevda%252Fjs%252Finlinead.69aa611cf5dce48f172a.js%26sponsoredadjs%3D%252Fsttc%252Fstrevda%252Fjs%252Fsponsoredad.8cc85242a6657110d8fe.js%26multilayoutadjs%3D%252Fsttc%252Fstrevda%252Fjs%252Fmultilayoutad.a40e2d24969bb5a2590c.js%26thirdpartyadjs%3D%252Fsttc%252Fstrevda%252Fjs%252Fthirdpartyad.c6f31873458b102f1763.js%26lang%3DZW%26locale%3Dzh-TW%26currency%3DTWD%26market%3DTW%26startdate%3D2017-01-05%26enddate%3D2017-01-15%26duration%3D10%26isreturn%3Dtrue%26cc%3DEconomy%26adults%3D1%26passengers%3D1%26pageType%3Dflights.dayview%26oid%3DTPET%26ocity%3Dtpet%26oairport%3D%25E5%258F%25B0%25E5%258C%2597%26octry%3Dtw%26ocityiata%3DTPE%26ocityname%3D%25E5%258F%25B0%25E5%258C%2597%26oairp%3Dtpe%26did%3DCTS%26dcity%3Dspka%26dairport%3D%25E6%259C%25AD%25E5%25B9%258C%25E5%258D%2583%25E6%25AD%25B2%26dctry%3Djp%26dcityiata%3DCTS%26dcityname%3D%25E6%259C%25AD%25E5%25B9%258C%26dairp%3Dcts&amp;cookie_enabled=1&amp;lmt=1482807723&amp;dt=1482807723591&amp;cc=100&amp;frm=20&amp;biw=1050&amp;bih=883&amp;oid=3&amp;adxs=0%2C0%2C21&amp;adys=0%2C0%2C3265&amp;adks=205522877%2C1900529902%2C3929528212&amp;gut=v2&amp;ifi=1&amp;u_tz=480&amp;u_his=2&amp;u_h=1024&amp;u_w=1280&amp;u_ah=1001&amp;u_aw=1280&amp;u_cd=24&amp;u_nplug=5&amp;u_nmime=7&amp;u_sd=1&amp;flash=23.0.0&amp;url=https%3A%2F%2Fwww.skyscanner.com.tw%2Ftransport%2Fflights%2Ftpet%2Fcts%2F170105%2F170115%2Fairfares-from-taipei-to-sapporo-chitose-in-january-2017.html%3Fadults%3D1%26children%3D0%26adultsv2%3D1%26childrenv2%3D%26infants%3D0%26cabinclass%3Deconomy%26rtn%3D1%26preferdirects%3Dfalse%26outboundaltsenabled%3Dfalse%26inboundaltsenabled%3Dfalse%26ref%3Dhome%23results&amp;dssz=35&amp;icsg=12894109699&amp;std=0&amp;vrg=107&amp;vrp=107&amp;ga_vid=958465441.1482807722&amp;ga_sid=1482807724&amp;ga_hid=1570901817\"></script><script type=\"text/javascript\" async=\"\" src=\"https://aax.amazon-adsystem.com/e/dtb/bid?src=3209&amp;u=https%3A%2F%2Fwww.skyscanner.com.tw%2Ftransport%2Fflights%2Ftpet%2Fcts%2F170105%2F170115%2Fairfares-from-taipei-to-sapporo-chitose-in-january-2017.html%3Fadults%3D1%26children%3D0%26adultsv2%3D1%26childrenv2%3D%26infants%3D0%26cabinclass%3Deconomy%26rtn%3D1%26preferdirects%3Dfalse%26outboundaltsenabled%3Dfalse%26inboundaltsenabled%3Dfalse%26ref%3Dhome%23results&amp;cb=6071851\"></script><script async=\"\" type=\"text/javascript\" src=\"//c.amazon-adsystem.com/aax2/amzn_ads.js\"></script><script async=\"\" src=\"https://cdn.appdynamics.com/adrum-ext.f13718297ad3d9e6b80d6bc11e953001.js\"></script>\\n    \\n<meta charset=\"utf-8\" />\\n<meta name=\"viewport\" content=\"width=device-width, initial-scale = 1.0, maximum-scale=1.0, user-scalable=no\" />\\n<meta http-equiv=\"X-UA-Compatible\" content=\"IE=10\" />\\n<meta http-equiv=\"Content-Language\" content=\"zh-TW\" />\\n\\n\\n    <meta name=\"theme-color\" content=\"#34363D\" />\\n<meta name=\"msapplication-TileColor\" content=\"#21c4d9\" />\\n<meta name=\"msapplication-TileImage\" content=\"//logos.skyscnr.com/framework/images/icons/mstile-144x144.png\" />\\n<link rel=\"manifest\" href=\"/android-chrome-manifest.json\" />\\n<link rel=\"apple-touch-icon\" sizes=\"57x57\" href=\"//logos.skyscnr.com/framework/images/icons/apple-touch-icon-57x57.png\" />\\n<link rel=\"apple-touch-icon\" sizes=\"60x60\" href=\"//logos.skyscnr.com/framework/images/icons/apple-touch-icon-60x60.png\" />\\n<link rel=\"apple-touch-icon\" sizes=\"72x72\" href=\"//logos.skyscnr.com/framework/images/icons/apple-touch-icon-72x72.png\" />\\n<link rel=\"apple-touch-icon\" sizes=\"76x76\" href=\"//logos.skyscnr.com/framework/images/icons/apple-touch-icon-76x76.png\" />\\n<link rel=\"apple-touch-icon\" sizes=\"114x114\" href=\"//logos.skyscnr.com/framework/images/icons/apple-touch-icon-114x114.png\" />\\n<link rel=\"apple-touch-icon\" sizes=\"120x120\" href=\"//logos.skyscnr.com/framework/images/icons/apple-touch-icon-120x120.png\" />\\n<link rel=\"apple-touch-icon\" sizes=\"144x144\" href=\"//logos.skyscnr.com/framework/images/icons/apple-touch-icon-144x144.png\" />\\n<link rel=\"apple-touch-icon\" sizes=\"152x152\" href=\"//logos.skyscnr.com/framework/images/icons/apple-touch-icon-152x152.png\" />\\n<link rel=\"apple-touch-icon\" sizes=\"180x180\" href=\"//logos.skyscnr.com/framework/images/icons/apple-touch-icon-180x180.png\" />\\n<link rel=\"mask-icon\" href=\"//logos.skyscnr.com/framework/images/icons/website_icon.svg\" color=\"#454750\" />\\n<link rel=\"icon\" type=\"image/png\" href=\"//logos.skyscnr.com/framework/images/icons/favicon-16x16.png\" sizes=\"16x16\" />\\n<link rel=\"icon\" type=\"image/png\" href=\"//logos.skyscnr.com/framework/images/icons/favicon-32x32.png\" sizes=\"32x32\" />\\n<link rel=\"icon\" type=\"image/png\" href=\"//logos.skyscnr.com/framework/images/icons/favicon-96x96.png\" sizes=\"96x96\" />\\n<link rel=\"icon\" type=\"image/png\" href=\"//logos.skyscnr.com/framework/images/icons/android-chrome-192x192.png\" sizes=\"192x192\" />\\n    <script type=\"text/javascript\" async=\"\" src=\"https://www.skyscanner.com.tw/userorchestration/resources/scripts/skyscanner.user.track.min.js\"></script><script async=\"\" src=\"//connect.facebook.net/en_US/fbevents.js\"></script><script type=\"text/javascript\" async=\"\" src=\"//cdn.mxpnl.com/libs/mixpanel-2.2.min.js\"></script><script async=\"\" src=\"//www.google-analytics.com/analytics.js\"></script><script async=\"\" type=\"text/javascript\" src=\"//afs.googlesyndication.com/adsense/search/async-ads.js\"></script><script async=\"\" type=\"text/javascript\" src=\"//www.googletagservices.com/tag/js/gpt.js\"></script><script type=\"text/javascript\" async=\"\" src=\"//js.skyscnr.com/framework/scaffolding/cache/js/common_async_zh-tw.d8939bc6.js\"></script><script>window[\"adrum-app-key\"] = \"AD-AAB-AAA-SVY\";\\nwindow[\\'adrum-start-time\\'] = new Date().getTime();</script>\\n\\n\\n\\n<script type=\"text/javascript\">\\n    (function() {\\n        var executeImmediately = false;\\n\\n        window.addLoadEventHandler = function (fn) {\\n            executeImmediately ? setTimeout(function () {\\n                fn(); }, 0) : window.addEventListener ? window.addEventListener(\\'load\\', fn, false) : window.attachEvent ? window.attachEvent(\\'onload\\', fn) : void 0;\\n        }\\n        addLoadEventHandler(function () { executeImmediately = true; });\\n\\n        window.injectScript = function (src, callback, type) {\\n            var an = document.createElement(\\'script\\');\\n            an.type = type || \\'text/javascript\\';\\n            an.async = true;\\n            if (callback) an.onload = callback;\\n            an.src = src.indexOf(\\'//\\') === 0 ? src : src.indexOf(\\'http\\') == 0 ? src : (\\'https:\\' == document.location.protocol ? \\'https://\\' : \\'http://\\') + document.location.host + src;\\n            var s = document.getElementsByTagName(\\'script\\')[0];\\n            s.parentNode.insertBefore(an, s);\\n        }\\n    })();\\n</script>\\n        <title>\\n            Skyscanner 從 台北 到 札幌千歲 的廉價航班\\n        </title>\\n\\n    <link rel=\"dns-prefetch\" href=\"//api.mixpanel.com\" />\\n<link rel=\"dns-prefetch\" href=\"https://secure.skyscanner.net\" />\\n<link rel=\"dns-prefetch\" href=\"//www.google-analytics.com\" />\\n<link rel=\"dns-prefetch\" href=\"//cdn.mxpnl.com\" />\\n<link rel=\"dns-prefetch\" href=\"//www.googletagservices.com\" />\\n    \\n     \\n\\n<link rel=\"stylesheet\" type=\"text/css\" href=\"//css.skyscnr.com/framework/scaffolding/cache/css/core.212a00ca.css\" />\\n\\n    <link rel=\"stylesheet\" type=\"text/css\" href=\"/sttc/strevda/css/setup.972fb28d6ebfafcb70b31d3fa158211a.css\" />\\n\\n\\n\\n\\n\\n    <!-- media queries css -->\\n    \\n    \\n<link rel=\"stylesheet\" type=\"text/css\" href=\"//css.skyscnr.com/flightsearch/static/searchsummary.min.7a03d27528f9ec1d3a45.css\" />\\n<link rel=\"stylesheet\" type=\"text/css\" href=\"//css.skyscnr.com/flightsearch/static/searchcontrols.min.7a03d27528f9ec1d3a45.css\" />\\n\\n\\n     \\n\\n<link rel=\"stylesheet\" type=\"text/css\" href=\"//css.skyscnr.com/framework/scaffolding/cache/css/day-sfld.a9a583f3.css\" />\\n    \\n<link rel=\"stylesheet\" type=\"text/css\" href=\"//css.skyscnr.com/flightsearch/static/results.min.7a03d27528f9ec1d3a45.css\" />\\n\\n\\n\\n\\n\\n    \\n    \\n<meta name=\"SKYPE_TOOLBAR\" content=\"SKYPE_TOOLBAR_PARSER_COMPATIBLE\" />\\n<meta name=\"y_key\" content=\"3ccd97fca3bc5b05\" />\\n\\n\\n\\n<meta property=\"og:title\" content=\"找到從 台北 飛往 札幌千歲 的航班。\" /><meta property=\"og:url\" content=\"http://www.skyscanner.com.tw/?utm_medium=social&amp;utm_campaign=addthis&amp;utm_source=facebook_tw\" /><meta property=\"og:image\" content=\"http://www.skyscanner.com.tw/images/opengraph_v1.png\" /><meta property=\"og:image:width\" content=\"256\" /><meta property=\"og:image:height\" content=\"256\" /><meta property=\"og:image:type\" content=\"image/png\" /><meta property=\"og:description\" content=\"天巡可以免費提供全球數百家航空公司的比較。它可以快速找到最低價的航班，為您省錢省時。\" /><meta property=\"og:type\" content=\"product\" />\\n    <script type=\"text/javascript\">\\n        if (typeof Skyscanner === \"undefined\") {\\n            Skyscanner = {};\\n        }\\n    \\n        Skyscanner.ogtitle = \"找到從 台北 飛往 札幌千歲 的航班。\";\\n        Skyscanner.ogurl = \"http://www.skyscanner.com.tw/?utm_medium=social&amp;amp;utm_campaign=addthis&amp;amp;utm_source=facebook_tw\";\\n        Skyscanner.ogimage = \"http://www.skyscanner.com.tw/images/opengraph_v1.png\";\\n        Skyscanner.ogdescription = \"天巡可以免費提供全球數百家航空公司的比較。它可以快速找到最低價的航班，為您省錢省時。\";\\n    </script>\\n\\n<meta name=\"apple-itunes-app\" content=\"app-id=424006962\" />    \\n<meta name=\"msApplication-ID\" content=\"App\" /> <meta name=\"msApplication-PackageFamilyName\" content=\"Skyscanner.Skyscanner_623c9he0pwcym\" /> <meta name=\"msApplication-MinVersion\" content=\"1.2.0.0\" />    \\n\\n    \\n<script type=\"text/javascript\" src=\"/jp671.js\" defer=\"\"></script><style type=\"text/css\">#d__fFH{position:absolute;top:-5000px;left:-5000px}#d__fF{font-family:serif;font-size:200px;visibility:hidden}#ywtetvbubcsf{display:none!important}</style><script src=\"https://secure.skyscanner.net/accessToken?callback=Skyscanner.Auth.Jsonp.callback\"></script><script src=\"https://securepubads.g.doubleclick.net/gpt/pubads_impl_107.js\" async=\"\"></script><link rel=\"stylesheet\" type=\"text/css\" href=\"//www.skyscanner.net/svcs/onboarding/component/newsletter/dist/css/newsletter.min.embed.css\" /><link rel=\"prefetch\" href=\"https://tpc.googlesyndication.com/safeframe/1-0-5/html/container.html\" /></head>\\n<body id=\"category-flights\" class=\"lang-zw page-day action-dayview   default-layout   scaffold-font-size     no-touch\"><div id=\"sponsored-shadow\" class=\"sponsored-shadow\" data-google-query-id=\"CM7YjJ2xk9ECFcculgod1DcFSg\" style=\"display: none;\"><div id=\"google_ads_iframe_/24268069/skyscanner.com.tw/flights_funnel/day_view/inline_0__container__\" style=\"border: 0pt none;\"><iframe id=\"google_ads_iframe_/24268069/skyscanner.com.tw/flights_funnel/day_view/inline_0\" title=\"3rd party ad content\" name=\"google_ads_iframe_/24268069/skyscanner.com.tw/flights_funnel/day_view/inline_0\" width=\"1024\" height=\"66\" scrolling=\"no\" marginwidth=\"0\" marginheight=\"0\" frameborder=\"0\" srcdoc=\"\" style=\"border: 0px; vertical-align: bottom;\"></iframe></div></div><div id=\"sponsoredPartner-adslot\" class=\"sponsored-shadow\" data-google-query-id=\"CM3YjJ2xk9ECFcculgod1DcFSg\" style=\"display: none;\"><div id=\"google_ads_iframe_/24268069/skyscanner.com.tw/flights_funnel/day_view/booking_panel_0__container__\" style=\"border: 0pt none;\"><iframe id=\"google_ads_iframe_/24268069/skyscanner.com.tw/flights_funnel/day_view/booking_panel_0\" title=\"3rd party ad content\" name=\"google_ads_iframe_/24268069/skyscanner.com.tw/flights_funnel/day_view/booking_panel_0\" width=\"100%\" height=\"0\" scrolling=\"no\" marginwidth=\"0\" marginheight=\"0\" frameborder=\"0\" srcdoc=\"\" style=\"border: 0px; vertical-align: bottom;\"></iframe></div></div><noscript>\\n    &lt;div class=\"no-js-msg\"&gt;\\n        &lt;p&gt;Skyscanner 需要有 JavaScript 才能運作。 您的瀏覽器可能不支援 JavaScript，或者目前將其關閉。 請在獲得 JavaScript 支援後再試一次。&lt;/p&gt;\\n    &lt;/div&gt;\\n</noscript>\\n<div id=\"pagewrap\" class=\"clearfix\">\\n        <h1 id=\"h1-heading\">Skyscanner 從 台北 到 札幌千歲 的廉價航班</h1>\\n\\n        \\n    <header id=\"header\" class=\"global-header\">\\n        <div class=\"wrap clearfix\">\\n            <div id=\"secondary-nav\" class=\"global-header_secondary-nav\">\\n                <ul class=\"secondary-nav-items clearfix global-header_secondary-nav-list\">\\n\\n\\n\\n                        <li id=\"trip-planning-nav\" class=\"trip-planning-nav-mobile-refresh global-header_secondary-nav-list-item\">\\n                            <span id=\"history-toggle\" class=\"history-toggle-mobile-refresh\" title=\"搜尋歷史\">搜尋歷史</span>\\n                        </li>\\n                        <li class=\"help-link des global-header_secondary-nav-list-item\">\\n                            <a id=\"ss-header-links-faq\" target=\"_blank\" href=\"https://help.skyscanner.net/hc/zh-tw/?skyDBG=2\">說明</a>\\n                        </li>\\n\\n<li id=\"culture-info\" class=\"culture-info clearfix global-header_secondary-nav-list-item global-header_secondary-nav-culture-info  \">\\n    <img id=\"culture-flag-image\" class=\"culture-flag-image global-header_secondary-nav-culture-flag mobile-hidden\" src=\"//images.skyscnr.com/images/country/flag/header/tw.png\" alt=\"台灣\" title=\"TW\" />\\n    <span class=\"culture-language-info mobile-hidden\">zh-TW </span>\\n    <span class=\"culture-currency-info\">NT$ TWD <span>▼</span></span>\\n</li>\\n\\n                        <li id=\"login-button-container\" class=\"desktop-nav-only desktop-last global-header_secondary-nav-list-item\">\\n                            <a id=\"authentication-link\" class=\"login global-header_secondary-nav-account\">登入</a>\\n                            <span class=\"login-caret\"></span>\\n                        </li>\\n                        <li class=\"global-header_secondary-nav-list-item hidden-account\">\\n                            <a class=\"account-controls-init hidden global-header_secondary-nav-account\">\\n                                帳戶管理\\n                            </a>\\n                        </li>\\n                </ul>\\n            </div>\\n            <button type=\"button\" id=\"toggle-touch-menu\" class=\"cim-b-touch-menu-toggle global-header_hamburger-button\">\\n                <span class=\"visually-hidden\">選項</span>\\n            </button>\\n            <div id=\"identity\" class=\"global-header_logo\">\\n                <a href=\"/\" title=\"廉價航班找 Skyscanner\" class=\"skyscanner-logo global-header_logo-link\"></a>\\n                <span id=\"current-category\">機票</span>\\n            </div>\\n                <ul id=\"main-nav\" class=\"global-header_primary-nav  \">\\n                                <li class=\"item-1 airli global-header_primary-nav-item\">\\n                                    <a id=\"airli\" class=\"clearfix active global-header_primary-nav-link\" data-analytics-name=\"flights\" href=\"/\">\\n                                        <span class=\"main-nav-icon\"></span>\\n                                        <span class=\"main-nav-text global-header_primary-nav-text\">\\n                                            機票\\n                                        </span>\\n                                    </a>\\n                                </li>\\n                                <li class=\"item-2 skhot global-header_primary-nav-item\">\\n                                    <a id=\"skhot\" class=\"clearfix  global-header_primary-nav-link\" data-analytics-name=\"hotels\" href=\"/hotels?na=1&amp;sd=2017-01-05&amp;ed=2017-01-15&amp;s-f_iplace=CTS&amp;fileName=%E6%9C%AD%E5%B9%8C%E5%8D%83%E6%AD%B2\">\\n                                        <span class=\"main-nav-icon\"></span>\\n                                        <span class=\"main-nav-text global-header_primary-nav-text\">\\n                                            酒店\\n                                        </span>\\n                                    </a>\\n                                </li>\\n                                <li class=\"item-3 carhi global-header_primary-nav-item\">\\n                                    <a id=\"carhi\" class=\"clearfix  global-header_primary-nav-link\" data-analytics-name=\"carhire\" href=\"https://www.skyscanner.com.tw/car-hire/?pick_up=CTS&amp;pick_up_date=2017-01-05&amp;drop_off=CTS&amp;drop_off_date=2017-01-15\">\\n                                        <span class=\"main-nav-icon\"></span>\\n                                        <span class=\"main-nav-text global-header_primary-nav-text\">\\n                                            租車\\n                                        </span>\\n                                    </a>\\n                                </li>\\n                </ul>\\n\\n        </div>\\n\\n    </header>\\n    \\n    <!-- START Content -->\\n    <div id=\"trip-shortlist\" class=\"hidden\">\\n    </div>\\n    <div id=\"container-trip-planning-refactor\" class=\"trip-planning hidden\">\\n    </div>\\n\\n\\n    <div id=\"content-wrap\" class=\"wrap clearfix\">\\n\\n\\t\\t\\n\\n\\n\\t\\t\\n\\n\\n\\n\\n\\n<div id=\"content-wrapper\">\\n    <div id=\"content\">\\n        \\n<section id=\"js-search-summary-bar\" class=\"search-summary-bar clearfix date-nudgers show-datepicker\" has-date-nudgers=\"true\"><button type=\"button\" class=\"search-summary-button\"><span class=\"visually-hidden\">重新搜尋 </span></button><div class=\"search-summary-main return\"><div class=\"search-summary-places \"><h2>台北 (任何)<span class=\"visually-hidden\">to</span><span class=\"place-triangle\"></span>札幌 (CTS)</h2><p>2 航班</p></div><p class=\"search-summary-info\"><span class=\"travellers\"><span>1 成人</span></span>經濟艙</p></div><nav class=\"search-summary-date-nudgers clearfix return\"><div class=\"search-summary-date-nudger outbound clearfix\"><button class=\"prev\" data-date=\"2017-01-04\"><span class=\"visually-hidden\">之前</span></button><span class=\"date\">1月5日 (週四)</span><button class=\"next\" data-date=\"2017-01-06\"><span class=\"visually-hidden\">下一步</span></button></div><div class=\"search-summary-date-nudger inbound clearfix\"><button class=\"prev\" data-date=\"2017-01-14\"><span class=\"visually-hidden\">之前</span></button><span class=\"date\">1月15日 (週日)</span><button class=\"next\" data-date=\"2017-01-16\"><span class=\"visually-hidden\">下一步</span></button></div></nav></section>\\n\\n<section id=\"js-search-controls-container\" class=\"search-controls hide search-controls-loading\">\\n</section>\\n\\n\\n\\n        <div id=\"content-main\" class=\"\"><section id=\"day-flexible-days-section\" class=\"fss-flexible-days hidden\"></section><section id=\"day-section\" class=\"day-content fss-no-touch state-results state-loading-completed\" data-has-results=\"true\" data-is-loading=\"false\"><header class=\"clearfix day-header show-month-view-btn\"><div class=\"header-info clearfix\"><div class=\"header-month-view-btn\"><a href=\"/transport/flights/tpet/cts/cheap-flights-from-台北-to-札幌千歲.html?adults=1&amp;children=0&amp;adultsv2=1&amp;childrenv2=&amp;infants=0&amp;cabinclass=economy&amp;rtn=1&amp;preferdirects=false&amp;outboundaltsenabled=false&amp;inboundaltsenabled=false&amp;oym=1701&amp;iym=1701&amp;ref=day-view\">顯示整個月份</a></div><a class=\"header-info-bags\" target=\"_blank\" title=\"在新視窗中開啟\" href=\"/airlinefees\">可能需要收取額外行李費</a></div></header><div class=\"day-cols clearfix\"><div id=\"nav-header\" class=\"day-nav-header clearfix\"><div class=\"price-forecast price-forecast-narrow\"><section class=\"price-forecast-header\"><span class=\"price-forecast-icon\"></span><h3 class=\"price-forecast-title\">Price forecast</h3></section><section class=\"price-forecast-body\"><div class=\"price-forecast-content\"><span class=\"price-forecast-info-icon\"></span><h3 class=\"price-forecast-advice\">Not available</h3><p class=\"price-forecast-reason\"></p></div><p class=\"price-forecast-info\">More information</p></section></div><div class=\"day-btns-header clearfix\"><div id=\"day-header-btns\" class=\"day-btns-primary\"><div class=\"day-btns-primary-wrapper clearfix\"><div class=\"day-btns-filter\"><div class=\"day-btns-filter-wrapper\"><button class=\"day-header-btn fss-secondary\" title=\"篩選\"><span class=\"day-header-btn-label\">篩選</span></button></div></div><div class=\"day-btns-sort\"><div class=\"day-btns-sort-wrapper\"><button class=\"day-header-btn fss-secondary\" title=\"排序\"><span class=\"day-header-btn-label\">排序</span></button></div></div></div></div><button id=\"price-alert-button1\" class=\"fss-alerts-button fss-alerts-button-mini fss-secondary\" title=\"獲取價格通知\"><span class=\"price-alerts-icon\" aria-hidden=\"true\"></span><span class=\"price-alerts-message\">獲取價格通知</span></button></div><div id=\"cols-header\" class=\"day-cols-header\"><div class=\"day-list-info info-top clearfix\"><div class=\"day-list-sorting\"><label for=\"sort-select\">排序方式</label>\\xa0<select id=\"sort-select\"><option value=\"price\">每位成人票價</option><option value=\"duration\">旅程時間總計</option><option value=\"outbound_departure_time\">去程:出發時間</option><option value=\"return_departure_time\">回程:出發時間</option><option value=\"airlines\">航空公司</option><option value=\"stops\">轉機次數</option></select></div><div class=\"day-list-progress\" style=\"width: 100%; display: none;\"></div><div class=\"day-list-count\">532 個結果</div></div><div class=\"save-filter-info hidden\"><div class=\"save-filter-applied-icon\"></div><div class=\"save-filter-applied-msg\"><strong>We\\'ve applied your filters</strong></div></div></div><div id=\"fqs-info\" class=\"hidden\"><section id=\"fqs-tabs\" class=\"fqs-header\"><table class=\"fqs-opts\"><tbody><tr><td class=\"fqs-tabs\"></td><td class=\"fqs-more\"></td></tr></tbody></table></section></div><div class=\"clearfix premium-airlines-container\" id=\"premium-airlines\"><button class=\"bpk-button bpk-button--secondary premium-airlines\"><span class=\"bpk-text\"><img src=\"/images/airlines/favicon/MU.png\" class=\"premium-airlines-img\" /><span class=\"premium-airlines-text\" data-id=\"-32442\">中國東方航空</span>\\xa0</span></button><button class=\"bpk-button bpk-button--secondary premium-airlines\"><span class=\"bpk-text\"><img src=\"/images/airlines/favicon/CI.png\" class=\"premium-airlines-img\" /><span class=\"premium-airlines-text\" data-id=\"-32444\">中華航空</span>\\xa0</span></button><button class=\"bpk-button bpk-button--secondary premium-airlines\"><span class=\"bpk-text\"><img src=\"/images/airlines/favicon/NH.png\" class=\"premium-airlines-img\" /><span class=\"premium-airlines-text\" data-id=\"-32571\">全日空</span>\\xa0</span></button><button class=\"bpk-button bpk-button--secondary premium-airlines\"><span class=\"bpk-text\"><img src=\"/images/airlines/favicon/CX.png\" class=\"premium-airlines-img\" /><span class=\"premium-airlines-text\" data-id=\"-32456\">國泰航空</span>\\xa0</span></button></div></div><div class=\"day-filters\"><div class=\"price-forecast price-forecast-wide\"><section class=\"price-forecast-header\"><span class=\"price-forecast-icon\"></span><h3 class=\"price-forecast-title\">Price forecast</h3></section><section class=\"price-forecast-body\"><div class=\"price-forecast-content\"><span class=\"price-forecast-info-icon\"></span><h3 class=\"price-forecast-advice\">Not available</h3><p class=\"price-forecast-reason\"></p></div><p class=\"price-forecast-info\">More information</p></section></div><div class=\"price-alerts\"><button id=\"price-alert-button2\" class=\"fss-alerts-button fss-secondary\" title=\"獲取價格通知\"><span class=\"price-alerts-icon\" aria-hidden=\"true\"></span><span class=\"price-alerts-message\">獲取價格通知</span></button></div><div id=\"filter-controls\" class=\"fss-flight-controls inline\"><div class=\"flight-controls-cover hidden\"><div class=\"hot-spinner medium\"></div><div>載入中...</div></div><div class=\"flight-controls-content\"><dl data-id=\"stops\" class=\"mobile-filters-stops\"><dt><a href=\"#\" class=\"clearfix\"><span>轉機次數</span><span class=\"chevron\" aria-hidden=\"true\"></span></a></dt><dd class=\"filter-opts\"><ol><li data-id=\"direct\"><label class=\"clearfix  two-line\"><span class=\"label-text\">直飛</span><input type=\"checkbox\" checked=\"checked\" /><span class=\"filter-sub\">NT$16,933</span></label></li><li data-id=\"one_stop\"><label class=\"clearfix  two-line\"><span class=\"label-text\">轉機1次</span><input type=\"checkbox\" checked=\"checked\" /><span class=\"filter-sub\">NT$10,947</span></label></li><li data-id=\"two_plus_stops\"><label class=\"clearfix  two-line\"><span class=\"label-text\">轉機2次以上</span><input type=\"checkbox\" checked=\"checked\" /><span class=\"filter-sub\">NT$27,028</span></label></li></ol></dd></dl><dl data-id=\"departure_times\" class=\"mobile-filters-departure-times\"><dt><a href=\"#\" class=\"clearfix\"><span>出發時間</span><span class=\"chevron\" aria-hidden=\"true\"></span></a></dt><dd class=\"filter-opts slider-opts\"><h4>去程</h4><div class=\"time-range\">00:00 – 23:59</div><div class=\"departure-times-slider noUi-target noUi-ltr noUi-horizontal noUi-background\" data-cid=\"model_3406\"><div class=\"noUi-base\"><div class=\"noUi-origin noUi-connect\" style=\"left: 0%;\"><div class=\"noUi-handle noUi-handle-lower\"></div></div><div class=\"noUi-origin noUi-background\" style=\"left: 100%;\"><div class=\"noUi-handle noUi-handle-upper\"></div></div></div></div></dd><dd class=\"filter-opts slider-opts\"><h4>回程</h4><div class=\"time-range\">00:00 – 23:59</div><div class=\"departure-times-slider noUi-target noUi-ltr noUi-horizontal noUi-background\" data-cid=\"model_3407\"><div class=\"noUi-base\"><div class=\"noUi-origin noUi-connect\" style=\"left: 0%;\"><div class=\"noUi-handle noUi-handle-lower\"></div></div><div class=\"noUi-origin noUi-background\" style=\"left: 100%;\"><div class=\"noUi-handle noUi-handle-upper\"></div></div></div></div></dd><dd class=\"filter-opts slider-opts hidden\"><h4></h4><div class=\"time-range\"></div><div class=\"departure-times-slider\"></div></dd><dd class=\"filter-opts slider-opts hidden\"><h4></h4><div class=\"time-range\"></div><div class=\"departure-times-slider\"></div></dd><dd class=\"filter-opts slider-opts hidden\"><h4></h4><div class=\"time-range\"></div><div class=\"departure-times-slider\"></div></dd><dd class=\"filter-opts slider-opts hidden\"><h4></h4><div class=\"time-range\"></div><div class=\"departure-times-slider\"></div></dd></dl><dl data-id=\"duration\" class=\"mobile-filters-journey-duration\"><dt><a href=\"#\" class=\"clearfix\"><span>旅行總時間</span><span class=\"chevron\" aria-hidden=\"true\"></span></a></dt><dd class=\"filter-opts slider-opts\"><div class=\"time-range\">5 小時 – 29 小時</div><div class=\"duration-slider noUi-target noUi-ltr noUi-horizontal noUi-connect\"><div class=\"noUi-base\"><div class=\"noUi-origin noUi-background noUi-stacking\" style=\"left: 100%;\"><div class=\"noUi-handle noUi-handle-lower\"></div></div></div></div></dd></dl><dl data-id=\"airlines\" class=\"mobile-filters-airlines\"><dt><a href=\"#\" class=\"clearfix\"><span>航空公司</span><span class=\"chevron\" aria-hidden=\"true\"></span></a></dt><dd class=\"filter-opts\"><div class=\"secondary-options helper-nav\"><button class=\"select-all\" disabled=\"\">全選</button><button class=\"clear-all\">取消全選</button></div><ol class=\"alliances\"><li data-id=\"-31998\"><input type=\"checkbox\" id=\"alliance-31998\" /><label for=\"alliance-31998\"> 天合聯盟</label></li><li data-id=\"-32000\"><input type=\"checkbox\" id=\"alliance-32000\" /><label for=\"alliance-32000\"> 寰宇一家</label></li><li data-id=\"-31999\"><input type=\"checkbox\" id=\"alliance-31999\" /><label for=\"alliance-31999\"> 星空聯盟</label></li></ol><ol class=\"airlines\"><li data-id=\"-32442\"><label class=\"clearfix two-line\"><span class=\"label-text\">中國東方航空</span><input type=\"checkbox\" checked=\"checked\" /><span class=\"filter-sub\">NT$29,991</span></label></li><li data-id=\"-32444\"><label class=\"clearfix two-line\"><span class=\"label-text\">中華航空</span><input type=\"checkbox\" checked=\"checked\" /><span class=\"filter-sub\">NT$22,432</span></label></li><li data-id=\"-32571\"><label class=\"clearfix two-line\"><span class=\"label-text\">全日空</span><input type=\"checkbox\" checked=\"checked\" /><span class=\"filter-sub\">NT$20,107</span></label></li><li data-id=\"-32456\"><label class=\"clearfix two-line\"><span class=\"label-text\">國泰航空</span><input type=\"checkbox\" checked=\"checked\" /><span class=\"filter-sub\">NT$47,613</span></label></li><li data-id=\"-32128\"><label class=\"clearfix two-line\"><span class=\"label-text\">大韓航空</span><input type=\"checkbox\" checked=\"checked\" /><span class=\"filter-sub\">NT$15,592</span></label></li><li data-id=\"-32166\"><label class=\"clearfix two-line\"><span class=\"label-text\">捷星航空</span><input type=\"checkbox\" checked=\"checked\" /><span class=\"filter-sub\">NT$10,947</span></label></li><li data-id=\"-32184\"><label class=\"clearfix two-line\"><span class=\"label-text\">日本航空</span><input type=\"checkbox\" checked=\"checked\" /><span class=\"filter-sub\">NT$14,389</span></label></li><li data-id=\"-31767\"><label class=\"clearfix two-line\"><span class=\"label-text\">泰國國際航空</span><input type=\"checkbox\" checked=\"checked\" /><span class=\"filter-sub\">NT$132,554</span></label></li><li data-id=\"-32331\"><label class=\"clearfix two-line\"><span class=\"label-text\">長榮航空</span><input type=\"checkbox\" checked=\"checked\" /><span class=\"filter-sub\">NT$16,933</span></label></li><li data-id=\"-32558\"><label class=\"clearfix two-line\"><span class=\"label-text\">韓亞航空</span><input type=\"checkbox\" checked=\"checked\" /><span class=\"filter-sub\">NT$17,325</span></label></li><li data-id=\"-32229\"><label class=\"clearfix two-line\"><span class=\"label-text\">香港航空</span><input type=\"checkbox\" checked=\"checked\" /><span class=\"filter-sub\">NT$23,287</span></label></li><li data-id=\"multi\"><label class=\"clearfix two-line\"><span class=\"label-text\">航空公司組合</span><input type=\"checkbox\" checked=\"checked\" /><span class=\"filter-sub\">NT$11,602</span></label></li></ol></dd></dl><dl data-id=\"airports\" class=\"mobile-filters-airports\"><dt><a href=\"#\" class=\"clearfix\"><span>機場</span><span class=\"chevron\" aria-hidden=\"true\"></span></a></dt><ol class=\"filter-opts\"><li class=\"mixed-airports\"><label class=\"clearfix\"><span class=\"label-text\">從<strong>相同機場</strong>出發和返回</span><input type=\"checkbox\" /></label></li><li class=\"change-airport\"><label class=\"clearfix\"><span class=\"label-text\">轉機時無需<strong>變更機場</strong></span><input type=\"checkbox\" /></label></li><div class=\"subtitle\">出發</div><li data-id=\"17075\" class=\"airport\"><label class=\"clearfix two-line \"><span class=\"label-text\">TPE</span><input type=\"checkbox\" checked=\"checked\" /><span class=\"filter-sub\">台北桃園</span></label></li><li data-id=\"17122\" class=\"airport\"><label class=\"clearfix two-line \"><span class=\"label-text\">TSA</span><input type=\"checkbox\" checked=\"checked\" /><span class=\"filter-sub\">台北松山</span></label></li></ol></dl></div></div></div><div class=\"day-main-content\"><div class=\"day-list-info pagination-top hidden clearfix\"></div><div class=\"seo-airline-filter-info hidden\"><div class=\"filter-applied-info hidden\"><div class=\"filter-applied-icon\"></div><div class=\"filter-applied-msg\">我們只會顯示您選擇的航空公司所提供的航班。按一下上方以檢視所有航班。</div></div><div class=\"filter-not-applied-info hidden\"><div class=\"filter-not-applied-icon\"></div><div class=\"filter-not-applied-msg\"> 我們無法在您所選擇的航空公司找到任何航班。顯示所有航班。</div></div><div class=\"filter-info-close\"></div></div><div class=\"indirects-info hidden\"><div class=\"indirects-info-exclamation\" aria-label=\"資訊\"></div><div class=\"indirects-info-msg\"></div><div class=\"indirects-info-close\" aria-label=\"關閉\"></div></div><div class=\"day-searching hidden\"><div class=\"hot-spinner medium\"></div><div class=\"day-searching-message\">搜尋</div><ul></ul></div><ul class=\"day-list clearfix fss-tap-anywhere tap-b fss-ticket-style animate-plane\"><li class=\"day-list-item clearfix \"><article data-cid=\"model_6829\" data-deeplink=\"details\" class=\"card result clearfix no-details  \" ontouchstart=\"\"><div class=\"card-body clearfix operated-by\"><div class=\"clearfix carrier\"><div class=\"airline\"><img src=\"//logos.skyscnr.com/images/airlines/favicon/JQ.png\" alt=\"捷星航空\" onerror=\"__imgErrRemove__(this)\" /><span>捷星航空</span></div></div><section data-id=\"0\" class=\"card-main leg clearfix dept\"><div class=\"big-airline\"><img class=\"big\" src=\"//logos.skyscnr.com/images/airlines/small/JQ.png\" alt=\"捷星航空\" data-name=\"捷星航空\" onerror=\"__imgErrReplace__(this)\" /></div><div class=\"leg-details  \"><div class=\"depart\"><span class=\"station-tooltip\" data-id=\"17075\"><span class=\"times\">02:40</span><span class=\"stop-station\" data-id=\"17075\">TPE</span></span></div><div class=\"stops\"><span class=\"duration\">6 小時 15 分鐘</span><ul class=\"stop-line\"><li class=\"stop-dot\"></li><li class=\"stop-line\"></li></ul><div class=\"leg-stops\"><span class=\"leg-stops-red leg-stops-label\">轉機1次 </span><span class=\"leg-stops-station\"><span class=\"stop-station\" data-id=\"13068\">KIX</span></span></div></div><div class=\"arrive\"><span class=\"station-tooltip\" data-id=\"10783\"><span class=\"times\">09:55</span><span class=\"stop-station\" data-id=\"10783\">CTS</span></span></div><div class=\"leg-operator\">由 Jetstar Japan 營運</div></div></section><section data-id=\"1\" class=\"card-main leg clearfix retn\"><div class=\"big-airline\"><img class=\"big\" src=\"//logos.skyscnr.com/images/airlines/small/JQ.png\" alt=\"捷星航空\" data-name=\"捷星航空\" onerror=\"__imgErrReplace__(this)\" /></div><div class=\"leg-details  \"><div class=\"depart\"><span class=\"station-tooltip\" data-id=\"10783\"><span class=\"times\">10:30</span><span class=\"stop-station\" data-id=\"10783\">CTS</span></span></div><div class=\"stops\"><span class=\"duration\">10 小時</span><ul class=\"stop-line\"><li class=\"stop-dot\"></li><li class=\"stop-line\"></li></ul><div class=\"leg-stops\"><span class=\"leg-stops-red leg-stops-label\">轉機1次 </span><span class=\"leg-stops-station\"><span class=\"stop-station\" data-id=\"13068\">KIX</span></span></div></div><div class=\"arrive\"><span class=\"station-tooltip\" data-id=\"17075\"><span class=\"times\">19:30</span><span class=\"stop-station\" data-id=\"17075\">TPE</span></span></div><div class=\"leg-operator\">由 Jetstar Japan, Jetstar Asia 營運</div></div></section></div><aside class=\"notch-holder\"></aside><div class=\"mainquote-cba clearfix\"><div class=\"mainquote-wrapper-cba\"><div class=\"mq-container-wrapper\"><div class=\"mq-container\"><div class=\"cba-price\"><span class=\"mainquote-deals\">4 個優惠，價格低至</span><div class=\"mainquote-group-price\"><a href=\"#\" data-deeplink=\"details\" target=\"_blank\" class=\"mainquote-price expand-cba select-action\"><span class=\"\" aria-hidden=\"true\"></span>NT$10,947</a></div></div><a class=\"bpk-button expand-cba select-action\" href=\"#\" title=\"選擇\" data-deeplink=\"details\" target=\"_blank\"><span class=\"bpk-text\">選擇\\xa0</span><span class=\"bpk-icon-sm bpk-icon-pointer bpk-icon-sm--align-to-button\"></span></a></div></div></div></div></article></li><li class=\"day-list-item clearfix \"><article data-cid=\"model_6840\" data-deeplink=\"details\" class=\"card result clearfix no-details has-transfer-info \" ontouchstart=\"\"><div class=\"card-body clearfix multi-ticket\"><div class=\"clearfix carrier\"><div class=\"airline\"><span class=\"no-logo-airline\"></span><span>酷航 + 樂桃</span></div></div><section data-id=\"0\" class=\"card-main leg clearfix dept\"><div class=\"big-airline\"><img class=\"big\" src=\"//logos.skyscnr.com/images/airlines/small/QY.png\" alt=\"酷航\" data-name=\"酷航\" onerror=\"__imgErrReplace__(this)\" /></div><div class=\"leg-details  \"><div class=\"depart\"><span class=\"station-tooltip\" data-id=\"17075\"><span class=\"times\">11:30</span><span class=\"stop-station\" data-id=\"17075\">TPE</span></span></div><div class=\"stops\"><span class=\"duration\">3 小時 25 分鐘</span><ul class=\"stop-line\"><li class=\"stop-line\"></li></ul><div class=\"leg-stops no-stops\"><span class=\"leg-stops-green leg-stops-label\">直飛 </span><span class=\"leg-stops-station\"></span></div></div><div class=\"arrive\"><span class=\"station-tooltip\" data-id=\"10783\"><span class=\"times\">15:55</span><span class=\"stop-station\" data-id=\"10783\">CTS</span></span></div></div></section><section data-id=\"1\" class=\"card-main leg clearfix retn\"><div class=\"big-airline\"><img class=\"big\" src=\"//logos.skyscnr.com/images/airlines/small/03.png\" alt=\"樂桃\" data-name=\"樂桃\" onerror=\"__imgErrReplace__(this)\" /></div><div class=\"leg-details  \"><div class=\"depart\"><span class=\"station-tooltip\" data-id=\"10783\"><span class=\"times\">12:45</span><span class=\"stop-station\" data-id=\"10783\">CTS</span></span></div><div class=\"stops\"><span class=\"duration\">8 小時 20 分鐘</span><ul class=\"stop-line\"><li class=\"stop-dot\"></li><li class=\"stop-line\"></li></ul><div class=\"leg-stops\"><span class=\"leg-stops-red leg-stops-label\">轉機1次 </span><span class=\"leg-stops-station\"><span class=\"stop-station\" data-id=\"13068\">KIX</span></span></div></div><div class=\"arrive\"><span class=\"station-tooltip\" data-id=\"17075\"><span class=\"times\">20:05</span><span class=\"stop-station\" data-id=\"17075\">TPE</span></span></div></div></section></div><aside class=\"notch-holder\"></aside><div class=\"mainquote-cba clearfix\"><div class=\"mainquote-wrapper-cba\"><div class=\"mq-container-wrapper\"><div class=\"mq-container\"><div class=\"cba-price\"><span class=\"mainquote-deals\">1 個優惠</span><div class=\"mainquote-group-price\"><a href=\"#\" data-deeplink=\"details\" target=\"_blank\" class=\"mainquote-price expand-cba select-action\"><span class=\"\" aria-hidden=\"true\"></span>NT$11,602</a></div></div><a class=\"bpk-button expand-cba select-action\" href=\"#\" title=\"選擇\" data-deeplink=\"details\" target=\"_blank\"><span class=\"bpk-text\">選擇\\xa0</span><span class=\"bpk-icon-sm bpk-icon-pointer bpk-icon-sm--align-to-button\"></span></a><div class=\"cba-agent-info\"><a class=\"ticketing-agent protected-transfer details-action\" href=\"#\" target=\"_blank\" data-deeplink=\"details\"><span aria-hidden=\"true\"></span>自行轉機</a></div><button class=\"ticketing-agent protected-transfer details-action\"><span aria-hidden=\"true\"></span>自行轉機</button></div></div></div></div></article></li><li class=\"day-list-item clearfix \"><article data-cid=\"model_6845\" data-deeplink=\"details\" class=\"card result clearfix no-details has-transfer-info \" ontouchstart=\"\"><div class=\"card-body clearfix multi-ticket operated-by\"><div class=\"clearfix carrier\"><div class=\"airline\"><span class=\"no-logo-airline\"></span><span>酷航 + 捷星航空 + 樂桃</span></div></div><section data-id=\"0\" class=\"card-main leg clearfix dept\"><div class=\"big-airline\"><img class=\"big\" src=\"//logos.skyscnr.com/images/airlines/small/QY.png\" alt=\"酷航\" data-name=\"酷航\" onerror=\"__imgErrReplace__(this)\" /></div><div class=\"leg-details  \"><div class=\"depart\"><span class=\"station-tooltip\" data-id=\"17075\"><span class=\"times\">11:30</span><span class=\"stop-station\" data-id=\"17075\">TPE</span></span></div><div class=\"stops\"><span class=\"duration\">3 小時 25 分鐘</span><ul class=\"stop-line\"><li class=\"stop-line\"></li></ul><div class=\"leg-stops no-stops\"><span class=\"leg-stops-green leg-stops-label\">直飛 </span><span class=\"leg-stops-station\"></span></div></div><div class=\"arrive\"><span class=\"station-tooltip\" data-id=\"10783\"><span class=\"times\">15:55</span><span class=\"stop-station\" data-id=\"10783\">CTS</span></span></div></div></section><section data-id=\"1\" class=\"card-main leg clearfix retn\"><div class=\"big-airline\"><span class=\"text-sm\">捷星航空 + 樂桃</span></div><div class=\"leg-details  \"><div class=\"depart\"><span class=\"station-tooltip\" data-id=\"10783\"><span class=\"times\">10:30</span><span class=\"stop-station\" data-id=\"10783\">CTS</span></span></div><div class=\"stops\"><span class=\"duration\">8 小時 45 分鐘</span><ul class=\"stop-line\"><li class=\"stop-dot\"></li><li class=\"stop-line\"></li></ul><div class=\"leg-stops\"><span class=\"leg-stops-red leg-stops-label\">轉機1次 </span><span class=\"leg-stops-station\"><span class=\"stop-station\" data-id=\"13068\">KIX</span></span></div></div><div class=\"arrive\"><span class=\"station-tooltip\" data-id=\"17075\"><span class=\"times\">18:15</span><span class=\"stop-station\" data-id=\"17075\">TPE</span></span></div><div class=\"leg-operator\">由 Jetstar Japan 部分營運</div></div></section></div><aside class=\"notch-holder\"></aside><div class=\"mainquote-cba clearfix\"><div class=\"mainquote-wrapper-cba\"><div class=\"mq-container-wrapper\"><div class=\"mq-container\"><div class=\"cba-price\"><span class=\"mainquote-deals\">1 個優惠</span><div class=\"mainquote-group-price\"><a href=\"#\" data-deeplink=\"details\" target=\"_blank\" class=\"mainquote-price expand-cba select-action\"><span class=\"\" aria-hidden=\"true\"></span>NT$11,642</a></div></div><a class=\"bpk-button expand-cba select-action\" href=\"#\" title=\"選擇\" data-deeplink=\"details\" target=\"_blank\"><span class=\"bpk-text\">選擇\\xa0</span><span class=\"bpk-icon-sm bpk-icon-pointer bpk-icon-sm--align-to-button\"></span></a><div class=\"cba-agent-info\"><a class=\"ticketing-agent protected-transfer details-action\" href=\"#\" target=\"_blank\" data-deeplink=\"details\"><span aria-hidden=\"true\"></span>自行轉機</a></div><button class=\"ticketing-agent protected-transfer details-action\"><span aria-hidden=\"true\"></span>自行轉機</button></div></div></div></div></article></li><li class=\"day-list-item clearfix \"><article data-cid=\"model_6850\" data-deeplink=\"details\" class=\"card result clearfix no-details has-transfer-info \" ontouchstart=\"\"><div class=\"card-body clearfix multi-ticket operated-by\"><div class=\"clearfix carrier\"><div class=\"airline\"><span class=\"no-logo-airline\"></span><span>酷航 + 天馬航空 + 捷星航空</span></div></div><section data-id=\"0\" class=\"card-main leg clearfix dept\"><div class=\"big-airline\"><img class=\"big\" src=\"//logos.skyscnr.com/images/airlines/small/QY.png\" alt=\"酷航\" data-name=\"酷航\" onerror=\"__imgErrReplace__(this)\" /></div><div class=\"leg-details  \"><div class=\"depart\"><span class=\"station-tooltip\" data-id=\"17075\"><span class=\"times\">11:30</span><span class=\"stop-station\" data-id=\"17075\">TPE</span></span></div><div class=\"stops\"><span class=\"duration\">3 小時 25 分鐘</span><ul class=\"stop-line\"><li class=\"stop-line\"></li></ul><div class=\"leg-stops no-stops\"><span class=\"leg-stops-green leg-stops-label\">直飛 </span><span class=\"leg-stops-station\"></span></div></div><div class=\"arrive\"><span class=\"station-tooltip\" data-id=\"10783\"><span class=\"times\">15:55</span><span class=\"stop-station\" data-id=\"10783\">CTS</span></span></div></div></section><section data-id=\"1\" class=\"card-main leg clearfix retn\"><div class=\"big-airline\"><span class=\"text-sm\">天馬航空 + 捷星航空</span></div><div class=\"leg-details  \"><div class=\"depart\"><span class=\"station-tooltip\" data-id=\"10783\"><span class=\"times\">13:35</span><span class=\"stop-station\" data-id=\"10783\">CTS</span></span></div><div class=\"stops\"><span class=\"duration\">12 小時 30 分鐘</span><ul class=\"stop-line\"><li class=\"stop-dot\"></li><li class=\"stop-line\"></li></ul><div class=\"leg-stops\"><span class=\"leg-stops-red leg-stops-label\">轉機1次 </span><span class=\"leg-stops-station\"><span class=\"stop-station\" data-id=\"14645\">NGO</span></span></div></div><div class=\"arrive\"><span class=\"station-tooltip\" data-id=\"17075\"><span class=\"times\">01:05<small> (+1)</small></span><span class=\"stop-station\" data-id=\"17075\">TPE</span></span></div><div class=\"leg-operator\">由 Jetstar Japan 部分營運</div></div></section></div><aside class=\"notch-holder\"></aside><div class=\"mainquote-cba clearfix\"><div class=\"mainquote-wrapper-cba\"><div class=\"mq-container-wrapper\"><div class=\"mq-container\"><div class=\"cba-price\"><span class=\"mainquote-deals\">1 個優惠</span><div class=\"mainquote-group-price\"><a href=\"#\" data-deeplink=\"details\" target=\"_blank\" class=\"mainquote-price expand-cba select-action\"><span class=\"\" aria-hidden=\"true\"></span>NT$11,681</a></div></div><a class=\"bpk-button expand-cba select-action\" href=\"#\" title=\"選擇\" data-deeplink=\"details\" target=\"_blank\"><span class=\"bpk-text\">選擇\\xa0</span><span class=\"bpk-icon-sm bpk-icon-pointer bpk-icon-sm--align-to-button\"></span></a><div class=\"cba-agent-info\"><a class=\"ticketing-agent protected-transfer details-action\" href=\"#\" target=\"_blank\" data-deeplink=\"details\"><span aria-hidden=\"true\"></span>自行轉機</a></div><button class=\"ticketing-agent protected-transfer details-action\"><span aria-hidden=\"true\"></span>自行轉機</button></div></div></div></div></article></li><li class=\"fss-cross-sell-inline clearfix\" data-priced=\"false\" data-picture=\"generic\"><button data-type=\"hotels\" title=\"關閉\"></button><div class=\"fss-xsell-inline-image\"><img src=\"/crosssell/content/images/hotels/inline_oneline/130x66_Hotels_generic_005.jpg\" alt=\"需要札幌的酒店資訊嗎？\" /></div><div class=\"fss-xsell-inline-info\"><p class=\"fss-xsell-inline-header\">需要札幌的酒店資訊嗎？</p></div><div class=\"fss-xsell-inline-button\"><a data-type=\"hotels\" data-priced=\"false\" href=\"/hotels/q?q=%e6%9c%ad%e5%b9%8c&amp;bpt_eid=o_27537553&amp;hsd=05%2f01%2f2017&amp;sd=2017-01-05&amp;hed=15%2f01%2f2017&amp;ed=2017-01-15&amp;na=1&amp;nr=1&amp;langid=zh&amp;ccy=TWD&amp;usrplace=TW\" title=\"在新視窗中開啟\" target=\"_blank\">尋找酒店</a></div></li><li class=\"day-list-item clearfix \"><article data-cid=\"model_6855\" data-deeplink=\"details\" class=\"card result clearfix no-details has-transfer-info \" ontouchstart=\"\"><div class=\"card-body clearfix multi-ticket\"><div class=\"clearfix carrier\"><div class=\"airline\"><span class=\"no-logo-airline\"></span><span>酷航 + 樂桃 + 香草航空</span></div></div><section data-id=\"0\" class=\"card-main leg clearfix dept\"><div class=\"big-airline\"><img class=\"big\" src=\"//logos.skyscnr.com/images/airlines/small/QY.png\" alt=\"酷航\" data-name=\"酷航\" onerror=\"__imgErrReplace__(this)\" /></div><div class=\"leg-details  \"><div class=\"depart\"><span class=\"station-tooltip\" data-id=\"17075\"><span class=\"times\">11:30</span><span class=\"stop-station\" data-id=\"17075\">TPE</span></span></div><div class=\"stops\"><span class=\"duration\">3 小時 25 分鐘</span><ul class=\"stop-line\"><li class=\"stop-line\"></li></ul><div class=\"leg-stops no-stops\"><span class=\"leg-stops-green leg-stops-label\">直飛 </span><span class=\"leg-stops-station\"></span></div></div><div class=\"arrive\"><span class=\"station-tooltip\" data-id=\"10783\"><span class=\"times\">15:55</span><span class=\"stop-station\" data-id=\"10783\">CTS</span></span></div></div></section><section data-id=\"1\" class=\"card-main leg clearfix retn\"><div class=\"big-airline\"><span class=\"text-sm\">樂桃 + 香草航空</span></div><div class=\"leg-details  \"><div class=\"depart\"><span class=\"station-tooltip\" data-id=\"10783\"><span class=\"times\">18:55</span><span class=\"stop-station\" data-id=\"10783\">CTS</span></span></div><div class=\"stops\"><span class=\"duration\">11 小時 25 分鐘</span><ul class=\"stop-line\"><li class=\"stop-dot\"></li><li class=\"stop-line\"></li></ul><div class=\"leg-stops\"><span class=\"leg-stops-red leg-stops-label\">轉機1次 </span><span class=\"leg-stops-station\"><span class=\"stop-station\" data-id=\"13068\">KIX</span></span></div></div><div class=\"arrive\"><span class=\"station-tooltip\" data-id=\"17075\"><span class=\"times\">05:20<small> (+1)</small></span><span class=\"stop-station\" data-id=\"17075\">TPE</span></span></div></div></section></div><aside class=\"notch-holder\"></aside><div class=\"mainquote-cba clearfix\"><div class=\"mainquote-wrapper-cba\"><div class=\"mq-container-wrapper\"><div class=\"mq-container\"><div class=\"cba-price\"><span class=\"mainquote-deals\">1 個優惠</span><div class=\"mainquote-group-price\"><a href=\"#\" data-deeplink=\"details\" target=\"_blank\" class=\"mainquote-price expand-cba select-action\"><span class=\"\" aria-hidden=\"true\"></span>NT$11,957</a></div></div><a class=\"bpk-button expand-cba select-action\" href=\"#\" title=\"選擇\" data-deeplink=\"details\" target=\"_blank\"><span class=\"bpk-text\">選擇\\xa0</span><span class=\"bpk-icon-sm bpk-icon-pointer bpk-icon-sm--align-to-button\"></span></a><div class=\"cba-agent-info\"><a class=\"ticketing-agent protected-transfer details-action\" href=\"#\" target=\"_blank\" data-deeplink=\"details\"><span aria-hidden=\"true\"></span>自行轉機</a></div><button class=\"ticketing-agent protected-transfer details-action\"><span aria-hidden=\"true\"></span>自行轉機</button></div></div></div></div></article></li><li class=\"day-list-item clearfix \"><article data-cid=\"model_6860\" data-deeplink=\"details\" class=\"card result clearfix no-details has-transfer-info \" ontouchstart=\"\"><div class=\"card-body clearfix multi-ticket operated-by\"><div class=\"clearfix carrier\"><div class=\"airline\"><span class=\"no-logo-airline\"></span><span>酷航 + 樂桃 + 捷星航空</span></div></div><section data-id=\"0\" class=\"card-main leg clearfix dept\"><div class=\"big-airline\"><img class=\"big\" src=\"//logos.skyscnr.com/images/airlines/small/QY.png\" alt=\"酷航\" data-name=\"酷航\" onerror=\"__imgErrReplace__(this)\" /></div><div class=\"leg-details  \"><div class=\"depart\"><span class=\"station-tooltip\" data-id=\"17075\"><span class=\"times\">11:30</span><span class=\"stop-station\" data-id=\"17075\">TPE</span></span></div><div class=\"stops\"><span class=\"duration\">3 小時 25 分鐘</span><ul class=\"stop-line\"><li class=\"stop-line\"></li></ul><div class=\"leg-stops no-stops\"><span class=\"leg-stops-green leg-stops-label\">直飛 </span><span class=\"leg-stops-station\"></span></div></div><div class=\"arrive\"><span class=\"station-tooltip\" data-id=\"10783\"><span class=\"times\">15:55</span><span class=\"stop-station\" data-id=\"10783\">CTS</span></span></div></div></section><section data-id=\"1\" class=\"card-main leg clearfix retn\"><div class=\"big-airline\"><span class=\"text-sm\">樂桃 + 捷星航空</span></div><div class=\"leg-details  \"><div class=\"depart\"><span class=\"station-tooltip\" data-id=\"10783\"><span class=\"times\">12:45</span><span class=\"stop-station\" data-id=\"10783\">CTS</span></span></div><div class=\"stops\"><span class=\"duration\">7 小時 45 分鐘</span><ul class=\"stop-line\"><li class=\"stop-dot\"></li><li class=\"stop-line\"></li></ul><div class=\"leg-stops\"><span class=\"leg-stops-red leg-stops-label\">轉機1次 </span><span class=\"leg-stops-station\"><span class=\"stop-station\" data-id=\"13068\">KIX</span></span></div></div><div class=\"arrive\"><span class=\"station-tooltip\" data-id=\"17075\"><span class=\"times\">19:30</span><span class=\"stop-station\" data-id=\"17075\">TPE</span></span></div><div class=\"leg-operator\">由 Jetstar Asia 部分營運</div></div></section></div><aside class=\"notch-holder\"></aside><div class=\"mainquote-cba clearfix\"><div class=\"mainquote-wrapper-cba\"><div class=\"mq-container-wrapper\"><div class=\"mq-container\"><div class=\"cba-price\"><span class=\"mainquote-deals\">1 個優惠</span><div class=\"mainquote-group-price\"><a href=\"#\" data-deeplink=\"details\" target=\"_blank\" class=\"mainquote-price expand-cba select-action\"><span class=\"\" aria-hidden=\"true\"></span>NT$12,391</a></div></div><a class=\"bpk-button expand-cba select-action\" href=\"#\" title=\"選擇\" data-deeplink=\"details\" target=\"_blank\"><span class=\"bpk-text\">選擇\\xa0</span><span class=\"bpk-icon-sm bpk-icon-pointer bpk-icon-sm--align-to-button\"></span></a><div class=\"cba-agent-info\"><a class=\"ticketing-agent protected-transfer details-action\" href=\"#\" target=\"_blank\" data-deeplink=\"details\"><span aria-hidden=\"true\"></span>自行轉機</a></div><button class=\"ticketing-agent protected-transfer details-action\"><span aria-hidden=\"true\"></span>自行轉機</button></div></div></div></div></article></li><li class=\"day-list-item clearfix \"><article data-cid=\"model_6865\" data-deeplink=\"details\" class=\"card result clearfix no-details has-transfer-info \" ontouchstart=\"\"><div class=\"card-body clearfix multi-ticket\"><div class=\"clearfix carrier\"><div class=\"airline\"><span class=\"no-logo-airline\"></span><span>酷航 + 天馬航空 + 台灣虎航</span></div></div><section data-id=\"0\" class=\"card-main leg clearfix dept\"><div class=\"big-airline\"><img class=\"big\" src=\"//logos.skyscnr.com/images/airlines/small/QY.png\" alt=\"酷航\" data-name=\"酷航\" onerror=\"__imgErrReplace__(this)\" /></div><div class=\"leg-details  \"><div class=\"depart\"><span class=\"station-tooltip\" data-id=\"17075\"><span class=\"times\">11:30</span><span class=\"stop-station\" data-id=\"17075\">TPE</span></span></div><div class=\"stops\"><span class=\"duration\">3 小時 25 分鐘</span><ul class=\"stop-line\"><li class=\"stop-line\"></li></ul><div class=\"leg-stops no-stops\"><span class=\"leg-stops-green leg-stops-label\">直飛 </span><span class=\"leg-stops-station\"></span></div></div><div class=\"arrive\"><span class=\"station-tooltip\" data-id=\"10783\"><span class=\"times\">15:55</span><span class=\"stop-station\" data-id=\"10783\">CTS</span></span></div></div></section><section data-id=\"1\" class=\"card-main leg clearfix retn\"><div class=\"big-airline\"><span class=\"text-sm\">天馬航空 + 台灣虎航</span></div><div class=\"leg-details  \"><div class=\"depart\"><span class=\"station-tooltip\" data-id=\"10783\"><span class=\"times\">21:00</span><span class=\"stop-station\" data-id=\"10783\">CTS</span></span></div><div class=\"stops\"><span class=\"duration\">12 小時 30 分鐘</span><ul class=\"stop-line\"><li class=\"stop-dot\"></li><li class=\"stop-line\"></li></ul><div class=\"leg-stops\"><span class=\"leg-stops-red leg-stops-label\">轉機1次 </span><span class=\"leg-stops-station\"><span class=\"stop-station\" data-id=\"12234\">HND</span></span></div></div><div class=\"arrive\"><span class=\"station-tooltip\" data-id=\"17075\"><span class=\"times\">08:30<small> (+1)</small></span><span class=\"stop-station\" data-id=\"17075\">TPE</span></span></div></div></section></div><aside class=\"notch-holder\"></aside><div class=\"mainquote-cba clearfix\"><div class=\"mainquote-wrapper-cba\"><div class=\"mq-container-wrapper\"><div class=\"mq-container\"><div class=\"cba-price\"><span class=\"mainquote-deals\">1 個優惠</span><div class=\"mainquote-group-price\"><a href=\"#\" data-deeplink=\"details\" target=\"_blank\" class=\"mainquote-price expand-cba select-action\"><span class=\"\" aria-hidden=\"true\"></span>NT$12,510</a></div></div><a class=\"bpk-button expand-cba select-action\" href=\"#\" title=\"選擇\" data-deeplink=\"details\" target=\"_blank\"><span class=\"bpk-text\">選擇\\xa0</span><span class=\"bpk-icon-sm bpk-icon-pointer bpk-icon-sm--align-to-button\"></span></a><div class=\"cba-agent-info\"><a class=\"ticketing-agent protected-transfer details-action\" href=\"#\" target=\"_blank\" data-deeplink=\"details\"><span aria-hidden=\"true\"></span>自行轉機</a></div><button class=\"ticketing-agent protected-transfer details-action\"><span aria-hidden=\"true\"></span>自行轉機</button></div></div></div></div></article></li><li class=\"day-list-item clearfix \"><article data-cid=\"model_6870\" data-deeplink=\"details\" class=\"card result clearfix no-details  \" ontouchstart=\"\"><div class=\"card-body clearfix operated-by\"><div class=\"clearfix carrier\"><div class=\"airline\"><img src=\"//logos.skyscnr.com/images/airlines/favicon/JQ.png\" alt=\"捷星航空\" onerror=\"__imgErrRemove__(this)\" /><span>捷星航空</span></div></div><section data-id=\"0\" class=\"card-main leg clearfix dept\"><div class=\"big-airline\"><img class=\"big\" src=\"//logos.skyscnr.com/images/airlines/small/JQ.png\" alt=\"捷星航空\" data-name=\"捷星航空\" onerror=\"__imgErrReplace__(this)\" /></div><div class=\"leg-details  \"><div class=\"depart\"><span class=\"station-tooltip\" data-id=\"17075\"><span class=\"times\">07:00</span><span class=\"stop-station\" data-id=\"17075\">TPE</span></span></div><div class=\"stops\"><span class=\"duration\">8 小時 20 分鐘</span><ul class=\"stop-line\"><li class=\"stop-dot\"></li><li class=\"stop-line\"></li></ul><div class=\"leg-stops\"><span class=\"leg-stops-red leg-stops-label\">轉機1次 </span><span class=\"leg-stops-station\"><span class=\"stop-station\" data-id=\"13068\">KIX</span></span></div></div><div class=\"arrive\"><span class=\"station-tooltip\" data-id=\"10783\"><span class=\"times\">16:20</span><span class=\"stop-station\" data-id=\"10783\">CTS</span></span></div><div class=\"leg-operator\">由 Jetstar Asia, Jetstar Japan 營運</div></div></section><section data-id=\"1\" class=\"card-main leg clearfix retn\"><div class=\"big-airline\"><img class=\"big\" src=\"//logos.skyscnr.com/images/airlines/small/JQ.png\" alt=\"捷星航空\" data-name=\"捷星航空\" onerror=\"__imgErrReplace__(this)\" /></div><div class=\"leg-details  \"><div class=\"depart\"><span class=\"station-tooltip\" data-id=\"10783\"><span class=\"times\">10:30</span><span class=\"stop-station\" data-id=\"10783\">CTS</span></span></div><div class=\"stops\"><span class=\"duration\">10 小時</span><ul class=\"stop-line\"><li class=\"stop-dot\"></li><li class=\"stop-line\"></li></ul><div class=\"leg-stops\"><span class=\"leg-stops-red leg-stops-label\">轉機1次 </span><span class=\"leg-stops-station\"><span class=\"stop-station\" data-id=\"13068\">KIX</span></span></div></div><div class=\"arrive\"><span class=\"station-tooltip\" data-id=\"17075\"><span class=\"times\">19:30</span><span class=\"stop-station\" data-id=\"17075\">TPE</span></span></div><div class=\"leg-operator\">由 Jetstar Japan, Jetstar Asia 營運</div></div></section></div><aside class=\"notch-holder\"></aside><div class=\"mainquote-cba clearfix\"><div class=\"mainquote-wrapper-cba\"><div class=\"mq-container-wrapper\"><div class=\"mq-container\"><div class=\"cba-price\"><span class=\"mainquote-deals\">4 個優惠，價格低至</span><div class=\"mainquote-group-price\"><a href=\"#\" data-deeplink=\"details\" target=\"_blank\" class=\"mainquote-price expand-cba select-action\"><span class=\"\" aria-hidden=\"true\"></span>NT$12,527</a></div></div><a class=\"bpk-button expand-cba select-action\" href=\"#\" title=\"選擇\" data-deeplink=\"details\" target=\"_blank\"><span class=\"bpk-text\">選擇\\xa0</span><span class=\"bpk-icon-sm bpk-icon-pointer bpk-icon-sm--align-to-button\"></span></a></div></div></div></div></article></li><li class=\"fss-cross-sell-inline clearfix\" data-priced=\"true\" data-picture=\"generic\"><button data-type=\"carhire\" title=\"關閉\"></button><div class=\"fss-xsell-inline-image\"><img src=\"/crosssell/content/images/carhire/inline_twoline/130x92_Car_generic_005.jpg\" alt=\"需要札幌千歲的租車服務嗎？\" /></div><div class=\"fss-xsell-inline-info\"><p class=\"fss-xsell-inline-header\">需要札幌千歲的租車服務嗎？</p><p class=\"fss-xsell-inline-message\">租車價格每天 NT$1,440 起</p></div><div class=\"fss-xsell-inline-button\"><a data-type=\"carhire\" data-priced=\"true\" href=\"/carhire/results/CTS/CTS/2017-01-05T10:00/2017-01-15T10:00/30/?iprice=1440&amp;iprice_currency=TWD\" title=\"在新視窗中開啟\" target=\"_blank\">尋找租車</a></div></li><li class=\"day-list-item clearfix \"><article data-cid=\"model_6881\" data-deeplink=\"details\" class=\"card result clearfix no-details  \" ontouchstart=\"\"><div class=\"card-body clearfix operated-by\"><div class=\"clearfix carrier\"><div class=\"airline\"><img src=\"//logos.skyscnr.com/images/airlines/favicon/JQ.png\" alt=\"捷星航空\" onerror=\"__imgErrRemove__(this)\" /><span>捷星航空</span></div></div><section data-id=\"0\" class=\"card-main leg clearfix dept\"><div class=\"big-airline\"><img class=\"big\" src=\"//logos.skyscnr.com/images/airlines/small/JQ.png\" alt=\"捷星航空\" data-name=\"捷星航空\" onerror=\"__imgErrReplace__(this)\" /></div><div class=\"leg-details  \"><div class=\"depart\"><span class=\"station-tooltip\" data-id=\"17075\"><span class=\"times\">02:40</span><span class=\"stop-station\" data-id=\"17075\">TPE</span></span></div><div class=\"stops\"><span class=\"duration\">6 小時 15 分鐘</span><ul class=\"stop-line\"><li class=\"stop-dot\"></li><li class=\"stop-line\"></li></ul><div class=\"leg-stops\"><span class=\"leg-stops-red leg-stops-label\">轉機1次 </span><span class=\"leg-stops-station\"><span class=\"stop-station\" data-id=\"13068\">KIX</span></span></div></div><div class=\"arrive\"><span class=\"station-tooltip\" data-id=\"10783\"><span class=\"times\">09:55</span><span class=\"stop-station\" data-id=\"10783\">CTS</span></span></div><div class=\"leg-operator\">由 Jetstar Japan 營運</div></div></section><section data-id=\"1\" class=\"card-main leg clearfix retn\"><div class=\"big-airline\"><img class=\"big\" src=\"//logos.skyscnr.com/images/airlines/small/JQ.png\" alt=\"捷星航空\" data-name=\"捷星航空\" onerror=\"__imgErrReplace__(this)\" /></div><div class=\"leg-details  \"><div class=\"depart\"><span class=\"station-tooltip\" data-id=\"10783\"><span class=\"times\">13:10</span><span class=\"stop-station\" data-id=\"10783\">CTS</span></span></div><div class=\"stops\"><span class=\"duration\">12 小時 35 分鐘</span><ul class=\"stop-line\"><li class=\"stop-dot\"></li><li class=\"stop-line\"></li></ul><div class=\"leg-stops\"><span class=\"leg-stops-red leg-stops-label\">轉機1次 </span><span class=\"leg-stops-station\"><span class=\"stop-station\" data-id=\"14788\">NRT</span></span></div></div><div class=\"arrive\"><span class=\"station-tooltip\" data-id=\"17075\"><span class=\"times\">00:45<small> (+1)</small></span><span class=\"stop-station\" data-id=\"17075\">TPE</span></span></div><div class=\"leg-operator\">由 Jetstar Japan 營運</div></div></section></div><aside class=\"notch-holder\"></aside><div class=\"mainquote-cba clearfix\"><div class=\"mainquote-wrapper-cba\"><div class=\"mq-container-wrapper\"><div class=\"mq-container\"><div class=\"cba-price\"><span class=\"mainquote-deals\">3 個優惠，價格低至</span><div class=\"mainquote-group-price\"><a href=\"#\" data-deeplink=\"details\" target=\"_blank\" class=\"mainquote-price expand-cba select-action\"><span class=\"\" aria-hidden=\"true\"></span>NT$13,124</a></div></div><a class=\"bpk-button expand-cba select-action\" href=\"#\" title=\"選擇\" data-deeplink=\"details\" target=\"_blank\"><span class=\"bpk-text\">選擇\\xa0</span><span class=\"bpk-icon-sm bpk-icon-pointer bpk-icon-sm--align-to-button\"></span></a></div></div></div></div></article></li><li class=\"day-list-item clearfix \"><article data-cid=\"model_6890\" data-deeplink=\"details\" class=\"card result clearfix no-details  \" ontouchstart=\"\"><div class=\"card-body clearfix\"><div class=\"clearfix carrier\"><div class=\"airline\"><span class=\"no-logo-airline\"></span><span>酷航 + 香草航空</span></div></div><section data-id=\"0\" class=\"card-main leg clearfix dept\"><div class=\"big-airline\"><img class=\"big\" src=\"//logos.skyscnr.com/images/airlines/small/QY.png\" alt=\"酷航\" data-name=\"酷航\" onerror=\"__imgErrReplace__(this)\" /></div><div class=\"leg-details  \"><div class=\"depart\"><span class=\"station-tooltip\" data-id=\"17075\"><span class=\"times\">11:30</span><span class=\"stop-station\" data-id=\"17075\">TPE</span></span></div><div class=\"stops\"><span class=\"duration\">3 小時 25 分鐘</span><ul class=\"stop-line\"><li class=\"stop-line\"></li></ul><div class=\"leg-stops no-stops\"><span class=\"leg-stops-green leg-stops-label\">直飛 </span><span class=\"leg-stops-station\"></span></div></div><div class=\"arrive\"><span class=\"station-tooltip\" data-id=\"10783\"><span class=\"times\">15:55</span><span class=\"stop-station\" data-id=\"10783\">CTS</span></span></div></div></section><section data-id=\"1\" class=\"card-main leg clearfix retn\"><div class=\"big-airline\"><img class=\"big\" src=\"//logos.skyscnr.com/images/airlines/small/JW.png\" alt=\"香草航空\" data-name=\"香草航空\" onerror=\"__imgErrReplace__(this)\" /></div><div class=\"leg-details  \"><div class=\"depart\"><span class=\"station-tooltip\" data-id=\"10783\"><span class=\"times\">18:00</span><span class=\"stop-station\" data-id=\"10783\">CTS</span></span></div><div class=\"stops\"><span class=\"duration\">8 小時 15 分鐘</span><ul class=\"stop-line\"><li class=\"stop-dot\"></li><li class=\"stop-line\"></li></ul><div class=\"leg-stops\"><span class=\"leg-stops-red leg-stops-label\">轉機1次 </span><span class=\"leg-stops-station\"><span class=\"stop-station\" data-id=\"14788\">NRT</span></span></div></div><div class=\"arrive\"><span class=\"station-tooltip\" data-id=\"17075\"><span class=\"times\">01:15<small> (+1)</small></span><span class=\"stop-station\" data-id=\"17075\">TPE</span></span></div></div></section></div><aside class=\"notch-holder\"></aside><div class=\"mainquote-cba clearfix\"><div class=\"mainquote-wrapper-cba\"><div class=\"mq-container-wrapper\"><div class=\"mq-container\"><div class=\"cba-price\"><span class=\"mainquote-deals\">1 個優惠</span><div class=\"mainquote-group-price\"><a href=\"#\" data-deeplink=\"details\" target=\"_blank\" class=\"mainquote-price expand-cba select-action\"><span class=\"\" aria-hidden=\"true\"></span>NT$14,365</a></div></div><a class=\"bpk-button expand-cba select-action\" href=\"#\" title=\"選擇\" data-deeplink=\"details\" target=\"_blank\"><span class=\"bpk-text\">選擇\\xa0</span><span class=\"bpk-icon-sm bpk-icon-pointer bpk-icon-sm--align-to-button\"></span></a></div></div></div></div></article></li></ul><div class=\"fss-no-results hidden\"></div><div class=\"day-list-info info-bottom clearfix\"><div class=\"day-list-count\"><strong>1</strong> 到 <strong>10</strong>，總共 <strong>532</strong> 筆</div><div class=\"day-list-pagination clearfix\" data-id=\"bottom\"><ul class=\"clearfix\"><li class=\"selected\">1</li><li data-id=\"2\"> <button>2</button> </li><li data-id=\"3\"> <button>3</button> </li><li class=\"ellipsis\">...</li><li data-id=\"54\"> <button>54</button> </li><li data-id=\"next\" class=\"next\"><button title=\"下一頁\">\\xa0</button></li></ul></div></div></div></div></section></div><div id=\"mobile-sort-controls\" data-overlay=\"mobile-sort\" class=\"fss-flight-controls fss-mobile-panel mobile-controls hidden fss-no-touch\"><header class=\"flight-controls-header split-panel-header\"><nav class=\"clearfix\"><h3>排序方式</h3><button class=\"apply fss-secondary\">完成</button></nav></header><div class=\"flight-controls-content split-panel-content\"><ol><li><label class=\"clearfix\"><span class=\"label-text\">每位成人票價</span><input name=\"mobile-sort\" type=\"radio\" value=\"price\" checked=\"checked\" /></label></li><li><label class=\"clearfix\"><span class=\"label-text\">旅程時間總計</span><input name=\"mobile-sort\" type=\"radio\" value=\"duration\" /></label></li><li><label class=\"clearfix\"><span class=\"label-text\">去程:出發時間</span><input name=\"mobile-sort\" type=\"radio\" value=\"outbound_departure_time\" /></label></li><li><label class=\"clearfix\"><span class=\"label-text\">回程:出發時間</span><input name=\"mobile-sort\" type=\"radio\" value=\"return_departure_time\" /></label></li><li><label class=\"clearfix\"><span class=\"label-text\">航空公司</span><input name=\"mobile-sort\" type=\"radio\" value=\"airlines\" /></label></li><li><label class=\"clearfix\"><span class=\"label-text\">轉機次數</span><input name=\"mobile-sort\" type=\"radio\" value=\"stops\" /></label></li></ol></div></div><div id=\"mobile-filter-controls\" data-overlay=\"mobile-filter\" class=\"fss-flight-controls fss-mobile-panel mobile-controls hidden fss-no-touch\"><header class=\"flight-controls-header split-panel-header\"><nav class=\"clearfix\"><h3>篩選</h3><button class=\"apply fss-secondary\">完成</button></nav><div class=\"total-results clearfix\"><span>結果：532/532</span><button disabled=\"disabled\">重設所有篩選</button></div></header><div class=\"flight-controls-content extended split-panel-content\"><dl data-id=\"stops\" class=\"mobile-filters-stops hidden\"></dl><dl data-id=\"departure_times\" class=\"mobile-filters-departure-times hidden\"><dt><a href=\"#\" class=\"clearfix\"><span>出發時間</span><span class=\"chevron\" aria-hidden=\"true\"></span></a></dt><dd class=\"filter-opts slider-opts\"><h4></h4><div class=\"time-range\"></div><div class=\"departure-times-slider\"></div></dd><dd class=\"filter-opts slider-opts hidden\"><h4></h4><div class=\"time-range\"></div><div class=\"departure-times-slider\"></div></dd><dd class=\"filter-opts slider-opts hidden\"><h4></h4><div class=\"time-range\"></div><div class=\"departure-times-slider\"></div></dd><dd class=\"filter-opts slider-opts hidden\"><h4></h4><div class=\"time-range\"></div><div class=\"departure-times-slider\"></div></dd><dd class=\"filter-opts slider-opts hidden\"><h4></h4><div class=\"time-range\"></div><div class=\"departure-times-slider\"></div></dd><dd class=\"filter-opts slider-opts hidden\"><h4></h4><div class=\"time-range\"></div><div class=\"departure-times-slider\"></div></dd></dl><dl data-id=\"duration\" class=\"mobile-filters-journey-duration hidden\"><dt><a href=\"#\" class=\"clearfix\"><span>旅行總時間</span><span class=\"chevron\" aria-hidden=\"true\"></span></a></dt><dd class=\"filter-opts slider-opts\"><div class=\"time-range\"></div><div class=\"duration-slider\"></div></dd></dl><dl data-id=\"airlines\" class=\"mobile-filters-airlines hidden\"></dl><dl data-id=\"airports\" class=\"mobile-filters-airports hidden\"></dl></div></div><div id=\"details-panel\" data-overlay=\"details\" class=\"fss-dayview fss-popup-container hidden fss-modal fss-no-touch\"><div class=\"fss-popup fss-bp\"><button class=\"close-panel action-close\" data-close-method=\"dismiss\" title=\"關閉\"></button><div class=\"fss-popup-section loading-message\"><div>載入中...</div><div class=\"hot-spinner medium\" aria-hidden=\"true\"></div></div><div class=\"fss-popup-section not-found-message hidden\"><div class=\"error-message\"><p class=\"primary-message\">抱歉，目前不再有此價格</p><p class=\"secondary-message\">機票可能已經售完。</p></div><button class=\"bpk-button bpk-button--secondary action-close\"><span class=\"bpk-text\">返回結果\\xa0</span></button></div><div class=\"fss-popup-section fss-bp-content hidden\"><div class=\"fss-bp-itinerary\"></div><div class=\"fss-bp-ticket\"></div></div><div class=\"fss-airport-transfer fss-popup-section hidden\"></div><div class=\"fss-cross-sell-panel fss-popup-section hidden\"></div><div class=\"fss-bp-scroll-to-price hidden\"><button><span></span></button></div></div></div><div id=\"details-mobile-panel\" data-overlay=\"mobile-details\" class=\"fss-bp fss-mobile-panel fss-dayview fss-split hidden fss-bp-single fss-no-touch\"><div class=\"fss-panel-page fss-panel-1\"><section class=\"fss-mobile-details\"><header class=\"fss-panel-header\"><button class=\"header-button header-left action-back\" data-close-method=\"back_arrow\"><span class=\"header-icon panel-back-icon\"></span></button><div class=\"header-title\"><h3>詳細資訊</h3></div><button class=\"header-button header-right action-close\" data-close-method=\"dismiss\"><span class=\"header-icon panel-close-icon\"></span></button></header><section class=\"fss-panel-content\"><div class=\"fss-popup fss-bp\"><button class=\"close-panel action-close\" data-close-method=\"dismiss\" title=\"關閉\"></button><div class=\"fss-popup-section loading-message\"><div>載入中...</div><div class=\"hot-spinner medium\" aria-hidden=\"true\"></div></div><div class=\"fss-popup-section not-found-message hidden\"><div class=\"error-message\"><p class=\"primary-message\">抱歉，目前不再有此價格</p><p class=\"secondary-message\">機票可能已經售完。</p></div><button class=\"bpk-button bpk-button--secondary action-close\"><span class=\"bpk-text\">返回結果\\xa0</span></button></div><div class=\"fss-popup-section fss-bp-content hidden\"><div class=\"fss-bp-itinerary\"></div><div class=\"fss-bp-ticket\"></div><div class=\"fss-bp-trip\"><h3 class=\"panel-header plantrip text-lg\">規劃您的行程</h3><div class=\"panel-content\"><div class=\"fss-airport-transfer trip-section fss-popup-section hidden\"></div><div class=\"fss-cross-sell-panel fss-popup-section hidden\"></div></div></div></div><div class=\"fss-bp-scroll-to-price hidden\"><button><span></span></button></div></div></section></section></div></div><div id=\"upsell-panel\" data-overlay=\"upsell\" class=\"fss-dayview fss-popup-container hidden fss-no-touch\"><div class=\"fss-popup fss-upsell-panel\"><button class=\"close-panel action-close\" title=\"關閉\"></button><div class=\"fss-popup-section loading-message\">載入中...</div><div class=\"fss-airport-transfer fss-popup-section hidden\"></div><div class=\"fss-cross-sell-panel fss-popup-section hidden\"></div></div></div><section id=\"price-alerts-section\" data-overlay=\"price-alert\" class=\"fss-dayview fss-popup-container hidden fss-no-touch\"><div class=\"fss-popup fss-alerts-panel\"></div></section><section id=\"session-expiry-panel\" data-overlay=\"session-expiry\" class=\"fss-dayview fss-expiry-container fss-popup-container hidden fss-no-touch\"><div class=\"fss-popup fss-session-expiry-panel\"><div class=\"expiry-title\">重新整理您的結果</div><div class=\"expiry-message\">為了獲得最新價格和餘票情況，我們需要<strong>重新整理您的結果</strong>。</div><button class=\"bpk-button bpk-button--secondary refresh-button\"><span class=\"bpk-text\">好，重新整理\\xa0</span></button></div></section><section id=\"apd-popup-section\" data-overlay=\"apd-popup\" class=\"fss-dayview fss-popup-container hidden fss-no-touch\"><div class=\"fss-popup fss-apd-popup\"></div></section><div id=\"css-content\" class=\"hidden\"></div><p class=\"prices-checked-msg\"><b>以上價格為每日更新，</b>實際票價可能根據訂票時的餘票數量有所變動。</p><p class=\"additional-fees show-month-view-btn\"><b>托運行李？</b>\\xa0<a target=\"_blank\" title=\"在新視窗中開啟\" href=\"/airlinefees\">可能需要收取額外行李費</a></p><aside id=\"fss-avg-price-toast\" class=\"toast clearfix toast-hidden\" data-overlay=\"avg-price-toast\"><div class=\"toast-content\"><div class=\"toast-text\"><p>所示價格為<strong>人均</strong>價格，其中包含任何適用於兒童或嬰兒的折扣。</p><p>請注意，某些航空公司會針對由同行者抱於膝上的嬰兒收費。</p></div><button class=\"close-button toast-dismiss\" aria-hidden=\"true\"></button><footer class=\"toast-controls\"><div class=\"open-controls\"><button class=\"bpk-button bpk-button--secondary toast-dismiss dismiss-trigger got-it\"><span class=\"bpk-text\">了解！\\xa0</span></button><a class=\"bpk-button bpk-button--link find-more\" href=\"https://help.skyscanner.net/hc/zh-tw/articles/201151562\" title=\"了解詳情\" target=\"_blank\"><span class=\"bpk-text\">了解詳情\\xa0</span><span class=\"bpk-icon-sm bpk-icon-chevron-right bpk-icon-sm--align-to-button\"></span></a></div></footer></div></aside><div id=\"need-alts-container\" class=\"fss-need-alts\"><p> 想要獲得更多旅行選擇？請直接向下面的提供商咨詢： </p><section id=\"need-alts-section\" class=\"need-alts clearfix\"><div class=\"need-alts-col col-travel-agents\"><h4 class=\"theme-darker\">旅行社</h4><div class=\"need-alts-col-body\"><div class=\"need-alts-row  clearfix\"><a class=\"need-alts-img clearfix\" href=\"/transport_deeplink/4.0/TW/zh-tw/TWD/omeg/2/7834.7272.2017-01-05,7272.7834.2017-01-15/air/trava/alsoflies?passengers=1,0,0&amp;client_id=skyscanner_website&amp;request_id=1a2c06ca-1550-472b-a262-ec8772bb7aaf\" target=\"_blank\"><img src=\"/images/websites/bar/omeg.png\" title=\"從 台北 TPE 到 札幌 SPK\" alt=\"歐美嘉\" /><span class=\"need-alts-select-arrow\" title=\"從 台北 TPE 到 札幌 SPK\"><span class=\"visually-hidden\">從 台北 TPE 到 札幌 SPK</span></span></a></div><div class=\"need-alts-row  clearfix\"><a class=\"need-alts-img clearfix\" href=\"/transport_deeplink/4.0/TW/zh-tw/TWD/skyp/2/17075.10783.2017-01-05,10783.17075.2017-01-15/air/trava/alsoflies?passengers=1,0,0&amp;client_id=skyscanner_website&amp;request_id=1a2c06ca-1550-472b-a262-ec8772bb7aaf\" target=\"_blank\"><img src=\"/images/websites/bar/skyp.png\" title=\"從 台北桃園 TPE 到 札幌千歲 CTS\" alt=\"Kiwi.com\" /><span class=\"need-alts-select-arrow\" title=\"從 台北桃園 TPE 到 札幌千歲 CTS\"><span class=\"visually-hidden\">從 台北桃園 TPE 到 札幌千歲 CTS</span></span></a></div><div class=\"need-alts-row  clearfix\"><a class=\"need-alts-img clearfix\" href=\"/transport_deeplink/4.0/TW/zh-tw/TWD/gtas/2/17075.10783.2017-01-05,10783.17075.2017-01-15/air/trava/alsoflies?passengers=1,0,0&amp;client_id=skyscanner_website&amp;request_id=1a2c06ca-1550-472b-a262-ec8772bb7aaf\" target=\"_blank\"><img src=\"/images/websites/bar/gtas.png\" title=\"從 台北桃園 TPE 到 札幌千歲 CTS\" alt=\"GotoGate\" /><span class=\"need-alts-select-arrow\" title=\"從 台北桃園 TPE 到 札幌千歲 CTS\"><span class=\"visually-hidden\">從 台北桃園 TPE 到 札幌千歲 CTS</span></span></a></div><div class=\"need-alts-row  clearfix\"><a class=\"need-alts-img clearfix\" href=\"/transport_deeplink/4.0/TW/zh-tw/TWD/xptw/2/7834.7272.2017-01-05,7272.7834.2017-01-15/air/trava/alsoflies?passengers=1,0,0&amp;client_id=skyscanner_website&amp;request_id=1a2c06ca-1550-472b-a262-ec8772bb7aaf\" target=\"_blank\"><img src=\"/images/websites/bar/xptw.png\" title=\"從 台北 TPE 到 札幌 SPK\" alt=\"Expedia\" /><span class=\"need-alts-select-arrow\" title=\"從 台北 TPE 到 札幌 SPK\"><span class=\"visually-hidden\">從 台北 TPE 到 札幌 SPK</span></span></a></div><div class=\"need-alts-row  clearfix\"><a class=\"need-alts-img clearfix\" href=\"/transport_deeplink/4.0/TW/zh-tw/TWD/a178/2/7834.7272.2017-01-05,7272.7834.2017-01-15/air/trava/alsoflies?passengers=1,0,0&amp;client_id=skyscanner_website&amp;request_id=1a2c06ca-1550-472b-a262-ec8772bb7aaf\" target=\"_blank\"><img src=\"/images/websites/bar/a178.png\" title=\"從 台北 TPE 到 札幌 SPK\" alt=\"ebookers\" /><span class=\"need-alts-select-arrow\" title=\"從 台北 TPE 到 札幌 SPK\"><span class=\"visually-hidden\">從 台北 TPE 到 札幌 SPK</span></span></a></div><div class=\"need-alts-row  clearfix\"><a class=\"need-alts-img clearfix\" href=\"/transport_deeplink/4.0/TW/zh-tw/TWD/at24/2/7834.7272.2017-01-05,7272.7834.2017-01-15/air/trava/alsoflies?passengers=1,0,0&amp;client_id=skyscanner_website&amp;request_id=1a2c06ca-1550-472b-a262-ec8772bb7aaf\" target=\"_blank\"><img src=\"/images/websites/bar/at24.png\" title=\"從 台北 TPE 到 札幌 SPK\" alt=\"Mytrip\" /><span class=\"need-alts-select-arrow\" title=\"從 台北 TPE 到 札幌 SPK\"><span class=\"visually-hidden\">從 台北 TPE 到 札幌 SPK</span></span></a></div><div class=\"need-alts-row  clearfix\"><a class=\"need-alts-img clearfix\" href=\"/transport_deeplink/4.0/TW/zh-tw/TWD/smtf/2/7834.7272.2017-01-05,7272.7834.2017-01-15/air/trava/alsoflies?passengers=1,0,0&amp;client_id=skyscanner_website&amp;request_id=1a2c06ca-1550-472b-a262-ec8772bb7aaf\" target=\"_blank\"><img src=\"/images/websites/bar/smtf.png\" title=\"從 台北 TPE 到 札幌 SPK\" alt=\"SmartFares\" /><span class=\"need-alts-select-arrow\" title=\"從 台北 TPE 到 札幌 SPK\"><span class=\"visually-hidden\">從 台北 TPE 到 札幌 SPK</span></span></a></div><div class=\"need-alts-row  clearfix\"><a class=\"need-alts-img clearfix\" href=\"/transport_deeplink/4.0/TW/zh-tw/TWD/petw/2/17075.10783.2017-01-05,10783.17075.2017-01-15/air/trava/alsoflies?passengers=1,0,0&amp;client_id=skyscanner_website&amp;request_id=1a2c06ca-1550-472b-a262-ec8772bb7aaf\" target=\"_blank\"><img src=\"/images/websites/bar/petw.png\" title=\"從 台北桃園 TPE 到 札幌千歲 CTS\" alt=\"Tripair\" /><span class=\"need-alts-select-arrow\" title=\"從 台北桃園 TPE 到 札幌千歲 CTS\"><span class=\"visually-hidden\">從 台北桃園 TPE 到 札幌千歲 CTS</span></span></a></div><div class=\"need-alts-row  clearfix\"><a class=\"need-alts-img clearfix\" href=\"/transport_deeplink/4.0/TW/zh-tw/TWD/altw/2/17122.10783.2017-01-05,10783.17122.2017-01-15/air/trava/alsoflies?passengers=1,0,0&amp;client_id=skyscanner_website&amp;request_id=1a2c06ca-1550-472b-a262-ec8772bb7aaf\" target=\"_blank\"><img src=\"/images/websites/bar/altw.png\" title=\"從 台北松山 TSA 到 札幌千歲 CTS\" alt=\"DeNA TRAVEL\" /><span class=\"need-alts-select-arrow\" title=\"從 台北松山 TSA 到 札幌千歲 CTS\"><span class=\"visually-hidden\">從 台北松山 TSA 到 札幌千歲 CTS</span></span></a></div><div class=\"need-alts-row  clearfix\"><a class=\"need-alts-img clearfix\" href=\"/transport_deeplink/4.0/TW/zh-tw/TWD/hutw/2/17075.10783.2017-01-05,10783.17075.2017-01-15/air/trava/alsoflies?passengers=1,0,0&amp;client_id=skyscanner_website&amp;request_id=1a2c06ca-1550-472b-a262-ec8772bb7aaf\" target=\"_blank\"><img src=\"/images/websites/bar/hutw.png\" title=\"從 台北桃園 TPE 到 札幌千歲 CTS\" alt=\"hutchgo.com\" /><span class=\"need-alts-select-arrow\" title=\"從 台北桃園 TPE 到 札幌千歲 CTS\"><span class=\"visually-hidden\">從 台北桃園 TPE 到 札幌千歲 CTS</span></span></a></div><div class=\"need-alts-row  clearfix\"><a class=\"need-alts-img clearfix\" href=\"/transport_deeplink/4.0/TW/zh-tw/TWD/sett/2/17075.10783.2017-01-05,10783.17075.2017-01-15/air/trava/alsoflies?passengers=1,0,0&amp;client_id=skyscanner_website&amp;request_id=1a2c06ca-1550-472b-a262-ec8772bb7aaf\" target=\"_blank\"><img src=\"/images/websites/bar/sett.png\" title=\"從 台北桃園 TPE 到 札幌千歲 CTS\" alt=\"SET 東南旅遊\" /><span class=\"need-alts-select-arrow\" title=\"從 台北桃園 TPE 到 札幌千歲 CTS\"><span class=\"visually-hidden\">從 台北桃園 TPE 到 札幌千歲 CTS</span></span></a></div><div class=\"need-alts-row  clearfix\"><a class=\"need-alts-img clearfix\" href=\"/transport_deeplink/4.0/TW/zh-tw/TWD/tptw/2/7834.7272.2017-01-05,7272.7834.2017-01-15/air/trava/alsoflies?passengers=1,0,0&amp;client_id=skyscanner_website&amp;request_id=1a2c06ca-1550-472b-a262-ec8772bb7aaf\" target=\"_blank\"><img src=\"/images/websites/bar/tptw.png\" title=\"從 台北 TPE 到 札幌 SPK\" alt=\"Tripsta\" /><span class=\"need-alts-select-arrow\" title=\"從 台北 TPE 到 札幌 SPK\"><span class=\"visually-hidden\">從 台北 TPE 到 札幌 SPK</span></span></a></div><div class=\"need-alts-row  clearfix\"><a class=\"need-alts-img clearfix\" href=\"/transport_deeplink/4.0/TW/zh-tw/TWD/ezfl/2/17075.10783.2017-01-05,10783.17075.2017-01-15/air/trava/alsoflies?passengers=1,0,0&amp;client_id=skyscanner_website&amp;request_id=1a2c06ca-1550-472b-a262-ec8772bb7aaf\" target=\"_blank\"><img src=\"/images/websites/bar/ezfl.png\" title=\"從 台北桃園 TPE 到 札幌千歲 CTS\" alt=\"Ezfly易飛網\" /><span class=\"need-alts-select-arrow\" title=\"從 台北桃園 TPE 到 札幌千歲 CTS\"><span class=\"visually-hidden\">從 台北桃園 TPE 到 札幌千歲 CTS</span></span></a></div><div class=\"need-alts-row  clearfix\"><a class=\"need-alts-img clearfix\" href=\"/transport_deeplink/4.0/TW/zh-tw/TWD/aptw/2/17075.10783.2017-01-05,10783.17075.2017-01-15/air/trava/alsoflies?passengers=1,0,0&amp;client_id=skyscanner_website&amp;request_id=1a2c06ca-1550-472b-a262-ec8772bb7aaf\" target=\"_blank\"><img src=\"/images/websites/bar/aptw.png\" title=\"從 台北桃園 TPE 到 札幌千歲 CTS\" alt=\"Airpaz\" /><span class=\"need-alts-select-arrow\" title=\"從 台北桃園 TPE 到 札幌千歲 CTS\"><span class=\"visually-hidden\">從 台北桃園 TPE 到 札幌千歲 CTS</span></span></a></div><div class=\"need-alts-row  clearfix\"><a class=\"need-alts-img clearfix\" href=\"/transport_deeplink/4.0/TW/zh-tw/TWD/ctrp/2/7834.7272.2017-01-05,7272.7834.2017-01-15/air/trava/alsoflies?passengers=1,0,0&amp;client_id=skyscanner_website&amp;request_id=1a2c06ca-1550-472b-a262-ec8772bb7aaf\" target=\"_blank\"><img src=\"/images/websites/bar/ctrp.png\" title=\"從 台北 TPE 到 札幌 SPK\" alt=\"Ctrip\" /><span class=\"need-alts-select-arrow\" title=\"從 台北 TPE 到 札幌 SPK\"><span class=\"visually-hidden\">從 台北 TPE 到 札幌 SPK</span></span></a></div><div class=\"need-alts-row  clearfix\"><a class=\"need-alts-img clearfix\" href=\"/transport_deeplink/4.0/TW/zh-tw/TWD/c51b/2/7834.7272.2017-01-05,7272.7834.2017-01-15/air/trava/alsoflies?passengers=1,0,0&amp;client_id=skyscanner_website&amp;request_id=1a2c06ca-1550-472b-a262-ec8772bb7aaf\" target=\"_blank\"><img src=\"/images/websites/bar/c51b.png\" title=\"從 台北 TPE 到 札幌 SPK\" alt=\"非凡旅行\" /><span class=\"need-alts-select-arrow\" title=\"從 台北 TPE 到 札幌 SPK\"><span class=\"visually-hidden\">從 台北 TPE 到 札幌 SPK</span></span></a></div></div></div><div class=\"need-alts-col col-travel-direct-flights\"><h4 class=\"theme-darker\">直飛航班</h4><div class=\"need-alts-col-body\"><div class=\"need-alts-row  clearfix\"><a class=\"need-alts-img clearfix\" href=\"/transport_deeplink/4.0/TW/zh-tw/TWD/evaw/2/17075.10783.2017-01-05,10783.17075.2017-01-15/air/airli/alsoflies?carriers=-32331&amp;passengers=1,0,0&amp;client_id=skyscanner_website&amp;request_id=1a2c06ca-1550-472b-a262-ec8772bb7aaf\" target=\"_blank\"><img src=\"/images/websites/bar/evaw.png\" title=\"從 台北桃園 TPE 到 札幌千歲 CTS\" alt=\"長榮航空官網\" /><span class=\"need-alts-select-arrow\" title=\"從 台北桃園 TPE 到 札幌千歲 CTS\"><span class=\"visually-hidden\">從 台北桃園 TPE 到 札幌千歲 CTS</span></span></a></div><div class=\"need-alts-row  clearfix\"><a class=\"need-alts-img clearfix\" href=\"/transport_deeplink/4.0/TW/zh-tw/TWD/cair/2/17075.10783.2017-01-05,10783.17075.2017-01-15/air/airli/alsoflies?carriers=-32444&amp;passengers=1,0,0&amp;client_id=skyscanner_website&amp;request_id=1a2c06ca-1550-472b-a262-ec8772bb7aaf\" target=\"_blank\"><img src=\"/images/websites/bar/cair.png\" title=\"從 台北桃園 TPE 到 札幌千歲 CTS\" alt=\"中華航空官網\" /><span class=\"need-alts-select-arrow\" title=\"從 台北桃園 TPE 到 札幌千歲 CTS\"><span class=\"visually-hidden\">從 台北桃園 TPE 到 札幌千歲 CTS</span></span></a></div><div class=\"need-alts-row  clearfix\"><a class=\"need-alts-img clearfix\" href=\"/transport_deeplink/4.0/TW/zh-tw/TWD/scoo/2/17075.10783.2017-01-05,10783.17075.2017-01-15/air/airli/alsoflies?carriers=-31893&amp;passengers=1,0,0&amp;client_id=skyscanner_website&amp;request_id=1a2c06ca-1550-472b-a262-ec8772bb7aaf\" target=\"_blank\"><img src=\"/images/websites/bar/scoo.png\" title=\"從 台北桃園 TPE 到 札幌千歲 CTS\" alt=\"Scoot\" /><span class=\"need-alts-select-arrow\" title=\"從 台北桃園 TPE 到 札幌千歲 CTS\"><span class=\"visually-hidden\">從 台北桃園 TPE 到 札幌千歲 CTS</span></span></a></div><div class=\"need-alts-row  clearfix\"><a class=\"need-alts-img clearfix\" href=\"/transport_deeplink/4.0/TW/zh-tw/TWD/anai/2/7834.7272.2017-01-05,7272.7834.2017-01-15/air/airli/alsoflies?passengers=1,0,0&amp;client_id=skyscanner_website&amp;request_id=1a2c06ca-1550-472b-a262-ec8772bb7aaf\" target=\"_blank\"><img src=\"/images/websites/bar/anai.png\" title=\"從 台北 TPE 到 札幌 SPK\" alt=\"ANA\" /><span class=\"need-alts-select-arrow\" title=\"從 台北 TPE 到 札幌 SPK\"><span class=\"visually-hidden\">從 台北 TPE 到 札幌 SPK</span></span></a></div></div></div><div class=\"need-alts-col col-travel-indirect-flights\"><h4 class=\"theme-darker\">非直飛航班</h4><div class=\"need-alts-col-body\"><div class=\"need-alts-row  clearfix\"><a class=\"need-alts-img clearfix\" href=\"/transport_deeplink/4.0/TW/zh-tw/TWD/sing/2/7834.7272.2017-01-05,7272.7834.2017-01-15/air/airli/alsoflies?carriers=-31876&amp;passengers=1,0,0&amp;client_id=skyscanner_website&amp;request_id=1a2c06ca-1550-472b-a262-ec8772bb7aaf\" target=\"_blank\"><img src=\"/images/websites/bar/sing.png\" title=\"從 台北 TPE 到 札幌 SPK\" alt=\"新加坡航空官網\" /><span class=\"need-alts-select-arrow\" title=\"從 台北 TPE 到 札幌 SPK\"><span class=\"visually-hidden\">從 台北 TPE 到 札幌 SPK</span></span></a></div><div class=\"need-alts-row  clearfix\"><a class=\"need-alts-img clearfix\" href=\"/transport_deeplink/4.0/TW/zh-tw/TWD/vnla/2/17075.10783.2017-01-05,10783.17075.2017-01-15/air/airli/alsoflies?carriers=-31479&amp;passengers=1,0,0&amp;client_id=skyscanner_website&amp;request_id=1a2c06ca-1550-472b-a262-ec8772bb7aaf\" target=\"_blank\"><img src=\"/images/websites/bar/vnla.png\" title=\"從 台北桃園 TPE 到 札幌千歲 CTS\" alt=\"香草航空\" /><span class=\"need-alts-select-arrow\" title=\"從 台北桃園 TPE 到 札幌千歲 CTS\"><span class=\"visually-hidden\">從 台北桃園 TPE 到 札幌千歲 CTS</span></span></a></div><div class=\"need-alts-row  clearfix\"><a class=\"need-alts-img clearfix\" href=\"/transport_deeplink/4.0/TW/zh-tw/TWD/kore/2/17075.10783.2017-01-05,10783.17075.2017-01-15/air/airli/alsoflies?carriers=-32128&amp;passengers=1,0,0&amp;client_id=skyscanner_website&amp;request_id=1a2c06ca-1550-472b-a262-ec8772bb7aaf\" target=\"_blank\"><img src=\"/images/websites/bar/kore.png\" title=\"從 台北桃園 TPE 到 札幌千歲 CTS\" alt=\"大韓航空官網\" /><span class=\"need-alts-select-arrow\" title=\"從 台北桃園 TPE 到 札幌千歲 CTS\"><span class=\"visually-hidden\">從 台北桃園 TPE 到 札幌千歲 CTS</span></span></a></div><div class=\"need-alts-row  clearfix\"><a class=\"need-alts-img clearfix\" href=\"/transport_deeplink/4.0/TW/zh-tw/TWD/jal_/2/17075.10783.2017-01-05,10783.17075.2017-01-15/air/airli/alsoflies?passengers=1,0,0&amp;client_id=skyscanner_website&amp;request_id=1a2c06ca-1550-472b-a262-ec8772bb7aaf\" target=\"_blank\"><img src=\"/images/websites/bar/jal_.png\" title=\"從 台北桃園 TPE 到 札幌千歲 CTS\" alt=\"日本航空官網\" /><span class=\"need-alts-select-arrow\" title=\"從 台北桃園 TPE 到 札幌千歲 CTS\"><span class=\"visually-hidden\">從 台北桃園 TPE 到 札幌千歲 CTS</span></span></a></div><div class=\"need-alts-row  clearfix\"><a class=\"need-alts-img clearfix\" href=\"/transport_deeplink/4.0/TW/zh-tw/TWD/cath/2/17075.10783.2017-01-05,10783.17075.2017-01-15/air/airli/alsoflies?carriers=-32456&amp;passengers=1,0,0&amp;client_id=skyscanner_website&amp;request_id=1a2c06ca-1550-472b-a262-ec8772bb7aaf\" target=\"_blank\"><img src=\"/images/websites/bar/cath.png\" title=\"從 台北桃園 TPE 到 札幌千歲 CTS\" alt=\"國泰航空官網\" /><span class=\"need-alts-select-arrow\" title=\"從 台北桃園 TPE 到 札幌千歲 CTS\"><span class=\"visually-hidden\">從 台北桃園 TPE 到 札幌千歲 CTS</span></span></a></div><div class=\"need-alts-row  clearfix\"><a class=\"need-alts-img clearfix\" href=\"/transport_deeplink/4.0/TW/zh-tw/TWD/asia/2/17075.10783.2017-01-05,10783.17075.2017-01-15/air/airli/alsoflies?carriers=-32558&amp;passengers=1,0,0&amp;client_id=skyscanner_website&amp;request_id=1a2c06ca-1550-472b-a262-ec8772bb7aaf\" target=\"_blank\"><img src=\"/images/websites/bar/asia.png\" title=\"從 台北桃園 TPE 到 札幌千歲 CTS\" alt=\"韓亞航空官網\" /><span class=\"need-alts-select-arrow\" title=\"從 台北桃園 TPE 到 札幌千歲 CTS\"><span class=\"visually-hidden\">從 台北桃園 TPE 到 札幌千歲 CTS</span></span></a></div><div class=\"need-alts-row  clearfix\"><a class=\"need-alts-img clearfix\" href=\"/transport_deeplink/4.0/TW/zh-tw/TWD/jest/2/17075.10783.2017-01-05,10783.17075.2017-01-15/air/airli/alsoflies?carriers=-32165&amp;passengers=1,0,0&amp;client_id=skyscanner_website&amp;request_id=1a2c06ca-1550-472b-a262-ec8772bb7aaf\" target=\"_blank\"><img src=\"/images/websites/bar/jest.png\" title=\"從 台北桃園 TPE 到 札幌千歲 CTS\" alt=\"捷星航空官網\" /><span class=\"need-alts-select-arrow\" title=\"從 台北桃園 TPE 到 札幌千歲 CTS\"><span class=\"visually-hidden\">從 台北桃園 TPE 到 札幌千歲 CTS</span></span></a></div><div class=\"need-alts-row  clearfix\"><a class=\"need-alts-img clearfix\" href=\"/transport_deeplink/4.0/TW/zh-tw/TWD/chin/2/17075.10783.2017-01-05,10783.17075.2017-01-15/air/airli/alsoflies?passengers=1,0,0&amp;client_id=skyscanner_website&amp;request_id=1a2c06ca-1550-472b-a262-ec8772bb7aaf\" target=\"_blank\"><img src=\"/images/websites/bar/chin.png\" title=\"從 台北桃園 TPE 到 札幌千歲 CTS\" alt=\"中國國際航空官網\" /><span class=\"need-alts-select-arrow\" title=\"從 台北桃園 TPE 到 札幌千歲 CTS\"><span class=\"visually-hidden\">從 台北桃園 TPE 到 札幌千歲 CTS</span></span></a></div><div class=\"need-alts-row  clearfix\"><a class=\"need-alts-img clearfix\" href=\"/transport_deeplink/4.0/TW/zh-tw/TWD/aasi/2/17075.10783.2017-01-05,10783.17075.2017-01-15/air/airli/alsoflies?carriers=-31475&amp;passengers=1,0,0&amp;client_id=skyscanner_website&amp;request_id=1a2c06ca-1550-472b-a262-ec8772bb7aaf\" target=\"_blank\"><img src=\"/images/websites/bar/aasi.png\" title=\"從 台北桃園 TPE 到 札幌千歲 CTS\" alt=\"亞洲航空官網\" /><span class=\"need-alts-select-arrow\" title=\"從 台北桃園 TPE 到 札幌千歲 CTS\"><span class=\"visually-hidden\">從 台北桃園 TPE 到 札幌千歲 CTS</span></span></a></div><div class=\"need-alts-row hidden clearfix\"><a class=\"need-alts-img clearfix\" href=\"/transport_deeplink/4.0/TW/zh-tw/TWD/abus/2/17075.10783.2017-01-05,10783.17075.2017-01-15/air/airli/alsoflies?carriers=-32698&amp;passengers=1,0,0&amp;client_id=skyscanner_website&amp;request_id=1a2c06ca-1550-472b-a262-ec8772bb7aaf\" target=\"_blank\" title=\"從 台北桃園 TPE 到 札幌千歲 CTS\">釜山航空官網</a></div><div class=\"need-alts-row clearfix\"><a href=\"#\" class=\"need-alts-more\">更多 <span>▼</span></a></div></div></div></section></div>\\n\\n\\n        \\n<script>\\n  this.Skyscanner || (this.Skyscanner = {});\\n  this.Skyscanner.FSS || (this.Skyscanner.FSS = {config: {}, translations: {}});\\n  this.Skyscanner.FSS.config.nodeName = \"FLPVWSG1FUN002\";\\n</script>\\n\\n\\n\\n\\n\\n    <div id=\"banner-strevda\">\\n        <div id=\"adslot-s91BD5to\" data-google-query-id=\"CM_YjJ2xk9ECFcculgod1DcFSg\"><div id=\"google_ads_iframe_/24268069/skyscanner.com.tw/flights_funnel/day_view/leaderboard_0__container__\" style=\"border: 0pt none;\"><iframe id=\"google_ads_iframe_/24268069/skyscanner.com.tw/flights_funnel/day_view/leaderboard_0\" title=\"3rd party ad content\" name=\"google_ads_iframe_/24268069/skyscanner.com.tw/flights_funnel/day_view/leaderboard_0\" width=\"728\" height=\"90\" scrolling=\"no\" marginwidth=\"0\" marginheight=\"0\" frameborder=\"0\" srcdoc=\"\" style=\"border: 0px; vertical-align: bottom;\"></iframe></div></div>\\n<script>\\n  window.adSlots = window.adSlots || [];\\n  window.adSlots.push({\\n    containerId: \\'adslot-s91BD5to\\',\\n    advertType: \\'bottomAd\\'\\n  });\\n</script>\\n\\n\\n\\n\\n    </div>\\n            <p class=\"seo-footer\">\\n                您若是發現此頁面中存有不正確的資訊，請<a title=\"與 Skyscanner 聯絡\" href=\"https://help.skyscanner.net/hc/zh-tw/?skyDBG=1\">與 Skyscanner 聯絡</a>。\\n            </p>\\n</div>\\n</div>\\n<aside id=\"sidebar\">\\n    <div class=\"strevda-container\">\\n            <div class=\"mpu-strevda\">\\n                <div id=\"adslot-ktegM0K1\"></div>\\n<script>\\n  window.adSlots = window.adSlots || [];\\n  window.adSlots.push({\\n    containerId: \\'adslot-ktegM0K1\\',\\n    advertType: \\'primaryMpu\\'\\n  });\\n</script>\\n\\n\\n\\n\\n\\n            </div>\\n        \\n<div id=\"hotels-ad\" class=\"hotels-supplement\"></div>\\n\\n            <div class=\"mpu-strevda\">\\n                <div id=\"adslot-R5u9Zx4j\"></div>\\n<script>\\n  window.adSlots = window.adSlots || [];\\n  window.adSlots.push({\\n    containerId: \\'adslot-R5u9Zx4j\\',\\n    advertType: \\'secondaryMpu\\'\\n  });\\n</script>\\n\\n\\n\\n\\n            </div>\\n        <div id=\"car-hire-ad\" class=\"dfp-carhire-supplement\"></div>\\n\\n        <div id=\"route-sponsors-section\" class=\"route-sponsors clearfix hidden\">\\n    <h4 class=\"title\"></h4>\\n    <ul></ul>\\n</div>\\n            <div class=\"mpu-strevda\">\\n                <div id=\"mpu-afs\" style=\"display: block; width: 100%; font-weight: normal; text-align: center;\"><iframe frameborder=\"0\" marginwidth=\"0\" marginheight=\"0\" allowtransparency=\"true\" scrolling=\"no\" width=\"100%\" name=\"{&quot;name&quot;:&quot;master-1&quot;,&quot;master-1&quot;:{&quot;container&quot;:&quot;mpu-afs&quot;,&quot;linkTarget&quot;:&quot;_blank&quot;,&quot;lines&quot;:&quot;3&quot;,&quot;colorAdBorder&quot;:&quot;#f3f2f5&quot;,&quot;colorAdSeparator&quot;:&quot;#f3f2f5&quot;,&quot;colorText&quot;:&quot;#000000&quot;,&quot;colorTitleLink&quot;:&quot;#000000&quot;,&quot;colorDomainLink&quot;:&quot;#29a8bb&quot;,&quot;colorBackground&quot;:&quot;#f3f2f5&quot;,&quot;colorBorder&quot;:&quot;#f3f2f5&quot;,&quot;fontFamily&quot;:&quot;arial&quot;,&quot;fontSizeTitle&quot;:&quot;12px&quot;,&quot;fontSizeDescription&quot;:&quot;11px&quot;,&quot;fontSizeDomainLink&quot;:&quot;11px&quot;,&quot;titleBold&quot;:1,&quot;rolloverLinkUnderline&quot;:true,&quot;adIconLocation&quot;:&quot;ad-left&quot;,&quot;width&quot;:&quot;auto&quot;,&quot;type&quot;:&quot;ads&quot;,&quot;hl&quot;:&quot;zh_TW&quot;,&quot;columns&quot;:1,&quot;horizontalAlignment&quot;:&quot;left&quot;,&quot;resultsPageQueryParam&quot;:&quot;query&quot;}}\" id=\"master-1\" src=\"https://afs.googlesyndication.com/afs/ads?q=%E5%BE%9E%E5%8F%B0%E5%8C%97%E9%A3%9B%E5%BE%80%20%E6%9C%AD%E5%B9%8C%E7%9A%84%E5%BB%89%E5%83%B9%E8%88%AA%E7%8F%AD&amp;oe=utf-8&amp;ie=utf-8&amp;r=m&amp;fexp=21404&amp;client=pub-6496241184674058&amp;channel=4469879328&amp;hl=zh_TW&amp;type=0&amp;format=n5&amp;ad=n5&amp;nocache=9951482807722469&amp;num=0&amp;output=uds_ads_only&amp;v=3&amp;bsl=10&amp;u_his=2&amp;u_tz=480&amp;dt=1482807722471&amp;u_w=1280&amp;u_h=1024&amp;biw=1050&amp;bih=883&amp;psw=1050&amp;psh=3020&amp;frm=0&amp;uio=uv3cs1vp1sl0sr0af3ff2st12sd11sv11-&amp;jsv=16218&amp;rurl=https%3A%2F%2Fwww.skyscanner.com.tw%2Ftransport%2Fflights%2Ftpet%2Fcts%2F170105%2F170115%2Fairfares-from-taipei-to-sapporo-chitose-in-january-2017.html%3Fadults%3D1%26children%3D0%26adultsv2%3D1%26childrenv2%3D%26infants%3D0%26cabinclass%3Deconomy%26rtn%3D1%26preferdirects%3Dfalse%26outboundaltsenabled%3Dfalse%26inboundaltsenabled%3Dfalse%26ref%3Dhome%23results#master-1\" style=\"visibility: hidden; height: 0px;\"></iframe></div>\\n            </div>\\n    </div>\\n</aside>    <div id=\"skyscraper-strevda\">\\n        <div id=\"adslot-sqyBxt6V\"></div>\\n<script>\\n  window.adSlots = window.adSlots || [];\\n  window.adSlots.push({\\n    containerId: \\'adslot-sqyBxt6V\\',\\n    advertType: \\'rhsSkyscraper\\'\\n  });\\n</script>\\n\\n\\n\\n\\n    </div>\\n\\n\\n\\n    </div>\\n    <!-- END Content -->\\n\\n<footer id=\"footer\">\\n    \\n    <div class=\"footer-content\">\\n        <div class=\"wrap clearfix\">\\n            <div class=\"tablet-left-column\">\\n                <section id=\"explore-block\">\\n                    <h3>特價機票瀏覽</h3>\\n\\n                        <ul>\\n                                <li class=\"clearfix\"><a id=\"ss-footer-links-city-links\" href=\"https://www.skyscanner.com.tw/flights-to/cheap-flights-to-cities-all.html\">熱門城市</a>\\n                                        <span class=\"toggle-indicator\">+</span>\\n                                        <ul id=\"city-links\" class=\"asian-lang-font-reset clearfix hidden\">\\n                                                <li class=\"clearfix\"><a id=\"ss-footer-links-FlightsCity-OSAA\" href=\"https://www.skyscanner.com.tw/flights-to/osaa/cheap-flights-to-osaka.html\">大阪</a></li>\\n                                                <li class=\"clearfix\"><a id=\"ss-footer-links-FlightsCity-HKGA\" href=\"https://www.skyscanner.com.tw/flights-to/hkg/cheap-flights-to-hong-kong-international-airport.html\">香港</a></li>\\n                                                <li class=\"clearfix\"><a id=\"ss-footer-links-FlightsCity-TYOA\" href=\"https://www.skyscanner.com.tw/flights-to/tyoa/cheap-flights-to-tokyo.html\">東京</a></li>\\n                                                <li class=\"clearfix\"><a id=\"ss-footer-links-FlightsCity-SELA\" href=\"https://www.skyscanner.com.tw/flights-to/sela/cheap-flights-to-seoul.html\">首爾</a></li>\\n                                                <li class=\"clearfix\"><a id=\"ss-footer-links-FlightsCity-CSHA\" href=\"https://www.skyscanner.com.tw/flights-to/csha/cheap-flights-to-shanghai.html\">上海</a></li>\\n                                                <li class=\"clearfix\"><a id=\"ss-footer-links-FlightsCity-SINS\" href=\"https://www.skyscanner.com.tw/flights-to/sin/cheap-flights-to-singapore-changi-airport.html\">新加坡</a></li>\\n                                                <li class=\"clearfix\"><a id=\"ss-footer-links-FlightsCity-MFMA\" href=\"https://www.skyscanner.com.tw/flights-to/mfm/cheap-flights-to-macau-airport.html\">澳門</a></li>\\n                                        </ul>\\n                                </li>\\n                                <li class=\"clearfix\"><a id=\"ss-footer-links-city-breaks\" href=\"https://www.skyscanner.com.tw/city-breaks\">輕旅行</a>\\n                                        <span class=\"toggle-indicator\">+</span>\\n                                        <ul id=\"city-breaks\" class=\"asian-lang-font-reset clearfix hidden\">\\n                                                <li class=\"clearfix\"><a id=\"ss-footer-links-CityBreaks-osaa\" href=\"https://www.skyscanner.com.tw/city-breaks/osaa/osaka-city-breaks.html\">大阪</a></li>\\n                                                <li class=\"clearfix\"><a id=\"ss-footer-links-CityBreaks-hkga\" href=\"https://www.skyscanner.com.tw/city-breaks/hkga/hong-kong-city-breaks.html\">香港</a></li>\\n                                                <li class=\"clearfix\"><a id=\"ss-footer-links-CityBreaks-tyoa\" href=\"https://www.skyscanner.com.tw/city-breaks/tyoa/tokyo-city-breaks.html\">東京</a></li>\\n                                                <li class=\"clearfix\"><a id=\"ss-footer-links-CityBreaks-sela\" href=\"https://www.skyscanner.com.tw/city-breaks/sela/seoul-city-breaks.html\">首爾</a></li>\\n                                                <li class=\"clearfix\"><a id=\"ss-footer-links-CityBreaks-joka\" href=\"https://www.skyscanner.com.tw/city-breaks/joka/okinawa-city-breaks.html\">琉球 (沖澠)</a></li>\\n                                                <li class=\"clearfix\"><a id=\"ss-footer-links-CityBreaks-sins\" href=\"https://www.skyscanner.com.tw/city-breaks/sins/singapore-city-breaks.html\">新加坡</a></li>\\n                                        </ul>\\n                                </li>\\n                                <li class=\"clearfix\"><a id=\"ss-footer-links-airports\" href=\"https://www.skyscanner.com.tw/airports/airports-of-the-world.html\">熱門機場</a>\\n                                </li>\\n                                <li class=\"clearfix\"><a id=\"ss-footer-links-country-links\" href=\"https://www.skyscanner.com.tw/flights-to/cheap-flights-to-countries-all.html\">國家/地區</a>\\n                                        <span class=\"toggle-indicator\">+</span>\\n                                        <ul id=\"country-links\" class=\"asian-lang-font-reset clearfix hidden\">\\n                                                <li class=\"clearfix\"><a id=\"ss-footer-links-FlightsCountry-JP\" href=\"https://www.skyscanner.com.tw/flights-to/jp/cheap-flights-to-japan.html\">日本</a></li>\\n                                                <li class=\"clearfix\"><a id=\"ss-footer-links-FlightsCountry-CN\" href=\"https://www.skyscanner.com.tw/flights-to/cn/cheap-flights-to-china.html\">中國</a></li>\\n                                                <li class=\"clearfix\"><a id=\"ss-footer-links-FlightsCountry-TW\" href=\"https://www.skyscanner.com.tw/flights-to/tw/cheap-flights-to-taiwan.html\">台灣</a></li>\\n                                        </ul>\\n                                </li>\\n                                <li class=\"clearfix\"><a id=\"ss-footer-links-airlines\" href=\"https://www.skyscanner.com.tw/airlines-all.html\">航空公司</a>\\n                                </li>\\n                                <li class=\"clearfix\"><a id=\"ss-footer-links-flights\" href=\"/\">機票</a>\\n                                </li>\\n                                <li class=\"clearfix\"><a id=\"ss-footer-links-hotels\" href=\"/hotels\">旅館</a>\\n                                </li>\\n                                <li class=\"clearfix\"><a id=\"ss-footer-links-car-hire\" href=\"https://www.skyscanner.com.tw/car-hire\">租車</a>\\n                                </li>\\n\\n\\n                            <li class=\"clearfix\"><a id=\"ss-footer-links-apps\" href=\"/mobile.html\">應用程式</a></li>\\n                        </ul>\\n                </section>\\n                <section id=\"tools-block\">\\n                    <h3>合作夥伴</h3>\\n                    <ul>\\n                            <li class=\"clearfix\"><a id=\"ss-footer-links-workwithus\" href=\"http://partners.skyscanner.net/\">加入我們</a></li>\\n\\n                            <li class=\"clearfix\"><a id=\"ss-footer-links-partneranalytics\" href=\"http://partners.skyscanner.net/partner-analytics/\">合作夥伴分析</a></li>\\n\\n                            <li class=\"clearfix\"><a id=\"ss-footer-links-footeradvertising\" href=\"http://partners.skyscanner.net/advertising/\">廣告業務</a></li>\\n                           \\n                            <li class=\"clearfix\"><a id=\"ss-footer-links-travelinsight\" href=\"http://partners.skyscanner.net/travel-insight/\">旅遊見解</a></li>\\n                        \\n                            <li class=\"clearfix\"><a id=\"ss-footer-links-affiliate\" href=\"http://en.business.skyscanner.net/\">分公司</a></li>\\n\\n                        <li class=\"clearfix\"><a id=\"ss-footer-links-whitelabel\" href=\"http://en.business.skyscanner.net/en-gb/products/white-label/\">白色標籤</a></li>\\n                        \\n                        <li class=\"clearfix\"><a id=\"ss-footer-links-api\" href=\"http://en.business.skyscanner.net/en-gb/products/travel-apis/\">旅遊 API</a></li>\\n                        \\n                        <li class=\"clearfix\"><a id=\"ss-footer-links-whitelabel\" href=\"http://en.business.skyscanner.net/developers/\">開發人員</a></li>\\n                    </ul>\\n                </section>\\n            </div>\\n            <div class=\"tablet-right-column\">\\n                <section id=\"company-block\">\\n                    <h3>公司</h3>\\n                    <ul>\\n                        <li class=\"clearfix\"><a href=\"/aboutskyscanner.aspx\">關於 Skyscanner</a></li>\\n                        <li class=\"clearfix\"><a href=\"/companydetails.aspx\">公司詳細資訊</a></li>\\n                        <li class=\"clearfix\"><a href=\"http://www.skyscanner.net/jobs\">工作機會</a></li>\\n                            <li class=\"clearfix\"><a id=\"ss-footer-links-media\" rel=\"nofollow\" href=\"/media\">新聞媒體</a></li>\\n                            <li class=\"clearfix\"><a id=\"news-link\" href=\"/news/\">旅行專欄和新聞</a></li>\\n                        <li class=\"clearfix\"><a href=\"/cookiepolicy.aspx\" id=\"ss-footer-links-cookie\" rel=\"nofollow\">Cookie 政策</a></li>\\n                        <li class=\"clearfix\"><a href=\"/privacypolicy.aspx\" id=\"ss-footer-links-privacy\" rel=\"nofollow\">隱私權政策</a></li>\\n                        <li class=\"clearfix\"><a href=\"/termsofservice.aspx\" id=\"ss-footer-links-terms\">服務條款</a></li>\\n                    </ul>\\n                </section>\\n                <section id=\"help-block\">\\n                    <h3>幫助</h3>\\n                    <ul>\\n                        <li class=\"clearfix\"><a id=\"ss-footer-links-faq\" target=\"_blank\" href=\"https://help.skyscanner.net/hc/zh-tw/?skyDBG=2\">說明</a></li>\\n                    </ul>\\n                </section>\\n            </div>\\n        </div>\\n    </div>\\n     \\n    \\n    \\n    <div class=\"wrap clearfix\">\\n          \\n    </div>\\n    \\n    \\n   \\n</footer>\\n     <div class=\"wrap legal-info\">\\n\\n<p id=\"copyright\" class=\"asian-lang-font-reset\">\\n\\n    <span>© Skyscanner Ltd 2002-2016</span>\\n</p>\\n\\n</div>\\n</div>\\n           \\n    <div id=\"authentication-widgets\">\\n        <div id=\"account-login-widget\" class=\"clearfix hide\">\\n\\n            <div class=\"account-widget-content\">\\n                <span id=\"login-close\" class=\"account-widget-button-close\"><span class=\"hide\">關閉</span></span>\\n            \\n                <div id=\"account-widget-summary\">\\n                    <h2>登入或註冊</h2>\\n                </div>\\n\\n                <iframe id=\"widget-frame\" style=\"width: 100%\" height=\"416\" frameborder=\"0\"></iframe>\\n            </div>\\n        </div>\\n        <div id=\"account-settings-widget\" class=\"clearfix hide\">\\n            <div class=\"account-widget-content\">\\n                <span id=\"account-close\" class=\"account-widget-button-close\"><span class=\"hide\">關閉</span></span>\\n                <div align=\"center\">\\n                    <h2>以下列身分登入：</h2>\\n                    <div id=\"userEmail\"><h2 title=\"\"></h2></div>\\n                \\n                    <a href=\"#\" id=\"manage-price-alerts\" class=\"button\">價格提醒</a>\\n\\n                    <a href=\"#\" id=\"account-settings\" class=\"button\">帳戶設定</a>\\n                    <a href=\"#\" id=\"manage-subscriptions\" class=\"button\">訂閱</a>\\n                    <a href=\"#\" id=\"logout\" class=\"button\">登出</a>\\n                </div>\\n            </div>\\n        </div>\\n    </div>\\n<div id=\"notifications\">\\n    <div class=\"cabin-class-tooltip hidden\">\\n        <p><strong>我們只能為此搜尋顯示經濟艙的價格。</strong></p>\\n        <p>有關更多艙位選擇，請首先選擇特定的城市和旅行日期。</p>\\n    </div>\\n\\n    <div class=\"prices-found-tooltip theme-dark hidden\">\\n        <p>我們已儘可能地讓 Skyscanner 所列出的價格，即是您支付給航空公司的價格。</p>\\n        <p>Skyscanner 上的價格始終包括所有估計的<em>強制性</em>稅費和相關費用。您將支付的機票最終價格可能會由於航空公司提供的其他選項的原因而有所不同，例如行李限額或旅遊保險。</p>\\n    </div>\\n</div>\\n<div id=\"overlay\" class=\"hide lightbox darkbg\"></div>\\n<script id=\"confirmation-dialog-template\" type=\"text/template\">\\n\\t&lt;div id=\"confirmation-dialog-frame\"&gt;\\n\\t\\t&lt;a class=\"close\"&gt;&lt;span class=\"hide\"&gt;關閉&lt;/span&gt;&lt;/a&gt;\\n\\t\\t&lt;div id=\"confirmation-dialog-content\"&gt;\\n\\t\\t\\t&lt;img src=\"&lt;%= Image %&gt;\" alt=\"&lt;%= ImageAlt %&gt;\" /&gt;\\n\\t\\t\\t&lt;p&gt;&lt;%= Prompt %&gt;&lt;/p&gt;\\n\\t\\t&lt;/div&gt;\\t\\t\\t\\t\\n\\t\\t&lt;div class=\"confirmation-dialog-submit\"&gt;\\n\\t\\t\\t&lt;input type=\"submit\" id=\"confirmation-dialog-apply\" name=\"apply\" value=\"&lt;%= ApplyLabel %&gt;\"&gt;\\n\\t\\t\\t&lt;input type=\"submit\" id=\"confirmation-dialog-cancel\" name=\"cancel\" value=\"取消\"&gt;\\n\\t\\t&lt;/div&gt;\\n\\t&lt;/div&gt;\\n</script>\\n\\n<div id=\"confirmation-dialog\" class=\"hidden\"></div>\\n\\n<script type=\"text/javascript\">\\n    if (typeof Skyscanner === \"undefined\") {\\n        Skyscanner = {};\\n    }\\n\\n        Skyscanner.ComponentContext = {\"acceptLanguage\":\"en-US,en;q=0.8\",\"market\":\"TW\",\"locale\":\"zh-TW\",\"currency\":\"TWD\",\"destinationId\":\"CTS\",\"destinationIataCode\":\"CTS\",\"destinationCityId\":\"SPKA\",\"destinationCountryId\":\"JP\",\"destinationRegionId\":\"12\",\"destinationName\":\"札幌千歲\",\"destinationCityName\":\"札幌\",\"destinationType\":\"Airport\",\"originId\":\"TPET\",\"originIataCode\":\"TPE\",\"originCityId\":\"TPET\",\"originCountryId\":\"TW\",\"originRegionId\":\"03\",\"originName\":\"台北\",\"originCityName\":\"台北\",\"originType\":\"City\",\"outboundDate\":\"2017-01-05\",\"inboundDate\":\"2017-01-15\",\"outboundAlts\":false,\"inboundAlts\":false,\"ipAddress\":\"111.248.71.81\",\"internalUser\":\"false\",\"osName\":\"OS X\",\"deviceModel\":\"Chrome - OS X\",\"osVersion\":\"10_11_6\",\"browserName\":\"Chrome\",\"browserVersion\":\"55.0.2883.95\",\"displayPPI\":\"unknown\",\"devicePixelRatio\":\"unknown\",\"displayWidth\":\"unknown\",\"displayHeight\":\"unknown\",\"diagonalScreenSize\":\"unknown\",\"tripType\":\"return\",\"legs\":[{\"originId\":\"TPET\",\"originIataCode\":\"TPE\",\"originName\":\"台北\",\"originCityId\":\"TPET\",\"originCityName\":\"台北\",\"originType\":\"City\",\"originCountry\":\"TW\",\"originRegionId\":\"03\",\"destinationId\":\"CTS\",\"destinationIataCode\":\"CTS\",\"destinationName\":\"札幌千歲\",\"destinationType\":\"Airport\",\"destinationCityId\":\"SPKA\",\"destinationCityName\":\"札幌\",\"destinationCountry\":\"JP\",\"destinationRegionId\":\"12\",\"date\":\"2017-01-05\",\"inboundNearbyAltsEnabled\":false,\"outboundNearbyAltsEnabled\":false},{\"originId\":\"CTS\",\"originIataCode\":\"CTS\",\"originName\":\"札幌千歲\",\"originCityId\":\"SPKA\",\"originCityName\":\"札幌\",\"originType\":\"Airport\",\"originCountry\":\"JP\",\"originRegionId\":\"12\",\"destinationId\":\"TPET\",\"destinationIataCode\":\"TPE\",\"destinationName\":\"台北\",\"destinationType\":\"City\",\"destinationCityId\":\"TPET\",\"destinationCityName\":\"台北\",\"destinationCountry\":\"TW\",\"destinationRegionId\":\"03\",\"date\":\"2017-01-15\",\"inboundNearbyAltsEnabled\":false,\"outboundNearbyAltsEnabled\":false}],\"cabinclass\":\"Economy\",\"preferDirects\":false,\"adults\":1,\"originalAdults\":1,\"adultsV2\":1,\"children\":0,\"originalChildren\":0,\"childrenV2\":[],\"infants\":0,\"originalInfants\":0,\"travellers\":1,\"passengerCountReset\":\"false\",\"originGeoId\":7834,\"associateId\":\"unknown\",\"trackedAcquisitionId\":\"unknown\",\"associateIDParameters\":\"unknown\",\"associateIdLastSet\":\"unknown\",\"region\":\"\",\"nearestAirport\":\"unknown\",\"priceAlertId\":\"\",\"pickUpId\":\"unknown\",\"pickUpDateTime\":\"unknown\",\"dropOffId\":\"unknown\",\"dropOffDateTime\":\"unknown\",\"driverAge\":\"unknown\",\"pickUpIataCodeCarHire\":\"unknown\",\"dropOffIataCodeCarHire\":\"unknown\",\"pickUpCityCodeCarHire\":\"unknown\",\"tld\":\"com.tw\",\"homeAirport\":\"unknown\",\"userLoggedIn\":\"false\",\"encryptedTimestamp\":\"eesXKfc5d5EEt91IDHhdmA==\",\"originDestinationDistance\":2697,\"seoAirlineCode\":\"\"};\\n\\n\\n    SS = {\\n        data: {},\\n        util: {},\\n        widgets: {},\\n        services: {},\\n        lookupdata: {}\\n    };\\n\\n        Skyscanner.scaffoldversion = \\'1132\\';\\n        Skyscanner.scaffoldNode = \\'SSPVWSG1NWF014\\';\\n        Skyscanner.staticVersion = \\'351\\';\\n        Skyscanner.lang = \\'ZW\\';\\n        Skyscanner.ucy = \\'TW\\';\\n        Skyscanner.userCountry = \\'TW\\';\\n        Skyscanner.market = \\'TW\\';\\n        Skyscanner.marketName = \\'台灣\\';\\n        Skyscanner.pageType = \\'Day\\';\\n        Skyscanner.EnableScaffoldItinerary = false;\\n        Skyscanner.ExecuteDeeplink = false;\\n        Skyscanner.scaffolding = {\\n         context : {\"mobile\":\"false\",\"tablet\":\"false\",\"desktop\":\"true\"}\\n        }\\n        Skyscanner.urlCultureEnabled = false;\\n        Skyscanner.ccy = \\'TWD\\';\\n        Skyscanner.ancillary = \\'airli\\';\\n        Skyscanner.view = \\'Flights\\';\\n        Skyscanner.view_action = \\'DayView\\';\\n        Skyscanner.analyticsPageName = \\'day-view\\';\\n        Skyscanner.uaPageView = \\'/day-view/tpe/cts/\\';\\n        Skyscanner.gaPageView = \\'/day-view/tpe/cts/\\';\\n        Skyscanner.isDebugMode = false;\\n        Skyscanner.funnelDebugParameters = \\'\\';\\n        Skyscanner.textsDebug = false;\\n        Skyscanner.CurrentDomainIsMainDomain = false;\\n        Skyscanner.constants = {\"culture\":\"zh-TW\",\"GAWebPropertyId\":\"UA-XXXXXX-YY\",\"ancillaryConfiguration\":[{\"name\":\"skhot\",\"remoteUrl\":\"/hotels\",\"localUrl\":\"/hotels\",\"seoMarkets\":null,\"seoLanguages\":null},{\"name\":\"carhi\",\"remoteUrl\":\"/car-hire/\",\"localUrl\":\"/car-hire/\",\"seoMarkets\":null,\"seoLanguages\":null},{\"name\":\"buses\",\"remoteUrl\":\"/buses\",\"localUrl\":\"/buses\",\"seoMarkets\":null,\"seoLanguages\":null}],\"availableAncillaries\":[\"airli\",\"skhot\",\"carhi\",\"citybreaks\"],\"tlds\":[{\"Key\":\"GR\",\"Value\":\"gr.skyscanner.com\"},{\"Key\":\"AT\",\"Value\":\"www.skyscanner.at\"},{\"Key\":\"CA\",\"Value\":\"www.skyscanner.ca\"},{\"Key\":\"CH\",\"Value\":\"www.skyscanner.ch\"},{\"Key\":\"ID\",\"Value\":\"www.skyscanner.co.id\"},{\"Key\":\"IN\",\"Value\":\"www.skyscanner.co.in\"},{\"Key\":\"KR\",\"Value\":\"www.skyscanner.co.kr\"},{\"Key\":\"NZ\",\"Value\":\"www.skyscanner.co.nz\"},{\"Key\":\"TH\",\"Value\":\"www.skyscanner.co.th\"},{\"Key\":\"US\",\"Value\":\"www.skyscanner.com\"},{\"Key\":\"AU\",\"Value\":\"www.skyscanner.com.au\"},{\"Key\":\"BR\",\"Value\":\"www.skyscanner.com.br\"},{\"Key\":\"HK\",\"Value\":\"www.skyscanner.com.hk\"},{\"Key\":\"MY\",\"Value\":\"www.skyscanner.com.my\"},{\"Key\":\"PH\",\"Value\":\"www.skyscanner.com.ph\"},{\"Key\":\"SG\",\"Value\":\"www.skyscanner.com.sg\"},{\"Key\":\"TR\",\"Value\":\"www.skyscanner.com.tr\"},{\"Key\":\"TW\",\"Value\":\"www.skyscanner.com.tw\"},{\"Key\":\"UA\",\"Value\":\"www.skyscanner.com.ua\"},{\"Key\":\"VN\",\"Value\":\"www.skyscanner.com.vn\"},{\"Key\":\"CZ\",\"Value\":\"www.skyscanner.cz\"},{\"Key\":\"DE\",\"Value\":\"www.skyscanner.de\"},{\"Key\":\"DK\",\"Value\":\"www.skyscanner.dk\"},{\"Key\":\"ES\",\"Value\":\"www.skyscanner.es\"},{\"Key\":\"FI\",\"Value\":\"www.skyscanner.fi\"},{\"Key\":\"FR\",\"Value\":\"www.skyscanner.fr\"},{\"Key\":\"GG\",\"Value\":\"www.skyscanner.gg\"},{\"Key\":\"HU\",\"Value\":\"www.skyscanner.hu\"},{\"Key\":\"IE\",\"Value\":\"www.skyscanner.ie\"},{\"Key\":\"IT\",\"Value\":\"www.skyscanner.it\"},{\"Key\":\"JP\",\"Value\":\"www.skyscanner.jp\"},{\"Key\":\"GB\",\"Value\":\"www.skyscanner.net\"},{\"Key\":\"NL\",\"Value\":\"www.skyscanner.nl\"},{\"Key\":\"NO\",\"Value\":\"www.skyscanner.no\"},{\"Key\":\"PL\",\"Value\":\"www.skyscanner.pl\"},{\"Key\":\"PT\",\"Value\":\"www.skyscanner.pt\"},{\"Key\":\"RO\",\"Value\":\"www.skyscanner.ro\"},{\"Key\":\"RU\",\"Value\":\"www.skyscanner.ru\"},{\"Key\":\"SE\",\"Value\":\"www.skyscanner.se\"},{\"Key\":\"CN\",\"Value\":\"www.tianxun.com\"},{\"Key\":\"AE\",\"Value\":\"www.skyscanner.ae\"},{\"Key\":\"MX\",\"Value\":\"www.espanol.skyscanner.com\"},{\"Key\":\"IL\",\"Value\":\"www.skyscanner.co.il\"},{\"Key\":\"GB\",\"Value\":\"www.skyscanner.net\"}],\"nonLatinLanguages\":[\"gr\",\"ja\",\"ko\",\"zh\",\"zw\",\"th\",\"ru\",\"uk\",\"vi\"],\"jqueryRegional\":{\"closeText\":\"\",\"prevText\":\"\",\"nextText\":\"\",\"currentText\":\"\",\"monthNames\":[\"一月\",\"二月\",\"三月\",\"四月\",\"五月\",\"六月\",\"七月\",\"八月\",\"九月\",\"十月\",\"十一月\",\"十二月\"],\"monthNamesShort\":[\"一月\",\"二月\",\"三月\",\"四月\",\"五月\",\"六月\",\"七月\",\"八月\",\"九月\",\"十月\",\"十一月\",\"十二月\"],\"dayNames\":[\"星期日\",\"星期一\",\"星期二\",\"星期三\",\"星期四\",\"星期五\",\"星期六\"],\"dayNamesShort\":[\"週日\",\"週一\",\"週二\",\"週三\",\"週四\",\"週五\",\"週六\"],\"dayNamesMin\":[\"日\",\"一\",\"二\",\"三\",\"四\",\"五\",\"六\"],\"weekHeader\":\"\",\"dateFormat\":\"yy/M/d\",\"isRTL\":false,\"yearSuffix\":\"\"}};\\n        Skyscanner.ancillaryRootUrlOverrides = {};\\n        Skyscanner.compareUnitsUnsupportedBrowsersRegExp = \\'iphone|ipod|android.*mobile|windows phone|blackberry|opera\\';\\n        Skyscanner.tripPlanningCulture = \"zh-TW\";\\n        Skyscanner.userAuthenticationEnabled = true;\\n        Skyscanner.disableTldRedirects = false;\\n\\nSS.advertData = SS.advertData || {\"InboundCountryIATA\":\"JP\",\"InboundCountryNameLocal\":\"日本\",\"InboundCountryName\":\"Japan\",\"OutboundCountryName\":\"台灣\",\"OutboundCountryIATA\":\"TW\",\"OutboundCountryNameLocal\":\"台灣\",\"InboundRegionNameLocal\":\"北海道\",\"InboundRegionName\":\"北海道\",\"OutboundRegionName\":\"台北\",\"OutboundRegionNameLocal\":\"台北\",\"InboundCityIATA\":\"SPKA\",\"InboundCityNameLocal\":\"札幌\",\"InboundCityName\":\"Sapporo\",\"OutboundCityName\":\"台北\",\"OutboundCityIATA\":\"TPET\",\"OutboundCityNameLocal\":\"台北\",\"InboundAirportIATA\":\"CTS\",\"InboundAirportNameLocal\":\"札幌千歲\",\"InboundAirportName\":\"Sapporo Chitose\",\"OutboundAirportName\":\"Taipei Taiwan Taoyuan\",\"OutboundAirportIATA\":\"TPE\",\"OutboundAirportNameLocal\":\"台北桃園\",\"OutboundCode\":\"TPE\",\"InboundCode\":\"CTS\",\"OutboundDate\":\"2017-01-05\",\"InboundDate\":\"2017-01-15\",\"OutboundDateString\":\"1月5日 \",\"InboundDateString\":\"1月15日 \",\"InboundContinentNameLocal\":\"亞洲\",\"InboundContinentName\":\"Asia\",\"OutboundContinentNameLocal\":\"東南亞\",\"DisplayText\":{\"To\":\"\",\"From\":\"\",\"OneWay\":\"\",\"Return\":\"\",\"Book\":\"\",\"TermsAndConditions\":\"\",\"LoadingMessage\":\"\",\"HotelsFormat\":\"\",\"Night\":\"\",\"Stars\":\"\",\"FlightAndHotelMessage\":\"\",\"PerPerson\":\"\",\"Total\":\"\"}};\\nSS.advertData.Ancillary = Skyscanner.ancillary;\\nSS.advertData.Desktop = Skyscanner.ComponentContext.desktop;\\n\\n\\nSS.advertData.UserCountry = Skyscanner.ComponentContext.market;\\nSS.advertData.Locale = Skyscanner.ComponentContext.locale;\\nSS.advertData.Currency = Skyscanner.ComponentContext.currency;\\n\\nSS.advertData.Adults = Skyscanner.ComponentContext.adults;\\nSS.advertData.Children = Skyscanner.ComponentContext.children;\\nSS.advertData.Infants = Skyscanner.ComponentContext.infants;\\n\\nSS.advertData.TripType = Skyscanner.ComponentContext.tripType;\\nSS.advertData.IsReturn = Skyscanner.ComponentContext.tripType == \"return\";\\nSS.advertData.CabinClass = Skyscanner.ComponentContext.cabinclass;\\n\\nSS.advertData.formatCurrency = function (price) { return Skyscanner.Api.localisation.formatCurrency(parseInt(price), \\'c0\\'); };            var google_afs_query = null;\\n            var googleAFSQuery = Skyscanner.view.toLowerCase() == \"carhire\" ? \\'租車 \\' : google_afs_query;\\n            Skyscanner.pageHandlesCurrencyReload = true;\\n            Skyscanner.includeNonGuaranteedTransfers = false;\\n            Skyscanner.priceAlertAutoPopupEnabled = true;\\n        Skyscanner.abtest = {};\\n        Skyscanner.config = {\\n         globalizeCultureName : \\'zh-TW\\',\\n         currencyInfo : {\"Code\":\"TWD\",\"Symbol\":\"NT$\",\"ThousandsSeparator\":\",\",\"DecimalSeparator\":\".\",\"PositiveCurrencyFormat\":\"NT${n}\",\"NegativeCurrencyFormat\":\"-NT${n}\",\"SymbolOnLeft\":true,\"SpaceBetweenAmountAndSymbol\":false,\"DecimalDigits\":2,\"IsEmpty\":false},\\n         cldrInfo : {\"main\":{\"zh-TW\":{\"dates\":{\"calendars\":{\"gregorian\":{\"months\":{\"format\":{\"abbreviated\":{\"1\":\"1月\",\"2\":\"2月\",\"3\":\"3月\",\"4\":\"4月\",\"5\":\"5月\",\"6\":\"6月\",\"7\":\"7月\",\"8\":\"8月\",\"9\":\"9月\",\"10\":\"10月\",\"11\":\"11月\",\"12\":\"12月\"},\"wide\":{\"1\":\"1月\",\"2\":\"2月\",\"3\":\"3月\",\"4\":\"4月\",\"5\":\"5月\",\"6\":\"6月\",\"7\":\"7月\",\"8\":\"8月\",\"9\":\"9月\",\"10\":\"10月\",\"11\":\"11月\",\"12\":\"12月\"}},\"stand-alone\":{\"wide\":{\"1\":\"1月\",\"2\":\"2月\",\"3\":\"3月\",\"4\":\"4月\",\"5\":\"5月\",\"6\":\"6月\",\"7\":\"7月\",\"8\":\"8月\",\"9\":\"9月\",\"10\":\"10月\",\"11\":\"11月\",\"12\":\"12月\"}}},\"days\":{\"format\":{\"abbreviated\":{\"sun\":\"週日\",\"mon\":\"週一\",\"tue\":\"週二\",\"wed\":\"週三\",\"thu\":\"週四\",\"fri\":\"週五\",\"sat\":\"週六\"},\"short\":{\"sun\":\"日\",\"mon\":\"一\",\"tue\":\"二\",\"wed\":\"三\",\"thu\":\"四\",\"fri\":\"五\",\"sat\":\"六\"},\"wide\":{\"sun\":\"星期日\",\"mon\":\"星期一\",\"tue\":\"星期二\",\"wed\":\"星期三\",\"thu\":\"星期四\",\"fri\":\"星期五\",\"sat\":\"星期六\"}},\"stand-alone\":{\"abbreviated\":{\"sun\":\"週日\",\"mon\":\"週一\",\"tue\":\"週二\",\"wed\":\"週三\",\"thu\":\"週四\",\"fri\":\"週五\",\"sat\":\"週六\"},\"wide\":{\"sun\":\"星期日\",\"mon\":\"星期一\",\"tue\":\"星期二\",\"wed\":\"星期三\",\"thu\":\"星期四\",\"fri\":\"星期五\",\"sat\":\"星期六\"}}},\"dayPeriods\":{\"format\":{\"wide\":{\"afternoon\":\"下午\",\"am\":\"上午\",\"earlyMorning\":\"清晨\",\"midDay\":\"中午\",\"morning\":\"上午\",\"night\":\"晚上\",\"noon\":\"中午\",\"pm\":\"下午\",\"weeHours\":\"凌晨\"}}},\"eras\":{\"eraAbbr\":{\"0\":\"西元前\",\"0-alt-variant\":\"公元前\",\"1\":\"西元\",\"1-alt-variant\":\"公元\"}},\"dateFormats\":{\"full\":\"y年M月d日 EEEE\",\"long\":\"y年M月d日\",\"medium\":\"y年M月d日\",\"short\":\"y/M/d\",\"yearMonth\":\"yyyy\\'年\\'L\\'月\\'\",\"monthDay\":\"M\\'月\\'d\\'日\\'\",\"yearMonthAbbr\":\"yyyy\\'年\\'M\\'月\\'\",\"fullAbbr\":\"y年 MM月 dd日 (EE)\",\"monthDayAbbr\":\"M月d日 (EE)\"},\"timeFormats\":{\"full\":\"HH:mm:ss [zzzz]\",\"long\":\"HH:mm [z]\",\"medium\":\"HH:mm:ss\",\"short\":\"HH:mm\"},\"dateTimeFormats\":{\"full\":\"{1} {0}\",\"long\":\"{1} {0}\",\"medium\":\"{1} HH:mm\",\"short\":\"{1} {0}\"}}},\"timeZoneNames\":{\"hourFormat\":\"+HH:mm;-HH:mm\",\"gmtFormat\":\"GMT{0}\",\"gmtZeroFormat\":\"GMT\"}},\"numbers\":{\"defaultNumberingSystem\":\"latn\",\"symbols-numberSystem-latn\":{\"decimal\":\".\",\"group\":\",\",\"list\":\";\",\"percentSign\":\"%\",\"plusSign\":\"+\",\"minusSign\":\"-\",\"exponential\":\"E\",\"superscriptingExponent\":\"×\",\"perMille\":\"‰\",\"infinity\":\"∞\",\"nan\":\"非數值\",\"timeSeparator\":\":\"},\"decimalFormats-numberSystem-latn\":{\"standard\":\"#,##0.###\"},\"numberFormats\":{\"addition\":\"+{0}\",\"subtraction\":\"-{0}\"}}}},\"supplemental\":{\"numberingSystems\":{\"arab\":{\"_digits\":\"٠١٢٣٤٥٦٧٨٩\",\"_type\":\"numeric\"}},\"weekData\":{\"firstDay\":{\"TW\":\"sun\"},\"daysOfWeek\":[{\"name\":\"星期日\",\"nameAbbr\":\"週日\",\"nameShort\":\"日\",\"index\":0,\"cldrKey\":\"sun\",\"isWeekend\":true},{\"name\":\"星期一\",\"nameAbbr\":\"週一\",\"nameShort\":\"一\",\"index\":1,\"cldrKey\":\"mon\",\"isWeekend\":false},{\"name\":\"星期二\",\"nameAbbr\":\"週二\",\"nameShort\":\"二\",\"index\":2,\"cldrKey\":\"tue\",\"isWeekend\":false},{\"name\":\"星期三\",\"nameAbbr\":\"週三\",\"nameShort\":\"三\",\"index\":3,\"cldrKey\":\"wed\",\"isWeekend\":false},{\"name\":\"星期四\",\"nameAbbr\":\"週四\",\"nameShort\":\"四\",\"index\":4,\"cldrKey\":\"thu\",\"isWeekend\":false},{\"name\":\"星期五\",\"nameAbbr\":\"週五\",\"nameShort\":\"五\",\"index\":5,\"cldrKey\":\"fri\",\"isWeekend\":false},{\"name\":\"星期六\",\"nameAbbr\":\"週六\",\"nameShort\":\"六\",\"index\":6,\"cldrKey\":\"sat\",\"isWeekend\":true}],\"daysOfWeekUnordered\":[{\"name\":\"星期日\",\"nameAbbr\":\"週日\",\"nameShort\":\"日\",\"index\":0,\"cldrKey\":\"sun\",\"isWeekend\":true},{\"name\":\"星期一\",\"nameAbbr\":\"週一\",\"nameShort\":\"一\",\"index\":1,\"cldrKey\":\"mon\",\"isWeekend\":false},{\"name\":\"星期二\",\"nameAbbr\":\"週二\",\"nameShort\":\"二\",\"index\":2,\"cldrKey\":\"tue\",\"isWeekend\":false},{\"name\":\"星期三\",\"nameAbbr\":\"週三\",\"nameShort\":\"三\",\"index\":3,\"cldrKey\":\"wed\",\"isWeekend\":false},{\"name\":\"星期四\",\"nameAbbr\":\"週四\",\"nameShort\":\"四\",\"index\":4,\"cldrKey\":\"thu\",\"isWeekend\":false},{\"name\":\"星期五\",\"nameAbbr\":\"週五\",\"nameShort\":\"五\",\"index\":5,\"cldrKey\":\"fri\",\"isWeekend\":false},{\"name\":\"星期六\",\"nameAbbr\":\"週六\",\"nameShort\":\"六\",\"index\":6,\"cldrKey\":\"sat\",\"isWeekend\":true}]},\"likelySubtags\":{\"und\":\"zh-Hant\"},\"dateInput\":{\"inputFormat\":\"YYYYMMDD\",\"uiMask\":\"9999/99/99\",\"placeholder\":\"YYYY/MM/DD\"}}},\\n         useLayout : false,\\n         zendesk : {\\n           enabledForMarket : true,\\n           showTab : true,\\n           url: \\'https://help.skyscanner.net/hc/zh-tw/?skyDBG=1\\',\\n           helpText: \\'幫助\\',\\n           language: \\'zh-tw\\'\\n         },\\n         geoMessageExperiment : {\\n\\t\\t\\t group_A_origin_Domain: null,\\n\\t\\t\\t group_B1_origin_Domain: null\\n\\t\\t },\\n         globalConfig : {\\n            enablePreferNonCreditCardProviders: false,\\n            enableShowPreTaxRates: false,\\n            nearbyAltsRadiusInKm: 100,\\n            disableRouteSponsors: false,\\n            disableNeedAlts: false,\\n            enableAirportTransfers: true,\\n            showNoResultsOptions: false,\\n            enableRecentSearchesOnHomePage: false\\n         },\\n         tracking : {\\n          userTrackingType: \\'transportsearch\\',\\n          mixpanelToken: \\'2434748954c30ccc5017faa456fa3d38\\',\\n          showCookiePolicyMessage: false,\\n          grapplerSlipstreamEndpoint : \\'//slipstream.skyscanner.net\\'\\n         },\\n         traveller : {\\n          dataEnabled : true,\\n          url : \"https://secure.skyscanner.net/account/travellercontext\"\\n         },\\n         featureTests : {\"FlightsHeroImage_CA_11_07_2016_36_20\":\"a\",\"FlightsHeroImage_CA_11_07_2016_36_20_V2\":\"a\",\"fps_st_filtering\":\"d\",\"fps_st_filtering_V3\":\"d\",\"Hfe_PricePerNight\":\"b\",\"Hfe_PricePerNight_V2\":\"b\",\"Car_NewGrouping\":\"b\",\"Car_NewGrouping_V6\":\"b\",\"FlightsHeroStraplineUpper_ConfidencemessageforIN_06_09_2016_38_13\":\"b\",\"FlightsHeroStraplineUpper_ConfidencemessageforIN_06_09_2016_38_13_V1\":\"b\",\"AAExperiment\":\"a\",\"AAExperiment_V8\":\"a\",\"ADS_Android_MigrationPopupExperiment\":\"b\",\"ADS_Android_MigrationPopupExperiment_V9\":\"b\",\"fps_npst_construction\":\"a\",\"fps_npst_construction_V3\":\"a\",\"ABE_iOS_HotelsAutosuggestV2\":\"on\",\"ABE_iOS_HotelsAutosuggestV2_V3\":\"on\",\"AVGS_Android_TopDealsCaret\":\"off\",\"AVGS_Android_TopDealsCaret_V1\":\"off\",\"TestFeature1_Useexperiment_02_11_2016_25_28\":\"a\",\"TestFeature1_Useexperiment_02_11_2016_25_28_V1\":\"a\",\"INS1606_IndicativeResultsView\":\"a\",\"INS1606_IndicativeResultsView_V1\":\"a\",\"GHT452_HotelEndpointDeprecation\":\"b\",\"GHT452_HotelEndpointDeprecation_V4\":\"b\",\"INS1964_MVProfileChange\":\"b\",\"INS1964_MVProfileChange_V2\":\"b\",\"FlightsHeroImage_US_25_07_2016_40_13\":\"a\",\"FlightsHeroImage_US_25_07_2016_40_13_V2\":\"a\",\"FlightsHeroImage_US_19_07_2016_10_08\":\"a\",\"FlightsHeroImage_US_19_07_2016_10_08_V2\":\"a\",\"RPE_SEOAirlineFilter\":\"a\",\"RPE_SEOAirlineFilter_V4\":\"a\",\"AFS_DayView_Firebase_NPS\":\"off\",\"AFS_DayView_Firebase_NPS_V10\":\"off\",\"Hsc_MexicanToAS2\":\"b\",\"Hsc_MexicanToAS2_V4\":\"b\",\"GHT617_FlightDurationOnBrowse\":\"a\",\"GHT617_FlightDurationOnBrowse_V3\":\"a\",\"Car_AWS_API\":\"b\",\"Car_AWS_API_V24\":\"b\",\"GHT836_MapPanelDirectnessOverPrice\":\"b\",\"GHT836_MapPanelDirectnessOverPrice_V2\":\"b\",\"FlightsAndroidProdTest\":\"a\",\"FlightsAndroidProdTest_V1\":\"a\",\"INS1683_BrowseUpdating\":\"b\",\"INS1683_BrowseUpdating_V6\":\"b\",\"rts_npst_popular\":\"b\",\"rts_npst_popular_V3\":\"b\",\"GHT571_HomepageDiscoveryShelvesRollOut\":\"c\",\"GHT571_HomepageDiscoveryShelvesRollOut_V19\":\"c\",\"rts_npst_orphaned\":\"b\",\"rts_npst_orphaned_V1\":\"b\",\"WebApps_GrapplerMPLogging\":\"b\",\"WebApps_GrapplerMPLogging_V9\":\"b\",\"PV19_LegacyAirlineFilterButtons\":\"b\",\"PV19_LegacyAirlineFilterButtons_V3\":\"b\",\"INS1846_PerDayDirectness\":\"b\",\"INS1846_PerDayDirectness_V1\":\"b\",\"GHT729_FlightDurationOnMap\":\"b\",\"GHT729_FlightDurationOnMap_V3\":\"b\",\"GHT854_ConfidencePanelsFromComponents\":\"b\",\"GHT854_ConfidencePanelsFromComponents_V3\":\"b\",\"GDT1149_DestinationsRecommendationsRefesh\":\"b\",\"GDT1149_DestinationsRecommendationsRefesh_V4\":\"b\",\"Car_AATest\":\"a\",\"Car_AATest_V4\":\"a\",\"UtidTravellerIdentity\":\"b\",\"UtidTravellerIdentity_V11\":\"b\",\"AEP_SEOPageUniversalLinksExperiment_TR\":\"on\",\"AEP_SEOPageUniversalLinksExperiment_TR_V3\":\"on\",\"INS1887_ConsumeStoredPricesOnBV\":\"b\",\"INS1887_ConsumeStoredPricesOnBV_V9\":\"b\",\"FlightsiOSProdTest\":\"a\",\"FlightsiOSProdTest_V2\":\"a\",\"rts_npst_sbfilter\":\"a\",\"rts_npst_sbfilter_V2\":\"a\",\"GHT725_ShowPricesInShelf\":\"b\",\"GHT725_ShowPricesInShelf_V21\":\"b\",\"Fss_NewSearchControls\":\"c\",\"Fss_NewSearchControls_V6\":\"c\",\"BPK150_NewPrimaryButtonDesign\":\"b\",\"BPK150_NewPrimaryButtonDesign_V3\":\"b\",\"FlightsHeroStraplineUpper_ConfidencemessageforIN_06_09_2016_42_06\":\"c\",\"FlightsHeroStraplineUpper_ConfidencemessageforIN_06_09_2016_42_06_V2\":\"c\",\"AVGS_iOS_ScreenshotSharing_ShortenerVariation\":\"b\",\"AVGS_iOS_ScreenshotSharing_ShortenerVariation_V1\":\"b\",\"rts_npst_provider\":\"a\",\"rts_npst_provider_V4\":\"a\",\"Hsc_ChildrenAgeView\":\"b\",\"Hsc_ChildrenAgeView_V10\":\"b\",\"Apps_ErrorLogging_Android\":\"on\",\"Apps_ErrorLogging_Android_V5\":\"on\",\"WebApps_FacebookPixelUpgrade\":\"b\",\"WebApps_FacebookPixelUpgrade_V5\":\"b\",\"TicketStyleResult\":\"b\",\"TicketStyleResult_V8\":\"b\",\"scaffold_wireup_dont_delete\":\"b\",\"scaffold_wireup_dont_delete_V1\":\"b\",\"Car_Gateway_Api\":\"b\",\"Car_Gateway_Api_V6\":\"b\",\"Car_GooglePlaces\":\"b\",\"Car_GooglePlaces_V10\":\"b\",\"GHT800_NewHomepage\":\"b\",\"GHT800_NewHomepage_V5\":\"b\",\"Hfe_OfficialPartner_It2\":\"b\",\"Hfe_OfficialPartner_It2_V2\":\"b\",\"Apps_ErrorLogging_iOS\":\"on\",\"Apps_ErrorLogging_iOS_V6\":\"on\",\"rts_npst_short\":\"a\",\"rts_npst_short_V2\":\"a\",\"Ads_UseESIAds\":\"b\",\"Ads_UseESIAds_V1\":\"b\",\"FlightsHeroImage_GG_27_06_2016_57_51\":\"a\",\"FlightsHeroImage_GG_27_06_2016_57_51_V2\":\"a\",\"TurnFeatureTests\":\"on\"},\\n         remoteConfiguration :  {\"WebApps\":{\"AirPassengerDutyTravellersV2\":true,\"EnableSlipstreamViewLogging\":true,\"DisableAppDynamicsiOSv10\":true,\"UseExternalTagManager\":true,\"Enable_AppKat_Tag\":false,\"disableAppDynamicsGlobal\":false,\"ShowBranchIOBanner\":false,\"SlipstreamUrl\":\"\"},\"FlightSearch\":{\"fss_SkippyApiTimeout\":\"2000\",\"fss_price_forecast_city_to_airport_id_map\":\"{\\\\\"4698\\\\\":\\\\\"13465,13542,13554,16574,13771\\\\\"}\",\"fss_request_flexible_days_data\":false,\"fss_pqs_increment\":\"0\",\"fss_skippy_partner_redirect_timeout\":\"50\",\"fss_price_forecast\":\"a\",\"fss_aa_website_id\":\"\\\\\"\\\\\"\",\"premium_airline_button\":true,\"fss_price_messaging_fees_dv\":false,\"fss_jp_customer_support\":\"a\",\"fss_pqs_rating\":\"g\",\"fss_bp_scroll_to_price\":false,\"fss_filter_single_airline\":false,\"fss_kosoku_bus_ads\":false,\"fss_max_ajax_allowed_count\":\"25\",\"fss_jp_customer_support_partners\":\"[]\",\"fss_downrank_indirects\":false,\"fss_skippy_default_deeplink_from_client\":false,\"fss_custom_inline_xsell_endpoint\":\"/g/custom-xsell-banners\",\"fss_fqs_ui\":\"{}\",\"fss_flexible_days\":true,\"fss_footer_enabled\":true,\"fss_ticket_style_results\":true,\"fss_min_pqs\":\"0\",\"fss_fab_cta_colour\":\"pink\",\"fss_fab_cta_fabcopy\":false,\"fss_search_controls\":true,\"fss_highlight_airline\":false,\"fss_new_skippy\":false,\"fss_bp_collapse_itineraries\":true,\"fss_partner_promotion\":false,\"fss_show_airport_transfers\":true,\"fss_combined_bp\":false,\"fss_expiry_timer\":\"30\",\"fss_br_installments_partners_list\":\"[]\",\"show_emirates_amenities\":false,\"fss_enable_baggage\":false,\"fss_skippy_redirect_timeout\":\"4500\",\"fss_main_select_text\":\"a\",\"fss_installments\":\"a\",\"fss_enable_new_passenger\":true,\"fss_cta_button\":\"d\",\"fss_show_avg_price_indicator\":true,\"fss_max_ajax_allowed_time\":\"3\"},\"GrowthHacking\":{\"HomepageContentPanel1Url\":\"\",\"HomepageContentPanel2Url\":\"\",\"ShowTimelineTileAds\":true,\"HomepageContentPanel3Url\":\"\"},\"TravellerIdentity\":{\"loginServiceUrl\":\"https://login-service.slingshot.eu-west-1.prod.aws.skyscanner.local/authorize\",\"YahooJapanAppId\":\"\",\"VKontakteAppId\":\"\",\"GoogleAppId\":\"768202461730-adkorgnm0fe35hv1vouhm0beqa0flaml.apps.googleusercontent.com\",\"yahooJapanRedirectUrl\":\"\",\"environment\":\"PROD\",\"FBIdApp\":\"235554276579985\",\"loginServiceClientId\":\"\",\"accountsUrl\":\"https://secure.skyscanner.net\",\"GoogleAppIdTest\":\"899561404736-9tuqhholf345uupd0harqkgc3f8i8ia6.apps.googleusercontent.com\",\"vKontakteRedirectUrl\":\"\",\"FbAppIdTest\":\"824757277651635\"},\"AdProducts\":{\"ad_dayview_inline\":false,\"access_sponsored_service\":false,\"advert_itinerary_inline\":false,\"intent_media_variant\":\"original\",\"advert_booking_panel_inline\":false,\"advert_hotel_inline\":false},\"HomepageandSearchControlsUI\":{\"MaxNumberOfAutosuggestSuggestions\":\"\",\"FlightsGeneralSearchControl\":false,\"DifferentDestinationResultsInV2\":false,\"MinNumberOfGeneralSearchSuggestions\":\"0\",\"FlightsGeneralSearch\":false,\"FlightsTravelApiKey\":\"f9e4c3ceb33d4ce3910adaad0231afb2\"},\"TravellerOnboarding\":{\"userAccountServiceVersion\":\"QP3YwJnUptwjGZP541zGLdZPcD9cb6uL\",\"MessengerUseDecisionEngine\":false,\"onboardingMessengerURL\":\"http://www.skyscanner.net/svcs/onboarding/component/onboarding-messenger/release/onboarding-messenger.min.js\",\"priceAlertsManagementUrl\":\"https://secure.skyscanner.net/svcs/onboarding/component/price-alerts-management/release/\",\"TIDCID\":\"24c69390-0865-4669-87bc-6d9b25d52178\",\"TIDServer\":\"https://secure.skyscanner.net\",\"accountControlsUrl\":\"https://secure.skyscanner.net/svcs/onboarding/component/account-controls/release/\",\"accountSettingsManagementUrl\":\"https://secure.skyscanner.net/svcs/onboarding/component/account-settings-management/release/\",\"FBAppId\":\"235554276579985\",\"OnboardingContentShow\":false,\"accountControlsEnabled\":false},\"HotelsWebFrontEnd\":{\"TripCartEnabled\":false,\"hotelsSpringClean\":false,\"ShowMarketSelectionRadioButtonsInSearchControls\":\"False\",\"hotjarUniqueId\":\"inactive\",\"HomeReturningMessage\":\"a\",\"priceFormat\":\"total\",\"UseStaticContentDomains\":true,\"FlightsClickoutTTL\":\"1296000000\"},\"StateMachine\":{\"MDEUserStateUrlEndpointProd\":\"/g/slg-decision-engine/scope/state/match\",\"MDEUserExtendedStateUrlEndpointProd\":\"https://gateway.skyscanner.net/slg-decision-engine/userstate`\",\"enableMDEEarlyLoad\":false,\"enableMDE\":false,\"enableTracking\":true},\"NoSquad\":{},\"FacilitatedBookingGreen\":{},\"TravelContentPlatform\":{},\"APACRegionalFeature\":{\"IntercomAppId\":\"pym3xrei\",\"ShowIntercomLiveChat\":false,\"ShowIntercomLiveChatIdleTime\":\"15\"},\"AMEREMEARegionalFeature\":{\"SwapCultureSelectorInputs\":false,\"StickyFooterCulturePanel\":\"A\",\"CultureSelectorBtnLocation\":\"A\"},\"ExperimentationServices\":{},\"AppsEnablement\":{},\"Armadillo\":{\"UseDCApi\":false},\"B2BWhitelabel\":{}}\\n\\n,\\n         queryParameters : {\"adults\":\"1\",\"children\":\"0\",\"adultsv2\":\"1\",\"childrenv2\":\"\",\"infants\":\"0\",\"cabinclass\":\"economy\",\"rtn\":\"1\",\"preferdirects\":\"false\",\"outboundaltsenabled\":\"false\",\"inboundaltsenabled\":\"false\",\"ref\":\"home\"},\\n         postParameters: null,\\n         auth : {\\n          authEnabled : true,\\n          accountsDomain: \"secure.skyscanner.net\",\\n          accountsProtocol: \"https\",\\n          market: \"TW\",\\n          locale: \"zh-TW\",\\n          dynamicLoginLink: true,\\n          styleUrls: [\"//js.skyscnr.com/framework/scaffolding/cache/css/account-controls.f1486126.css\"],\\n          scriptUrls: [\"//js.skyscnr.com/framework/scaffolding/cache/js/account-controls.62c3bcc6.js\"]\\n         },\\n         onboarding: {\\n          showOnboardingMessenger: true,\\n          onboardingMessengerUrl: \"//www.skyscanner.net/svcs/onboarding/component/onboarding-messenger/release/onboarding-messenger.min.js\"\\n         },\\n         newsletter: {\\n            enabled: true,\\n            variant: \\'a1\\',\\n            js: \\'//www.skyscanner.net/svcs/onboarding/component/newsletter/dist/newsletter-zh-tw.js\\',\\n            css: \\'//www.skyscanner.net/svcs/onboarding/component/newsletter/dist/css/newsletter.min.embed.css\\',\\n            settings: {\\n              market: \\'TW\\',\\n              locale: \\'zh-TW\\',\\n              currency: \\'TWD\\',\\n             campaign: \\'Growth\\'\\n           }\\n         },\\n\\t     adverts : {\\n             enabled: true,\\n             afsEnabled: true,\\n\\nisTextOnlyAdverts : false,\\nisTianxun : false,\\nincludeTags : false,\\ntargeting : {\\'lang\\':\\'ZW\\',\\'market\\':\\'TW\\',\\'cc\\':\\'Economy\\',\\'adults\\':\\'1\\',\\'children\\':\\'0\\',\\'isreturn\\':\\'true\\',\\'oairp\\':\\'tpe\\',\\'dairp\\':\\'cts\\',\\'ocity\\':\\'tpet\\',\\'dcity\\':\\'spka\\',\\'octry\\':\\'tw\\',\\'dctry\\':\\'jp\\',\\'triptype\\':\\'holiday\\'},\\nadUnitMainName : \\'skyscanner.com.tw\\'\\t    },\\n             afsOptions : {\\n            flightsFrom : \\'航班出發地\\',\\n            flightsTo : \\'航班目的地\\',\\n            flightsToAlternative : \\'\\', \\n            flightsSelectionEnabled : false,\\n            adsByGoogleText : \\'贊助連結\\',\\n            afsQueryCarHire : \\'租車 \\'\\n             },\\n         feedbackButtonBundle : \"//js.skyscnr.com/framework/scaffolding/cache/js/feedback.a6402dfc.js\",\\n         logoStaticContentDomain : \\'//logos.skyscnr.com\\',\\n         jsStaticContentDomain : \\'//js.skyscnr.com\\'\\n        };\\n\\nvar Skyscanner = Skyscanner || {};\\nSkyscanner.funnelConfiguration = {\\n    \\'wy\\': \"0\",\\n    \\'from\\': \"TPET\",\\n    \\'to\\': \"CTS\",\\n    \\'oym\\': \"1701\",\\n    \\'iym\\': \"1701\",\\n    \\'oday\\': \"05\",\\n    \\'iday\\': \"15\",\\n    \\'fromCy\\': \"TW\",\\n    \\'toCy\\': \"JP\",\\n    \\'rtn\\': true\\n};\\n\\t\\t\\t   \\n\\nSkyscanner.config.featureFlags = {\"enableNearbyAlternatives\":false,\"redirectionFromCustomTLDsEnabled\":false,\"enableNewRedirectionFilter\":false,\"enableRequirementsEndpoint\":true,\"useCannedDataSet\":false,\"enableLocationClear\":false,\"showCubaMessages\":false};\\n\\n    \\n(function (f, b) {\\n    if (!b.__SV) {\\n        var a, e, i, g; window.mixpanel = b; b._i = []; b.init = function (a, e, d) {\\n            function f(b, h) { var a = h.split(\".\"); 2 == a.length &amp;&amp; (b = b[a[0]], h = a[1]); b[h] = function () { b.push([h].concat(Array.prototype.slice.call(arguments, 0))) } } var c = b; \"undefined\" !== typeof d ? c = b[d] = [] : d = \"mixpanel\"; c.people = c.people || []; c.toString = function (b) { var a = \"mixpanel\"; \"mixpanel\" !== d &amp;&amp; (a += \".\" + d); b || (a += \" (stub)\"); return a }; c.people.toString = function () { return c.toString(1) + \".people (stub)\" }; i = \"disable track track_pageview track_links track_forms register register_once alias unregister identify name_tag set_config people.set people.set_once people.increment people.append people.track_charge people.clear_charges people.delete_user\".split(\" \");\\n            for (g = 0; g &lt; i.length; g++) f(c, i[g]); b._i.push([a, e, d])\\n        }; b.__SV = 1.2;\\n    }\\n})(document, window.mixpanel || []);\\nmixpanel.init(Skyscanner.config.tracking.mixpanelToken);\\nmixpanel.init(Skyscanner.config.tracking.mixpanelToken, { \\'api_host\\': \"//slipstream.skyscanner.net\" }, \"grappler\");\\n\\n    \\n\\n    Skyscanner.Tracking =\\n    {\\n        WebNode: \\'PROD984\\',\\n        SvnBuildRevision: \\'1132\\',\\n        CurrentUserLanguage: \\'ZW\\',\\n        GAFeatureTestString: \\'FlightsHeroImage_CA_11_07_2016_36_20_V2-a_fps_st_filtering_V3-d_Hfe_PricePerNight_V2-b_Car_NewGrouping_V6-b_FlightsHeroStraplineUpper_ConfidencemessageforIN_06_09_2016_38_13_V1-b_AAExperiment_V8-a_ADS_Android_MigrationPopupExperiment_V9-b_fps_npst_construction_V3-a_ABE_iOS_HotelsAutosuggestV2_V3-on_AVGS_Android_TopDealsCaret_V1-off_TestFeature1_Useexperiment_02_11_2016_25_28_V1-a_INS1606_IndicativeResultsView_V1-a_GHT452_HotelEndpointDeprecation_V4-b_INS1964_MVProfileChange_V2-b_FlightsHeroImage_US_25_07_2016_40_13_V2-a_FlightsHeroImage_US_19_07_2016_10_08_V2-a_RPE_SEOAirlineFilter_V4-a_AFS_DayView_Firebase_NPS_V10-off_Hsc_MexicanToAS2_V4-b_GHT617_FlightDurationOnBrowse_V3-a_Car_AWS_API_V24-b_GHT836_MapPanelDirectnessOverPrice_V2-b_FlightsAndroidProdTest_V1-a_INS1683_BrowseUpdating_V6-b_rts_npst_popular_V3-b_GHT571_HomepageDiscoveryShelvesRollOut_V19-c_rts_npst_orphaned_V1-b_WebApps_GrapplerMPLogging_V9-b_PV19_LegacyAirlineFilterButtons_V3-b_INS1846_PerDayDirectness_V1-b_GHT729_FlightDurationOnMap_V3-b_GHT854_ConfidencePanelsFromComponents_V3-b_GDT1149_DestinationsRecommendationsRefesh_V4-b_Car_AATest_V4-a_UtidTravellerIdentity_V11-b_AEP_SEOPageUniversalLinksExperiment_TR_V3-on_INS1887_ConsumeStoredPricesOnBV_V9-b_FlightsiOSProdTest_V2-a_rts_npst_sbfilter_V2-a_GHT725_ShowPricesInShelf_V21-b_Fss_NewSearchControls_V6-c_BPK150_NewPrimaryButtonDesign_V3-b_FlightsHeroStraplineUpper_ConfidencemessageforIN_06_09_2016_42_06_V2-c_AVGS_iOS_ScreenshotSharing_ShortenerVariation_V1-b_rts_npst_provider_V4-a_Hsc_ChildrenAgeView_V10-b_Apps_ErrorLogging_Android_V5-on_WebApps_FacebookPixelUpgrade_V5-b_TicketStyleResult_V8-b_scaffold_wireup_dont_delete_V1-b_Car_Gateway_Api_V6-b_Car_GooglePlaces_V10-b_GHT800_NewHomepage_V5-b_Hfe_OfficialPartner_It2_V2-b_Apps_ErrorLogging_iOS_V6-on_rts_npst_short_V2-a_Ads_UseESIAds_V1-b_FlightsHeroImage_GG_27_06_2016_57_51_V2-a_TurnFeatureTests-on\\',\\n        ShouldLogGaFeatureSetInDimension: true,\\n        VarnishABGroup: \\'97007429\\',\\n        GaSkyscannerDomains: [\"skyscanner.net\",\"skyscanneraffiliate.net\",\"hotels.skyscanner.com\",\"redirect.datahc.com\",\"www.goeverywhere.sg\",\"bus.skyscanner.co.in\",\"skyscanner.squarespace.com\",\"perfectflight.skyscanner.com\",\"vaiovunque.it\",\"lomejorespana.skyscanner.es\",\"pinkandblack-skyscanner.net\",\"sommergewinnspiel.skyscanner.de\",\"bienvenue.skyscanner.fr\",\"abdbileti.skyscanner.com.tr\",\"damonandjo.skyscanner.com\",\"goeverywhere.skyscanner.com\",\"smiles.skyscanner.com\",\"skyscanner.tpromo.it\",\"www.oisbende.skyscanner.com.tr\",\"miami.skyscanner.com\",\"codevoyagers.com\",\"winnen.skyscanner.nl\",\"www.kazan.skyscanner.com.tr\",\"www.apideeplink.com\",\"dach.skyscanner.de\",\"tianxun.hotelscombined.cn\",\"hotels.skyscanner.co.kr\",\"gr.skyscanner.com\",\"www.skyscanner.at\",\"www.skyscanner.ca\",\"www.skyscanner.ch\",\"www.skyscanner.co.id\",\"www.skyscanner.co.in\",\"www.skyscanner.co.kr\",\"www.skyscanner.co.nz\",\"www.skyscanner.co.th\",\"www.skyscanner.com\",\"www.skyscanner.com.au\",\"www.skyscanner.com.br\",\"www.skyscanner.com.hk\",\"www.skyscanner.com.my\",\"www.skyscanner.com.ph\",\"www.skyscanner.com.sg\",\"www.skyscanner.com.tr\",\"www.skyscanner.com.tw\",\"www.skyscanner.com.ua\",\"www.skyscanner.com.vn\",\"www.skyscanner.cz\",\"www.skyscanner.de\",\"www.skyscanner.dk\",\"www.skyscanner.es\",\"www.skyscanner.fi\",\"www.skyscanner.fr\",\"www.skyscanner.gg\",\"www.skyscanner.hu\",\"www.skyscanner.ie\",\"www.skyscanner.it\",\"www.skyscanner.jp\",\"www.skyscanner.net\",\"www.skyscanner.nl\",\"www.skyscanner.no\",\"www.skyscanner.pl\",\"www.skyscanner.pt\",\"www.skyscanner.ro\",\"www.skyscanner.ru\",\"www.skyscanner.se\",\"www.tianxun.com\",\"www.skyscanner.ae\",\"www.espanol.skyscanner.com\",\"www.skyscanner.co.il\"]\\n    };\\n\\n\\n        \\nSkyscanner.abtest =\\n    {\\n        abgroup : \\'97007429\\'\\n    };\\n\\n</script>\\n\\n\\n\\n \\n\\n<script type=\"text/javascript\" src=\"//js.skyscnr.com/framework/scaffolding/cache/js/common_zh-tw.aa3b0c67.js\"></script>\\n\\n        <script type=\"text/javascript\">\\n\\n            window.runnerOptions = {\\n                \\'isSearchPage\\': true,\\n                \\'usePageLocation\\': true,\\n                \\'adUnit\\': \\'flights_funnel/day_view\\'\\n            };\\n        </script>\\n\\n\\n     \\n\\n<script type=\"text/javascript\" src=\"//js.skyscnr.com/framework/scaffolding/cache/js/dayview_zh-tw.c2382510.js\"></script>\\n    <script src=\"//js.skyscnr.com/flightsearch/static/translation.results.desktop.zh-tw.83d5186bf936ed1e413c.js\"></script>\\n<script crossorigin=\"anonymous\" src=\"//js.skyscnr.com/flightsearch/static/results.min.desktop.cc8c33ad782d7d1860ef.js\"></script><div id=\"fss-overlay\" class=\"lightbox darkbg hide\" style=\"z-index: 1000;\"></div>\\n<script>\\n    if (!Skyscanner.FSS || !Skyscanner.FSS.loaded) {\\n        injectScript(\\'//js.skyscnr.com/flightsearch/static/results.min.desktop.cc8c33ad782d7d1860ef.js\\');\\n        mixpanel.track(\\'Flight Day View Error Logged\\', {\\n            \\'Error Message\\': \\'CORS\\',\\n            \\'Scaffold Node\\': Skyscanner.scaffoldNode || null\\n        });\\n    }\\n</script>\\n\\n\\n    \\n<script>\\n    (function() {\\n        window.Skyscanner || (window.Skyscanner = {});\\n        Skyscanner.ComponentContext = Skyscanner.ComponentContext || {};\\n        var config = Skyscanner.config || {};\\n        var featureTests = config.featureTests || {};\\n        var remoteConfig = config.remoteConfiguration || {};\\n        var homepageRemoteConfig = remoteConfig.HomepageandSearchControlsUI || {};\\n        var localisation = (Skyscanner.Api || {}).localisation || {};\\n\\n        var firstDay = localisation.getFirstDay ? localisation.getFirstDay() : 1;\\n        var months = localisation.monthNames ? localisation.monthNames() : [];\\n        var weekdays = localisation.dayNamesUnordered ? localisation.dayNamesUnordered() : [];\\n        var weekdaysShort = localisation.dayNamesUnordered ? localisation.dayNamesUnordered(\\'short\\') : [];\\n\\n        Skyscanner.SearchSummaryOptions = {\\n            firstDay: firstDay,\\n            months: months,\\n            weekdays: weekdays,\\n            weekdaysShort: weekdaysShort,\\n            dateFormatter: localisation.formatDate,\\n            searchControlsTranslationsUrl: \\'//js.skyscnr.com/flightsearch/static/translation.searchcontrols.zh-tw.c74778b37d1734b50075.js\\',\\n            searchControlsScriptUrl: \\'//js.skyscnr.com/flightsearch/static/searchcontrols.min.22270d24b1c8640d1b18.js\\'\\n        };\\n\\n        Skyscanner.SearchControlsParameters = {\\n            locale: \\'zh-TW\\',\\n            currency: Skyscanner.ComponentContext.currency,\\n            originId: Skyscanner.ComponentContext.originId,\\n            originName: Skyscanner.ComponentContext.originName,\\n            originCityId: Skyscanner.ComponentContext.originCityId,\\n            originCountryId: Skyscanner.ComponentContext.originCountryId,\\n            originCountryName: Skyscanner.ComponentContext.originCountryName,\\n            destinationId: Skyscanner.ComponentContext.destinationId,\\n            destinationName: Skyscanner.ComponentContext.destinationName,\\n            destinationCityId: Skyscanner.ComponentContext.destinationCityId,\\n            destinationCountryId: Skyscanner.ComponentContext.destinationCountryId,\\n            destinationCountryName: Skyscanner.ComponentContext.destinationCountryName,\\n            outboundDate: Skyscanner.ComponentContext.outboundDate,\\n            inboundDate: Skyscanner.ComponentContext.inboundDate,\\n            tripType: Skyscanner.ComponentContext.tripType,\\n            legs: Skyscanner.ComponentContext.legs,\\n            adults: Skyscanner.ComponentContext.adults,\\n            children: Skyscanner.ComponentContext.children,\\n            infants: Skyscanner.ComponentContext.infants,\\n            adultsV2: Skyscanner.ComponentContext.adultsV2,\\n            childrenV2: Skyscanner.ComponentContext.childrenV2,\\n            cabinClass: Skyscanner.ComponentContext.cabinclass,\\n            preferDirects: Skyscanner.ComponentContext.preferDirects,\\n            showCompareUnits: true,\\n            populateViaStorage: false,\\n            firstDay: firstDay,\\n            months: months,\\n            weekdays: weekdays,\\n            weekdaysShort: weekdaysShort,\\n            dateFormatter: localisation.formatDate,\\n            featureFlags: {\\n                multiCityEnabled: true,\\n                autosuggestV2Enabled: true,\\n                homeAirportEnabled: featureTests.Hsc_HomeAirportEnabled,\\n                sendPeopleToMap: featureTests.INS1427_SendPeopleToMap,\\n                opaqueOnDesktop: false,\\n                oneLineSearchControls: false,\\n                calendarDirects: [\\'b\\', \\'c\\'].indexOf(featureTests.Hsc_CalendarDirects) &gt; -1,\\n                calendarDirectClearAllDirect: featureTests.Hsc_CalendarDirects === \\'c\\',\\n                childrenAgeView: featureTests.Hsc_ChildrenAgeView === \\'b\\',\\n                sjCompactViewEnabled: false\\n            },\\n            remoteConfig: homepageRemoteConfig,\\n            homeAirport: Skyscanner.ComponentContext.homeAirport,\\n            seoAirlineCode: Skyscanner.ComponentContext.seoAirlineCode\\n        };\\n        Skyscanner.FSS || (Skyscanner.FSS = {config: {}, translations: {}});\\n        Skyscanner.FSS.config.nodeName = \"FLPVWSG1FUN001\";\\n    })();\\n</script>\\n    <script crossorigin=\"anonymous\" src=\"//js.skyscnr.com/flightsearch/static/translation.searchsummary.zh-tw.121784c457023ebef0b9.js\"></script>\\n    <script crossorigin=\"anonymous\" src=\"//js.skyscnr.com/flightsearch/static/searchsummary.min.5c26c3bbf4b66ee637ff.js\"></script>\\n\\n\\n\\n\\n\\n    <input id=\"ftpid\" type=\"hidden\" value=\"day_zw_tw_tpe_cts_170105_170115\" />\\n\\n\\n\\n\\n \\n\\n<script type=\"text/javascript\">\\n(function () {\\nvar an = document.createElement(\\'script\\');\\nan.type = \\'text/javascript\\';\\nan.async = true;\\nan.src = \\'//js.skyscnr.com/framework/scaffolding/cache/js/common_async_zh-tw.d8939bc6.js\\';\\nvar s = document.getElementsByTagName(\\'script\\')[0];\\ns.parentNode.insertBefore(an, s);\\n})();\\n  </script>\\n\\n<script>\\n  var Skyscanner = Skyscanner || {};\\n  Skyscanner.advertTranslations = {\\n\\n  Carhire_AFS_Query1 : \"@@location@@租車\",\\n\\n  Flights_AFS_Query1 : \"從@@from@@飛往@@to@@的航班\",\\n\\n  Flights_AFS_Query10 : \"飛往@@to@@的航班優惠\",\\n\\n  Flights_AFS_Query11 : \"飛往@@to@@的航班\",\\n\\n  Flights_AFS_Query12 : \"飛往@@to@@的廉價航班\",\\n\\n  Flights_AFS_Query2 : \"從@@from@@飛往 @@to@@的廉價航班\",\\n\\n  Flights_AFS_Query3 : \"從@@from@@飛往@@to@@的航班優惠\",\\n\\n  Flights_AFS_Query4 : \"從@@from@@飛往@@to@@的廉價航班\",\\n\\n  Flights_AFS_Query5 : \"從@@from@@飛往@@to@@的航班\",\\n\\n  Flights_AFS_Query6 : \"飛往@@to@@的航班優惠\",\\n\\n  Flights_AFS_Query7 : \"從@@from@@飛往@@to@@的機票費\",\\n\\n  Flights_AFS_Query8 : \"從@@from@@飛往 @@to@@的機票費\",\\n\\n  Flights_AFS_Query9 : \"飛往@@to@@的廉價航班\",\\n\\n  Flights_AFS_Query_From : \"航班出發地：\",\\n\\n  Flights_AFS_Query_FromTo : \"從@@departure@@飛往@@destination@@的航班\",\\n\\n  Flights_AFS_Query_To : \"航班目的地：\",\\n\\n  ktx2Stops : \"中途停留 2 次\",\\n\\n  ktxt3Stops : \"中途停留 3 次\",\\n\\n  ktxt4Stops : \"中途停留 4 次\",\\n\\n  ktxt5Stops : \"中途停留 5 次\",\\n\\n  ktxtBookFlight : \"預訂航班\",\\n\\n  ktxtBookFlightFrom : \"預訂航班 {money} 起\",\\n\\n  ktxtBusiness : \"商務艙\",\\n\\n  ktxtDirect : \"直飛\",\\n\\n  ktxtDynamicAdFlightAndHotelLabel : \"航班 + 酒店\",\\n\\n  ktxtDynamicAdPerPersonLabel : \"每人\",\\n\\n  ktxtDynamicAdTotalLabel : \"總價 {0}\",\\n\\n  ktxtEconomy : \"經濟艙\",\\n\\n  ktxtFirst : \"頭等艙\",\\n\\n  ktxtFlightsDynamicAdBookButton : \"訂購\",\\n\\n  ktxtFlightsDynamicAdFromLabel : \"低至\",\\n\\n  ktxtFlightsDynamicAdLoadingMessage : \"檢查價格並儲存\",\\n\\n  ktxtFlightsDynamicAdOneWayLabel : \"單程\",\\n\\n  ktxtFlightsDynamicAdReturnLabel : \"回程\",\\n\\n  ktxtFlightsDynamicAdTermsAndConditions : \"條款及條件適用\",\\n\\n  ktxtFlightsDynamicAdToLabel : \"飛往\",\\n\\n  ktxtHotelsDynamicAdHotelsLabel : \"{0} 酒店\",\\n\\n  ktxtHotelsDynamicAdNightLabel : \"晚\",\\n\\n  ktxtHotelsDynamicAdStarsLabel : \"星\",\\n\\n  ktxtInlineAdSponsored : \"獲贊助\",\\n\\n  ktxtIntentmediaCompare : \"比較\",\\n\\n  ktxtIntentmediaHeadline : \"與 Skyscanner 進行比較\",\\n\\n  ktxtPremiumEconomy : \"豪華經濟艙\",\\n\\n  ktxtStop : \"中途停留 1 次\",\\n\\n  ktxtStops : \"中途停留 {number} 次\",\\n\\n  strmgmt_meta : \"\",\\n\\n  }\\n  var runnerOptions = runnerOptions || {};\\n  runnerOptions.pageLevelTargeting = runnerOptions.pageLevelTargeting || {};\\n  if (!window.location.origin) {\\n      window.location.origin = window.location.protocol + \"//\" + window.location.hostname + (window.location.port ? \\':\\' + window.location.port: \\'\\');\\n  }\\n  runnerOptions.pageLevelTargeting[\\'domain\\'] = window.location.origin;\\n  runnerOptions.pageLevelTargeting[\\'nativeadjs\\'] = \"/sttc/strevda/js/nativead.9e02300dd1cf6d9cb7a7.js\";\\n  runnerOptions.pageLevelTargeting[\\'nativeadcss\\'] = \"/sttc/strevda/css/nativead.bbef3ab22ed30bd91ce0a827ca2885ba.css\";\\n  runnerOptions.pageLevelTargeting[\\'inlineadjs\\'] = \"/sttc/strevda/js/inlinead.69aa611cf5dce48f172a.js\";\\n  runnerOptions.pageLevelTargeting[\\'sponsoredadjs\\'] = \"/sttc/strevda/js/sponsoredad.8cc85242a6657110d8fe.js\";\\n  runnerOptions.pageLevelTargeting[\\'multilayoutadjs\\'] = \"/sttc/strevda/js/multilayoutad.a40e2d24969bb5a2590c.js\";\\n  runnerOptions.pageLevelTargeting[\\'thirdpartyadjs\\'] = \"/sttc/strevda/js/thirdpartyad.c6f31873458b102f1763.js\";\\n</script>\\n<script src=\"/sttc/strevda/js/setup.6600bd4dfeb5dd1d4949.js\" async=\"\"></script>\\n\\n\\n\\n\\n\\n\\n\\n\\n\\n\\n\\n  \\n<div id=\"d__fFH\" style=\"position: absolute; top: -5000px; left: -5000px;\">object id=\"d_dlg\" classid=\"clsid:3050f819-98b5-11cf-bb82-00aa00bdce0b\" width=\"0px\" height=\"0px\"&gt;<span id=\"d__fF\" style=\"font-family: Courier, serif; font-size: 72px; visibility: hidden;\">The quick brown fox jumps over the lazy dog.</span></div><div id=\"accounts-overlay\" class=\"lightbox darkbg hide\"></div><a id=\"zenbox_tab\" href=\"https://help.skyscanner.net/hc/zh-tw/?skyDBG=2\" target=\"_blank\"><span>幫助</span></a><img src=\"/userorchestration/tracking.gif?Origin=TPET&amp;Destination=CTS&amp;InboundDatePart=170115&amp;OutboundDatePart=170105&amp;Adults=1&amp;Children=0&amp;Infants=0&amp;CabinClass=Economy&amp;IsReturn=true&amp;UserCountryId=TW&amp;LandingUrl=https%3A%2F%2Fwww.skyscanner.com.tw%2Ftransport%2Fflights%2Ftpet%2Fcts%2F170105%2F170115%2Fairfares-from-taipei-to-sapporo-chitose-in-january-2017.html%3Fadults%3D1%26children%3D0%26adultsv2%3D1%26childrenv2%3D%26infants%3D0%26cabinclass%3Deconomy%26rtn%3D1%26preferdirects%3Dfalse%26outboundaltsenabled%3Dfalse%26inboundaltsenabled%3Dfalse%26ref%3Dhome%23results&amp;ViewName=Day View&amp;RequestId=1a2c06ca-1550-472b-a262-ec8772bb7aaf&amp;NodeName=SSPVWSG1NWF014&amp;ScaffoldVersion=1132&amp;Platform=website&amp;Type=transportsearch\" style=\"display:none\" /><iframe id=\"google_osd_static_frame_4035398988796\" name=\"google_osd_static_frame\" style=\"display: none; width: 0px; height: 0px;\"></iframe></body></html>'"
      ]
     },
     "execution_count": 129,
     "metadata": {},
     "output_type": "execute_result"
    }
   ],
   "source": [
    "driver.page_source"
   ]
  },
  {
   "cell_type": "code",
   "execution_count": 130,
   "metadata": {
    "collapsed": false
   },
   "outputs": [
    {
     "data": {
      "text/plain": [
       "[<li class=\"day-list-item clearfix \"><article class=\"card result clearfix no-details \" data-cid=\"model_6829\" data-deeplink=\"details\" ontouchstart=\"\"><div class=\"card-body clearfix operated-by\"><div class=\"clearfix carrier\"><div class=\"airline\"><img alt=\"捷星航空\" onerror=\"__imgErrRemove__(this)\" src=\"//logos.skyscnr.com/images/airlines/favicon/JQ.png\"/><span>捷星航空</span></div></div><section class=\"card-main leg clearfix dept\" data-id=\"0\"><div class=\"big-airline\"><img alt=\"捷星航空\" class=\"big\" data-name=\"捷星航空\" onerror=\"__imgErrReplace__(this)\" src=\"//logos.skyscnr.com/images/airlines/small/JQ.png\"/></div><div class=\"leg-details \"><div class=\"depart\"><span class=\"station-tooltip\" data-id=\"17075\"><span class=\"times\">02:40</span><span class=\"stop-station\" data-id=\"17075\">TPE</span></span></div><div class=\"stops\"><span class=\"duration\">6 小時 15 分鐘</span><ul class=\"stop-line\"><li class=\"stop-dot\"></li><li class=\"stop-line\"></li></ul><div class=\"leg-stops\"><span class=\"leg-stops-red leg-stops-label\">轉機1次 </span><span class=\"leg-stops-station\"><span class=\"stop-station\" data-id=\"13068\">KIX</span></span></div></div><div class=\"arrive\"><span class=\"station-tooltip\" data-id=\"10783\"><span class=\"times\">09:55</span><span class=\"stop-station\" data-id=\"10783\">CTS</span></span></div><div class=\"leg-operator\">由 Jetstar Japan 營運</div></div></section><section class=\"card-main leg clearfix retn\" data-id=\"1\"><div class=\"big-airline\"><img alt=\"捷星航空\" class=\"big\" data-name=\"捷星航空\" onerror=\"__imgErrReplace__(this)\" src=\"//logos.skyscnr.com/images/airlines/small/JQ.png\"/></div><div class=\"leg-details \"><div class=\"depart\"><span class=\"station-tooltip\" data-id=\"10783\"><span class=\"times\">10:30</span><span class=\"stop-station\" data-id=\"10783\">CTS</span></span></div><div class=\"stops\"><span class=\"duration\">10 小時</span><ul class=\"stop-line\"><li class=\"stop-dot\"></li><li class=\"stop-line\"></li></ul><div class=\"leg-stops\"><span class=\"leg-stops-red leg-stops-label\">轉機1次 </span><span class=\"leg-stops-station\"><span class=\"stop-station\" data-id=\"13068\">KIX</span></span></div></div><div class=\"arrive\"><span class=\"station-tooltip\" data-id=\"17075\"><span class=\"times\">19:30</span><span class=\"stop-station\" data-id=\"17075\">TPE</span></span></div><div class=\"leg-operator\">由 Jetstar Japan, Jetstar Asia 營運</div></div></section></div><aside class=\"notch-holder\"></aside><div class=\"mainquote-cba clearfix\"><div class=\"mainquote-wrapper-cba\"><div class=\"mq-container-wrapper\"><div class=\"mq-container\"><div class=\"cba-price\"><span class=\"mainquote-deals\">4 個優惠，價格低至</span><div class=\"mainquote-group-price\"><a class=\"mainquote-price expand-cba select-action\" data-deeplink=\"details\" href=\"#\" target=\"_blank\"><span aria-hidden=\"true\" class=\"\"></span>NT$10,947</a></div></div><a class=\"bpk-button expand-cba select-action\" data-deeplink=\"details\" href=\"#\" target=\"_blank\" title=\"選擇\"><span class=\"bpk-text\">選擇 </span><span class=\"bpk-icon-sm bpk-icon-pointer bpk-icon-sm--align-to-button\"></span></a></div></div></div></div></article></li>,\n",
       " <li class=\"day-list-item clearfix \"><article class=\"card result clearfix no-details has-transfer-info \" data-cid=\"model_6840\" data-deeplink=\"details\" ontouchstart=\"\"><div class=\"card-body clearfix multi-ticket\"><div class=\"clearfix carrier\"><div class=\"airline\"><span class=\"no-logo-airline\"></span><span>酷航 + 樂桃</span></div></div><section class=\"card-main leg clearfix dept\" data-id=\"0\"><div class=\"big-airline\"><img alt=\"酷航\" class=\"big\" data-name=\"酷航\" onerror=\"__imgErrReplace__(this)\" src=\"//logos.skyscnr.com/images/airlines/small/QY.png\"/></div><div class=\"leg-details \"><div class=\"depart\"><span class=\"station-tooltip\" data-id=\"17075\"><span class=\"times\">11:30</span><span class=\"stop-station\" data-id=\"17075\">TPE</span></span></div><div class=\"stops\"><span class=\"duration\">3 小時 25 分鐘</span><ul class=\"stop-line\"><li class=\"stop-line\"></li></ul><div class=\"leg-stops no-stops\"><span class=\"leg-stops-green leg-stops-label\">直飛 </span><span class=\"leg-stops-station\"></span></div></div><div class=\"arrive\"><span class=\"station-tooltip\" data-id=\"10783\"><span class=\"times\">15:55</span><span class=\"stop-station\" data-id=\"10783\">CTS</span></span></div></div></section><section class=\"card-main leg clearfix retn\" data-id=\"1\"><div class=\"big-airline\"><img alt=\"樂桃\" class=\"big\" data-name=\"樂桃\" onerror=\"__imgErrReplace__(this)\" src=\"//logos.skyscnr.com/images/airlines/small/03.png\"/></div><div class=\"leg-details \"><div class=\"depart\"><span class=\"station-tooltip\" data-id=\"10783\"><span class=\"times\">12:45</span><span class=\"stop-station\" data-id=\"10783\">CTS</span></span></div><div class=\"stops\"><span class=\"duration\">8 小時 20 分鐘</span><ul class=\"stop-line\"><li class=\"stop-dot\"></li><li class=\"stop-line\"></li></ul><div class=\"leg-stops\"><span class=\"leg-stops-red leg-stops-label\">轉機1次 </span><span class=\"leg-stops-station\"><span class=\"stop-station\" data-id=\"13068\">KIX</span></span></div></div><div class=\"arrive\"><span class=\"station-tooltip\" data-id=\"17075\"><span class=\"times\">20:05</span><span class=\"stop-station\" data-id=\"17075\">TPE</span></span></div></div></section></div><aside class=\"notch-holder\"></aside><div class=\"mainquote-cba clearfix\"><div class=\"mainquote-wrapper-cba\"><div class=\"mq-container-wrapper\"><div class=\"mq-container\"><div class=\"cba-price\"><span class=\"mainquote-deals\">1 個優惠</span><div class=\"mainquote-group-price\"><a class=\"mainquote-price expand-cba select-action\" data-deeplink=\"details\" href=\"#\" target=\"_blank\"><span aria-hidden=\"true\" class=\"\"></span>NT$11,602</a></div></div><a class=\"bpk-button expand-cba select-action\" data-deeplink=\"details\" href=\"#\" target=\"_blank\" title=\"選擇\"><span class=\"bpk-text\">選擇 </span><span class=\"bpk-icon-sm bpk-icon-pointer bpk-icon-sm--align-to-button\"></span></a><div class=\"cba-agent-info\"><a class=\"ticketing-agent protected-transfer details-action\" data-deeplink=\"details\" href=\"#\" target=\"_blank\"><span aria-hidden=\"true\"></span>自行轉機</a></div><button class=\"ticketing-agent protected-transfer details-action\"><span aria-hidden=\"true\"></span>自行轉機</button></div></div></div></div></article></li>,\n",
       " <li class=\"day-list-item clearfix \"><article class=\"card result clearfix no-details has-transfer-info \" data-cid=\"model_6845\" data-deeplink=\"details\" ontouchstart=\"\"><div class=\"card-body clearfix multi-ticket operated-by\"><div class=\"clearfix carrier\"><div class=\"airline\"><span class=\"no-logo-airline\"></span><span>酷航 + 捷星航空 + 樂桃</span></div></div><section class=\"card-main leg clearfix dept\" data-id=\"0\"><div class=\"big-airline\"><img alt=\"酷航\" class=\"big\" data-name=\"酷航\" onerror=\"__imgErrReplace__(this)\" src=\"//logos.skyscnr.com/images/airlines/small/QY.png\"/></div><div class=\"leg-details \"><div class=\"depart\"><span class=\"station-tooltip\" data-id=\"17075\"><span class=\"times\">11:30</span><span class=\"stop-station\" data-id=\"17075\">TPE</span></span></div><div class=\"stops\"><span class=\"duration\">3 小時 25 分鐘</span><ul class=\"stop-line\"><li class=\"stop-line\"></li></ul><div class=\"leg-stops no-stops\"><span class=\"leg-stops-green leg-stops-label\">直飛 </span><span class=\"leg-stops-station\"></span></div></div><div class=\"arrive\"><span class=\"station-tooltip\" data-id=\"10783\"><span class=\"times\">15:55</span><span class=\"stop-station\" data-id=\"10783\">CTS</span></span></div></div></section><section class=\"card-main leg clearfix retn\" data-id=\"1\"><div class=\"big-airline\"><span class=\"text-sm\">捷星航空 + 樂桃</span></div><div class=\"leg-details \"><div class=\"depart\"><span class=\"station-tooltip\" data-id=\"10783\"><span class=\"times\">10:30</span><span class=\"stop-station\" data-id=\"10783\">CTS</span></span></div><div class=\"stops\"><span class=\"duration\">8 小時 45 分鐘</span><ul class=\"stop-line\"><li class=\"stop-dot\"></li><li class=\"stop-line\"></li></ul><div class=\"leg-stops\"><span class=\"leg-stops-red leg-stops-label\">轉機1次 </span><span class=\"leg-stops-station\"><span class=\"stop-station\" data-id=\"13068\">KIX</span></span></div></div><div class=\"arrive\"><span class=\"station-tooltip\" data-id=\"17075\"><span class=\"times\">18:15</span><span class=\"stop-station\" data-id=\"17075\">TPE</span></span></div><div class=\"leg-operator\">由 Jetstar Japan 部分營運</div></div></section></div><aside class=\"notch-holder\"></aside><div class=\"mainquote-cba clearfix\"><div class=\"mainquote-wrapper-cba\"><div class=\"mq-container-wrapper\"><div class=\"mq-container\"><div class=\"cba-price\"><span class=\"mainquote-deals\">1 個優惠</span><div class=\"mainquote-group-price\"><a class=\"mainquote-price expand-cba select-action\" data-deeplink=\"details\" href=\"#\" target=\"_blank\"><span aria-hidden=\"true\" class=\"\"></span>NT$11,642</a></div></div><a class=\"bpk-button expand-cba select-action\" data-deeplink=\"details\" href=\"#\" target=\"_blank\" title=\"選擇\"><span class=\"bpk-text\">選擇 </span><span class=\"bpk-icon-sm bpk-icon-pointer bpk-icon-sm--align-to-button\"></span></a><div class=\"cba-agent-info\"><a class=\"ticketing-agent protected-transfer details-action\" data-deeplink=\"details\" href=\"#\" target=\"_blank\"><span aria-hidden=\"true\"></span>自行轉機</a></div><button class=\"ticketing-agent protected-transfer details-action\"><span aria-hidden=\"true\"></span>自行轉機</button></div></div></div></div></article></li>,\n",
       " <li class=\"day-list-item clearfix \"><article class=\"card result clearfix no-details has-transfer-info \" data-cid=\"model_6850\" data-deeplink=\"details\" ontouchstart=\"\"><div class=\"card-body clearfix multi-ticket operated-by\"><div class=\"clearfix carrier\"><div class=\"airline\"><span class=\"no-logo-airline\"></span><span>酷航 + 天馬航空 + 捷星航空</span></div></div><section class=\"card-main leg clearfix dept\" data-id=\"0\"><div class=\"big-airline\"><img alt=\"酷航\" class=\"big\" data-name=\"酷航\" onerror=\"__imgErrReplace__(this)\" src=\"//logos.skyscnr.com/images/airlines/small/QY.png\"/></div><div class=\"leg-details \"><div class=\"depart\"><span class=\"station-tooltip\" data-id=\"17075\"><span class=\"times\">11:30</span><span class=\"stop-station\" data-id=\"17075\">TPE</span></span></div><div class=\"stops\"><span class=\"duration\">3 小時 25 分鐘</span><ul class=\"stop-line\"><li class=\"stop-line\"></li></ul><div class=\"leg-stops no-stops\"><span class=\"leg-stops-green leg-stops-label\">直飛 </span><span class=\"leg-stops-station\"></span></div></div><div class=\"arrive\"><span class=\"station-tooltip\" data-id=\"10783\"><span class=\"times\">15:55</span><span class=\"stop-station\" data-id=\"10783\">CTS</span></span></div></div></section><section class=\"card-main leg clearfix retn\" data-id=\"1\"><div class=\"big-airline\"><span class=\"text-sm\">天馬航空 + 捷星航空</span></div><div class=\"leg-details \"><div class=\"depart\"><span class=\"station-tooltip\" data-id=\"10783\"><span class=\"times\">13:35</span><span class=\"stop-station\" data-id=\"10783\">CTS</span></span></div><div class=\"stops\"><span class=\"duration\">12 小時 30 分鐘</span><ul class=\"stop-line\"><li class=\"stop-dot\"></li><li class=\"stop-line\"></li></ul><div class=\"leg-stops\"><span class=\"leg-stops-red leg-stops-label\">轉機1次 </span><span class=\"leg-stops-station\"><span class=\"stop-station\" data-id=\"14645\">NGO</span></span></div></div><div class=\"arrive\"><span class=\"station-tooltip\" data-id=\"17075\"><span class=\"times\">01:05<small> (+1)</small></span><span class=\"stop-station\" data-id=\"17075\">TPE</span></span></div><div class=\"leg-operator\">由 Jetstar Japan 部分營運</div></div></section></div><aside class=\"notch-holder\"></aside><div class=\"mainquote-cba clearfix\"><div class=\"mainquote-wrapper-cba\"><div class=\"mq-container-wrapper\"><div class=\"mq-container\"><div class=\"cba-price\"><span class=\"mainquote-deals\">1 個優惠</span><div class=\"mainquote-group-price\"><a class=\"mainquote-price expand-cba select-action\" data-deeplink=\"details\" href=\"#\" target=\"_blank\"><span aria-hidden=\"true\" class=\"\"></span>NT$11,681</a></div></div><a class=\"bpk-button expand-cba select-action\" data-deeplink=\"details\" href=\"#\" target=\"_blank\" title=\"選擇\"><span class=\"bpk-text\">選擇 </span><span class=\"bpk-icon-sm bpk-icon-pointer bpk-icon-sm--align-to-button\"></span></a><div class=\"cba-agent-info\"><a class=\"ticketing-agent protected-transfer details-action\" data-deeplink=\"details\" href=\"#\" target=\"_blank\"><span aria-hidden=\"true\"></span>自行轉機</a></div><button class=\"ticketing-agent protected-transfer details-action\"><span aria-hidden=\"true\"></span>自行轉機</button></div></div></div></div></article></li>,\n",
       " <li class=\"day-list-item clearfix \"><article class=\"card result clearfix no-details has-transfer-info \" data-cid=\"model_6855\" data-deeplink=\"details\" ontouchstart=\"\"><div class=\"card-body clearfix multi-ticket\"><div class=\"clearfix carrier\"><div class=\"airline\"><span class=\"no-logo-airline\"></span><span>酷航 + 樂桃 + 香草航空</span></div></div><section class=\"card-main leg clearfix dept\" data-id=\"0\"><div class=\"big-airline\"><img alt=\"酷航\" class=\"big\" data-name=\"酷航\" onerror=\"__imgErrReplace__(this)\" src=\"//logos.skyscnr.com/images/airlines/small/QY.png\"/></div><div class=\"leg-details \"><div class=\"depart\"><span class=\"station-tooltip\" data-id=\"17075\"><span class=\"times\">11:30</span><span class=\"stop-station\" data-id=\"17075\">TPE</span></span></div><div class=\"stops\"><span class=\"duration\">3 小時 25 分鐘</span><ul class=\"stop-line\"><li class=\"stop-line\"></li></ul><div class=\"leg-stops no-stops\"><span class=\"leg-stops-green leg-stops-label\">直飛 </span><span class=\"leg-stops-station\"></span></div></div><div class=\"arrive\"><span class=\"station-tooltip\" data-id=\"10783\"><span class=\"times\">15:55</span><span class=\"stop-station\" data-id=\"10783\">CTS</span></span></div></div></section><section class=\"card-main leg clearfix retn\" data-id=\"1\"><div class=\"big-airline\"><span class=\"text-sm\">樂桃 + 香草航空</span></div><div class=\"leg-details \"><div class=\"depart\"><span class=\"station-tooltip\" data-id=\"10783\"><span class=\"times\">18:55</span><span class=\"stop-station\" data-id=\"10783\">CTS</span></span></div><div class=\"stops\"><span class=\"duration\">11 小時 25 分鐘</span><ul class=\"stop-line\"><li class=\"stop-dot\"></li><li class=\"stop-line\"></li></ul><div class=\"leg-stops\"><span class=\"leg-stops-red leg-stops-label\">轉機1次 </span><span class=\"leg-stops-station\"><span class=\"stop-station\" data-id=\"13068\">KIX</span></span></div></div><div class=\"arrive\"><span class=\"station-tooltip\" data-id=\"17075\"><span class=\"times\">05:20<small> (+1)</small></span><span class=\"stop-station\" data-id=\"17075\">TPE</span></span></div></div></section></div><aside class=\"notch-holder\"></aside><div class=\"mainquote-cba clearfix\"><div class=\"mainquote-wrapper-cba\"><div class=\"mq-container-wrapper\"><div class=\"mq-container\"><div class=\"cba-price\"><span class=\"mainquote-deals\">1 個優惠</span><div class=\"mainquote-group-price\"><a class=\"mainquote-price expand-cba select-action\" data-deeplink=\"details\" href=\"#\" target=\"_blank\"><span aria-hidden=\"true\" class=\"\"></span>NT$11,957</a></div></div><a class=\"bpk-button expand-cba select-action\" data-deeplink=\"details\" href=\"#\" target=\"_blank\" title=\"選擇\"><span class=\"bpk-text\">選擇 </span><span class=\"bpk-icon-sm bpk-icon-pointer bpk-icon-sm--align-to-button\"></span></a><div class=\"cba-agent-info\"><a class=\"ticketing-agent protected-transfer details-action\" data-deeplink=\"details\" href=\"#\" target=\"_blank\"><span aria-hidden=\"true\"></span>自行轉機</a></div><button class=\"ticketing-agent protected-transfer details-action\"><span aria-hidden=\"true\"></span>自行轉機</button></div></div></div></div></article></li>,\n",
       " <li class=\"day-list-item clearfix \"><article class=\"card result clearfix no-details has-transfer-info \" data-cid=\"model_6860\" data-deeplink=\"details\" ontouchstart=\"\"><div class=\"card-body clearfix multi-ticket operated-by\"><div class=\"clearfix carrier\"><div class=\"airline\"><span class=\"no-logo-airline\"></span><span>酷航 + 樂桃 + 捷星航空</span></div></div><section class=\"card-main leg clearfix dept\" data-id=\"0\"><div class=\"big-airline\"><img alt=\"酷航\" class=\"big\" data-name=\"酷航\" onerror=\"__imgErrReplace__(this)\" src=\"//logos.skyscnr.com/images/airlines/small/QY.png\"/></div><div class=\"leg-details \"><div class=\"depart\"><span class=\"station-tooltip\" data-id=\"17075\"><span class=\"times\">11:30</span><span class=\"stop-station\" data-id=\"17075\">TPE</span></span></div><div class=\"stops\"><span class=\"duration\">3 小時 25 分鐘</span><ul class=\"stop-line\"><li class=\"stop-line\"></li></ul><div class=\"leg-stops no-stops\"><span class=\"leg-stops-green leg-stops-label\">直飛 </span><span class=\"leg-stops-station\"></span></div></div><div class=\"arrive\"><span class=\"station-tooltip\" data-id=\"10783\"><span class=\"times\">15:55</span><span class=\"stop-station\" data-id=\"10783\">CTS</span></span></div></div></section><section class=\"card-main leg clearfix retn\" data-id=\"1\"><div class=\"big-airline\"><span class=\"text-sm\">樂桃 + 捷星航空</span></div><div class=\"leg-details \"><div class=\"depart\"><span class=\"station-tooltip\" data-id=\"10783\"><span class=\"times\">12:45</span><span class=\"stop-station\" data-id=\"10783\">CTS</span></span></div><div class=\"stops\"><span class=\"duration\">7 小時 45 分鐘</span><ul class=\"stop-line\"><li class=\"stop-dot\"></li><li class=\"stop-line\"></li></ul><div class=\"leg-stops\"><span class=\"leg-stops-red leg-stops-label\">轉機1次 </span><span class=\"leg-stops-station\"><span class=\"stop-station\" data-id=\"13068\">KIX</span></span></div></div><div class=\"arrive\"><span class=\"station-tooltip\" data-id=\"17075\"><span class=\"times\">19:30</span><span class=\"stop-station\" data-id=\"17075\">TPE</span></span></div><div class=\"leg-operator\">由 Jetstar Asia 部分營運</div></div></section></div><aside class=\"notch-holder\"></aside><div class=\"mainquote-cba clearfix\"><div class=\"mainquote-wrapper-cba\"><div class=\"mq-container-wrapper\"><div class=\"mq-container\"><div class=\"cba-price\"><span class=\"mainquote-deals\">1 個優惠</span><div class=\"mainquote-group-price\"><a class=\"mainquote-price expand-cba select-action\" data-deeplink=\"details\" href=\"#\" target=\"_blank\"><span aria-hidden=\"true\" class=\"\"></span>NT$12,391</a></div></div><a class=\"bpk-button expand-cba select-action\" data-deeplink=\"details\" href=\"#\" target=\"_blank\" title=\"選擇\"><span class=\"bpk-text\">選擇 </span><span class=\"bpk-icon-sm bpk-icon-pointer bpk-icon-sm--align-to-button\"></span></a><div class=\"cba-agent-info\"><a class=\"ticketing-agent protected-transfer details-action\" data-deeplink=\"details\" href=\"#\" target=\"_blank\"><span aria-hidden=\"true\"></span>自行轉機</a></div><button class=\"ticketing-agent protected-transfer details-action\"><span aria-hidden=\"true\"></span>自行轉機</button></div></div></div></div></article></li>,\n",
       " <li class=\"day-list-item clearfix \"><article class=\"card result clearfix no-details has-transfer-info \" data-cid=\"model_6865\" data-deeplink=\"details\" ontouchstart=\"\"><div class=\"card-body clearfix multi-ticket\"><div class=\"clearfix carrier\"><div class=\"airline\"><span class=\"no-logo-airline\"></span><span>酷航 + 天馬航空 + 台灣虎航</span></div></div><section class=\"card-main leg clearfix dept\" data-id=\"0\"><div class=\"big-airline\"><img alt=\"酷航\" class=\"big\" data-name=\"酷航\" onerror=\"__imgErrReplace__(this)\" src=\"//logos.skyscnr.com/images/airlines/small/QY.png\"/></div><div class=\"leg-details \"><div class=\"depart\"><span class=\"station-tooltip\" data-id=\"17075\"><span class=\"times\">11:30</span><span class=\"stop-station\" data-id=\"17075\">TPE</span></span></div><div class=\"stops\"><span class=\"duration\">3 小時 25 分鐘</span><ul class=\"stop-line\"><li class=\"stop-line\"></li></ul><div class=\"leg-stops no-stops\"><span class=\"leg-stops-green leg-stops-label\">直飛 </span><span class=\"leg-stops-station\"></span></div></div><div class=\"arrive\"><span class=\"station-tooltip\" data-id=\"10783\"><span class=\"times\">15:55</span><span class=\"stop-station\" data-id=\"10783\">CTS</span></span></div></div></section><section class=\"card-main leg clearfix retn\" data-id=\"1\"><div class=\"big-airline\"><span class=\"text-sm\">天馬航空 + 台灣虎航</span></div><div class=\"leg-details \"><div class=\"depart\"><span class=\"station-tooltip\" data-id=\"10783\"><span class=\"times\">21:00</span><span class=\"stop-station\" data-id=\"10783\">CTS</span></span></div><div class=\"stops\"><span class=\"duration\">12 小時 30 分鐘</span><ul class=\"stop-line\"><li class=\"stop-dot\"></li><li class=\"stop-line\"></li></ul><div class=\"leg-stops\"><span class=\"leg-stops-red leg-stops-label\">轉機1次 </span><span class=\"leg-stops-station\"><span class=\"stop-station\" data-id=\"12234\">HND</span></span></div></div><div class=\"arrive\"><span class=\"station-tooltip\" data-id=\"17075\"><span class=\"times\">08:30<small> (+1)</small></span><span class=\"stop-station\" data-id=\"17075\">TPE</span></span></div></div></section></div><aside class=\"notch-holder\"></aside><div class=\"mainquote-cba clearfix\"><div class=\"mainquote-wrapper-cba\"><div class=\"mq-container-wrapper\"><div class=\"mq-container\"><div class=\"cba-price\"><span class=\"mainquote-deals\">1 個優惠</span><div class=\"mainquote-group-price\"><a class=\"mainquote-price expand-cba select-action\" data-deeplink=\"details\" href=\"#\" target=\"_blank\"><span aria-hidden=\"true\" class=\"\"></span>NT$12,510</a></div></div><a class=\"bpk-button expand-cba select-action\" data-deeplink=\"details\" href=\"#\" target=\"_blank\" title=\"選擇\"><span class=\"bpk-text\">選擇 </span><span class=\"bpk-icon-sm bpk-icon-pointer bpk-icon-sm--align-to-button\"></span></a><div class=\"cba-agent-info\"><a class=\"ticketing-agent protected-transfer details-action\" data-deeplink=\"details\" href=\"#\" target=\"_blank\"><span aria-hidden=\"true\"></span>自行轉機</a></div><button class=\"ticketing-agent protected-transfer details-action\"><span aria-hidden=\"true\"></span>自行轉機</button></div></div></div></div></article></li>,\n",
       " <li class=\"day-list-item clearfix \"><article class=\"card result clearfix no-details \" data-cid=\"model_6870\" data-deeplink=\"details\" ontouchstart=\"\"><div class=\"card-body clearfix operated-by\"><div class=\"clearfix carrier\"><div class=\"airline\"><img alt=\"捷星航空\" onerror=\"__imgErrRemove__(this)\" src=\"//logos.skyscnr.com/images/airlines/favicon/JQ.png\"/><span>捷星航空</span></div></div><section class=\"card-main leg clearfix dept\" data-id=\"0\"><div class=\"big-airline\"><img alt=\"捷星航空\" class=\"big\" data-name=\"捷星航空\" onerror=\"__imgErrReplace__(this)\" src=\"//logos.skyscnr.com/images/airlines/small/JQ.png\"/></div><div class=\"leg-details \"><div class=\"depart\"><span class=\"station-tooltip\" data-id=\"17075\"><span class=\"times\">07:00</span><span class=\"stop-station\" data-id=\"17075\">TPE</span></span></div><div class=\"stops\"><span class=\"duration\">8 小時 20 分鐘</span><ul class=\"stop-line\"><li class=\"stop-dot\"></li><li class=\"stop-line\"></li></ul><div class=\"leg-stops\"><span class=\"leg-stops-red leg-stops-label\">轉機1次 </span><span class=\"leg-stops-station\"><span class=\"stop-station\" data-id=\"13068\">KIX</span></span></div></div><div class=\"arrive\"><span class=\"station-tooltip\" data-id=\"10783\"><span class=\"times\">16:20</span><span class=\"stop-station\" data-id=\"10783\">CTS</span></span></div><div class=\"leg-operator\">由 Jetstar Asia, Jetstar Japan 營運</div></div></section><section class=\"card-main leg clearfix retn\" data-id=\"1\"><div class=\"big-airline\"><img alt=\"捷星航空\" class=\"big\" data-name=\"捷星航空\" onerror=\"__imgErrReplace__(this)\" src=\"//logos.skyscnr.com/images/airlines/small/JQ.png\"/></div><div class=\"leg-details \"><div class=\"depart\"><span class=\"station-tooltip\" data-id=\"10783\"><span class=\"times\">10:30</span><span class=\"stop-station\" data-id=\"10783\">CTS</span></span></div><div class=\"stops\"><span class=\"duration\">10 小時</span><ul class=\"stop-line\"><li class=\"stop-dot\"></li><li class=\"stop-line\"></li></ul><div class=\"leg-stops\"><span class=\"leg-stops-red leg-stops-label\">轉機1次 </span><span class=\"leg-stops-station\"><span class=\"stop-station\" data-id=\"13068\">KIX</span></span></div></div><div class=\"arrive\"><span class=\"station-tooltip\" data-id=\"17075\"><span class=\"times\">19:30</span><span class=\"stop-station\" data-id=\"17075\">TPE</span></span></div><div class=\"leg-operator\">由 Jetstar Japan, Jetstar Asia 營運</div></div></section></div><aside class=\"notch-holder\"></aside><div class=\"mainquote-cba clearfix\"><div class=\"mainquote-wrapper-cba\"><div class=\"mq-container-wrapper\"><div class=\"mq-container\"><div class=\"cba-price\"><span class=\"mainquote-deals\">4 個優惠，價格低至</span><div class=\"mainquote-group-price\"><a class=\"mainquote-price expand-cba select-action\" data-deeplink=\"details\" href=\"#\" target=\"_blank\"><span aria-hidden=\"true\" class=\"\"></span>NT$12,527</a></div></div><a class=\"bpk-button expand-cba select-action\" data-deeplink=\"details\" href=\"#\" target=\"_blank\" title=\"選擇\"><span class=\"bpk-text\">選擇 </span><span class=\"bpk-icon-sm bpk-icon-pointer bpk-icon-sm--align-to-button\"></span></a></div></div></div></div></article></li>,\n",
       " <li class=\"day-list-item clearfix \"><article class=\"card result clearfix no-details \" data-cid=\"model_6881\" data-deeplink=\"details\" ontouchstart=\"\"><div class=\"card-body clearfix operated-by\"><div class=\"clearfix carrier\"><div class=\"airline\"><img alt=\"捷星航空\" onerror=\"__imgErrRemove__(this)\" src=\"//logos.skyscnr.com/images/airlines/favicon/JQ.png\"/><span>捷星航空</span></div></div><section class=\"card-main leg clearfix dept\" data-id=\"0\"><div class=\"big-airline\"><img alt=\"捷星航空\" class=\"big\" data-name=\"捷星航空\" onerror=\"__imgErrReplace__(this)\" src=\"//logos.skyscnr.com/images/airlines/small/JQ.png\"/></div><div class=\"leg-details \"><div class=\"depart\"><span class=\"station-tooltip\" data-id=\"17075\"><span class=\"times\">02:40</span><span class=\"stop-station\" data-id=\"17075\">TPE</span></span></div><div class=\"stops\"><span class=\"duration\">6 小時 15 分鐘</span><ul class=\"stop-line\"><li class=\"stop-dot\"></li><li class=\"stop-line\"></li></ul><div class=\"leg-stops\"><span class=\"leg-stops-red leg-stops-label\">轉機1次 </span><span class=\"leg-stops-station\"><span class=\"stop-station\" data-id=\"13068\">KIX</span></span></div></div><div class=\"arrive\"><span class=\"station-tooltip\" data-id=\"10783\"><span class=\"times\">09:55</span><span class=\"stop-station\" data-id=\"10783\">CTS</span></span></div><div class=\"leg-operator\">由 Jetstar Japan 營運</div></div></section><section class=\"card-main leg clearfix retn\" data-id=\"1\"><div class=\"big-airline\"><img alt=\"捷星航空\" class=\"big\" data-name=\"捷星航空\" onerror=\"__imgErrReplace__(this)\" src=\"//logos.skyscnr.com/images/airlines/small/JQ.png\"/></div><div class=\"leg-details \"><div class=\"depart\"><span class=\"station-tooltip\" data-id=\"10783\"><span class=\"times\">13:10</span><span class=\"stop-station\" data-id=\"10783\">CTS</span></span></div><div class=\"stops\"><span class=\"duration\">12 小時 35 分鐘</span><ul class=\"stop-line\"><li class=\"stop-dot\"></li><li class=\"stop-line\"></li></ul><div class=\"leg-stops\"><span class=\"leg-stops-red leg-stops-label\">轉機1次 </span><span class=\"leg-stops-station\"><span class=\"stop-station\" data-id=\"14788\">NRT</span></span></div></div><div class=\"arrive\"><span class=\"station-tooltip\" data-id=\"17075\"><span class=\"times\">00:45<small> (+1)</small></span><span class=\"stop-station\" data-id=\"17075\">TPE</span></span></div><div class=\"leg-operator\">由 Jetstar Japan 營運</div></div></section></div><aside class=\"notch-holder\"></aside><div class=\"mainquote-cba clearfix\"><div class=\"mainquote-wrapper-cba\"><div class=\"mq-container-wrapper\"><div class=\"mq-container\"><div class=\"cba-price\"><span class=\"mainquote-deals\">3 個優惠，價格低至</span><div class=\"mainquote-group-price\"><a class=\"mainquote-price expand-cba select-action\" data-deeplink=\"details\" href=\"#\" target=\"_blank\"><span aria-hidden=\"true\" class=\"\"></span>NT$13,124</a></div></div><a class=\"bpk-button expand-cba select-action\" data-deeplink=\"details\" href=\"#\" target=\"_blank\" title=\"選擇\"><span class=\"bpk-text\">選擇 </span><span class=\"bpk-icon-sm bpk-icon-pointer bpk-icon-sm--align-to-button\"></span></a></div></div></div></div></article></li>,\n",
       " <li class=\"day-list-item clearfix \"><article class=\"card result clearfix no-details \" data-cid=\"model_6890\" data-deeplink=\"details\" ontouchstart=\"\"><div class=\"card-body clearfix\"><div class=\"clearfix carrier\"><div class=\"airline\"><span class=\"no-logo-airline\"></span><span>酷航 + 香草航空</span></div></div><section class=\"card-main leg clearfix dept\" data-id=\"0\"><div class=\"big-airline\"><img alt=\"酷航\" class=\"big\" data-name=\"酷航\" onerror=\"__imgErrReplace__(this)\" src=\"//logos.skyscnr.com/images/airlines/small/QY.png\"/></div><div class=\"leg-details \"><div class=\"depart\"><span class=\"station-tooltip\" data-id=\"17075\"><span class=\"times\">11:30</span><span class=\"stop-station\" data-id=\"17075\">TPE</span></span></div><div class=\"stops\"><span class=\"duration\">3 小時 25 分鐘</span><ul class=\"stop-line\"><li class=\"stop-line\"></li></ul><div class=\"leg-stops no-stops\"><span class=\"leg-stops-green leg-stops-label\">直飛 </span><span class=\"leg-stops-station\"></span></div></div><div class=\"arrive\"><span class=\"station-tooltip\" data-id=\"10783\"><span class=\"times\">15:55</span><span class=\"stop-station\" data-id=\"10783\">CTS</span></span></div></div></section><section class=\"card-main leg clearfix retn\" data-id=\"1\"><div class=\"big-airline\"><img alt=\"香草航空\" class=\"big\" data-name=\"香草航空\" onerror=\"__imgErrReplace__(this)\" src=\"//logos.skyscnr.com/images/airlines/small/JW.png\"/></div><div class=\"leg-details \"><div class=\"depart\"><span class=\"station-tooltip\" data-id=\"10783\"><span class=\"times\">18:00</span><span class=\"stop-station\" data-id=\"10783\">CTS</span></span></div><div class=\"stops\"><span class=\"duration\">8 小時 15 分鐘</span><ul class=\"stop-line\"><li class=\"stop-dot\"></li><li class=\"stop-line\"></li></ul><div class=\"leg-stops\"><span class=\"leg-stops-red leg-stops-label\">轉機1次 </span><span class=\"leg-stops-station\"><span class=\"stop-station\" data-id=\"14788\">NRT</span></span></div></div><div class=\"arrive\"><span class=\"station-tooltip\" data-id=\"17075\"><span class=\"times\">01:15<small> (+1)</small></span><span class=\"stop-station\" data-id=\"17075\">TPE</span></span></div></div></section></div><aside class=\"notch-holder\"></aside><div class=\"mainquote-cba clearfix\"><div class=\"mainquote-wrapper-cba\"><div class=\"mq-container-wrapper\"><div class=\"mq-container\"><div class=\"cba-price\"><span class=\"mainquote-deals\">1 個優惠</span><div class=\"mainquote-group-price\"><a class=\"mainquote-price expand-cba select-action\" data-deeplink=\"details\" href=\"#\" target=\"_blank\"><span aria-hidden=\"true\" class=\"\"></span>NT$14,365</a></div></div><a class=\"bpk-button expand-cba select-action\" data-deeplink=\"details\" href=\"#\" target=\"_blank\" title=\"選擇\"><span class=\"bpk-text\">選擇 </span><span class=\"bpk-icon-sm bpk-icon-pointer bpk-icon-sm--align-to-button\"></span></a></div></div></div></div></article></li>]"
      ]
     },
     "execution_count": 130,
     "metadata": {},
     "output_type": "execute_result"
    }
   ],
   "source": [
    "from bs4 import BeautifulSoup\n",
    "soup = BeautifulSoup(driver.page_source, 'lxml')\n",
    "soup.select('li.day-list-item')"
   ]
  },
  {
   "cell_type": "code",
   "execution_count": 136,
   "metadata": {
    "collapsed": false
   },
   "outputs": [],
   "source": [
    "next_button = driver.find_element_by_class_name('next')"
   ]
  },
  {
   "cell_type": "code",
   "execution_count": 137,
   "metadata": {
    "collapsed": true
   },
   "outputs": [],
   "source": [
    "# Skyscanner has crawler blocking....\n",
    "next_button.click()"
   ]
  },
  {
   "cell_type": "code",
   "execution_count": 143,
   "metadata": {
    "collapsed": false
   },
   "outputs": [
    {
     "ename": "WebDriverException",
     "evalue": "Message: unknown error: Element <i class=\"icon icon-caret-right\" data-reactid=\".24ijqylrkzk.0.2.0.3.2.2.0.1.0.6.0.1\"></i> is not clickable at point (199, 769). Other element would receive the click: <div class=\"modal-cell\" data-reactid=\".4.0.$=1$modal.0.0\">...</div>\n  (Session info: chrome=55.0.2883.95)\n  (Driver info: chromedriver=2.27.440174 (e97a722caafc2d3a8b807ee115bfb307f7d2cfd9),platform=Mac OS X 10.11.6 x86_64)\n",
     "output_type": "error",
     "traceback": [
      "\u001b[0;31m---------------------------------------------------------------------------\u001b[0m",
      "\u001b[0;31mWebDriverException\u001b[0m                        Traceback (most recent call last)",
      "\u001b[0;32m<ipython-input-143-cdef84c54703>\u001b[0m in \u001b[0;36m<module>\u001b[0;34m()\u001b[0m\n\u001b[1;32m     58\u001b[0m     \u001b[0;31m#navi_ele = driver.find_element_by_class_name('next')\u001b[0m\u001b[0;34m\u001b[0m\u001b[0;34m\u001b[0m\u001b[0m\n\u001b[1;32m     59\u001b[0m     \u001b[0mdriver\u001b[0m\u001b[0;34m.\u001b[0m\u001b[0mexecute_script\u001b[0m\u001b[0;34m(\u001b[0m\u001b[0;34m\"return arguments[0].scrollIntoView();\"\u001b[0m\u001b[0;34m,\u001b[0m \u001b[0mnavi_ele\u001b[0m\u001b[0;34m)\u001b[0m\u001b[0;34m\u001b[0m\u001b[0m\n\u001b[0;32m---> 60\u001b[0;31m     \u001b[0mnavi_ele\u001b[0m\u001b[0;34m.\u001b[0m\u001b[0mclick\u001b[0m\u001b[0;34m(\u001b[0m\u001b[0;34m)\u001b[0m\u001b[0;34m\u001b[0m\u001b[0m\n\u001b[0m\u001b[1;32m     61\u001b[0m     wait.until(\n\u001b[1;32m     62\u001b[0m         \u001b[0mEC\u001b[0m\u001b[0;34m.\u001b[0m\u001b[0mpresence_of_element_located\u001b[0m\u001b[0;34m(\u001b[0m\u001b[0;34m(\u001b[0m\u001b[0mBy\u001b[0m\u001b[0;34m.\u001b[0m\u001b[0mXPATH\u001b[0m\u001b[0;34m,\u001b[0m \u001b[0;34m'//*[@id=\"katamari-container\"]'\u001b[0m\u001b[0;34m)\u001b[0m\u001b[0;34m)\u001b[0m\u001b[0;34m\u001b[0m\u001b[0m\n",
      "\u001b[0;32m/Users/ian/.pyenv/versions/3.5.2/lib/python3.5/site-packages/selenium/webdriver/remote/webelement.py\u001b[0m in \u001b[0;36mclick\u001b[0;34m(self)\u001b[0m\n\u001b[1;32m     75\u001b[0m     \u001b[0;32mdef\u001b[0m \u001b[0mclick\u001b[0m\u001b[0;34m(\u001b[0m\u001b[0mself\u001b[0m\u001b[0;34m)\u001b[0m\u001b[0;34m:\u001b[0m\u001b[0;34m\u001b[0m\u001b[0m\n\u001b[1;32m     76\u001b[0m         \u001b[0;34m\"\"\"Clicks the element.\"\"\"\u001b[0m\u001b[0;34m\u001b[0m\u001b[0m\n\u001b[0;32m---> 77\u001b[0;31m         \u001b[0mself\u001b[0m\u001b[0;34m.\u001b[0m\u001b[0m_execute\u001b[0m\u001b[0;34m(\u001b[0m\u001b[0mCommand\u001b[0m\u001b[0;34m.\u001b[0m\u001b[0mCLICK_ELEMENT\u001b[0m\u001b[0;34m)\u001b[0m\u001b[0;34m\u001b[0m\u001b[0m\n\u001b[0m\u001b[1;32m     78\u001b[0m \u001b[0;34m\u001b[0m\u001b[0m\n\u001b[1;32m     79\u001b[0m     \u001b[0;32mdef\u001b[0m \u001b[0msubmit\u001b[0m\u001b[0;34m(\u001b[0m\u001b[0mself\u001b[0m\u001b[0;34m)\u001b[0m\u001b[0;34m:\u001b[0m\u001b[0;34m\u001b[0m\u001b[0m\n",
      "\u001b[0;32m/Users/ian/.pyenv/versions/3.5.2/lib/python3.5/site-packages/selenium/webdriver/remote/webelement.py\u001b[0m in \u001b[0;36m_execute\u001b[0;34m(self, command, params)\u001b[0m\n\u001b[1;32m    492\u001b[0m             \u001b[0mparams\u001b[0m \u001b[0;34m=\u001b[0m \u001b[0;34m{\u001b[0m\u001b[0;34m}\u001b[0m\u001b[0;34m\u001b[0m\u001b[0m\n\u001b[1;32m    493\u001b[0m         \u001b[0mparams\u001b[0m\u001b[0;34m[\u001b[0m\u001b[0;34m'id'\u001b[0m\u001b[0;34m]\u001b[0m \u001b[0;34m=\u001b[0m \u001b[0mself\u001b[0m\u001b[0;34m.\u001b[0m\u001b[0m_id\u001b[0m\u001b[0;34m\u001b[0m\u001b[0m\n\u001b[0;32m--> 494\u001b[0;31m         \u001b[0;32mreturn\u001b[0m \u001b[0mself\u001b[0m\u001b[0;34m.\u001b[0m\u001b[0m_parent\u001b[0m\u001b[0;34m.\u001b[0m\u001b[0mexecute\u001b[0m\u001b[0;34m(\u001b[0m\u001b[0mcommand\u001b[0m\u001b[0;34m,\u001b[0m \u001b[0mparams\u001b[0m\u001b[0;34m)\u001b[0m\u001b[0;34m\u001b[0m\u001b[0m\n\u001b[0m\u001b[1;32m    495\u001b[0m \u001b[0;34m\u001b[0m\u001b[0m\n\u001b[1;32m    496\u001b[0m     \u001b[0;32mdef\u001b[0m \u001b[0mfind_element\u001b[0m\u001b[0;34m(\u001b[0m\u001b[0mself\u001b[0m\u001b[0;34m,\u001b[0m \u001b[0mby\u001b[0m\u001b[0;34m=\u001b[0m\u001b[0mBy\u001b[0m\u001b[0;34m.\u001b[0m\u001b[0mID\u001b[0m\u001b[0;34m,\u001b[0m \u001b[0mvalue\u001b[0m\u001b[0;34m=\u001b[0m\u001b[0;32mNone\u001b[0m\u001b[0;34m)\u001b[0m\u001b[0;34m:\u001b[0m\u001b[0;34m\u001b[0m\u001b[0m\n",
      "\u001b[0;32m/Users/ian/.pyenv/versions/3.5.2/lib/python3.5/site-packages/selenium/webdriver/remote/webdriver.py\u001b[0m in \u001b[0;36mexecute\u001b[0;34m(self, driver_command, params)\u001b[0m\n\u001b[1;32m    234\u001b[0m         \u001b[0mresponse\u001b[0m \u001b[0;34m=\u001b[0m \u001b[0mself\u001b[0m\u001b[0;34m.\u001b[0m\u001b[0mcommand_executor\u001b[0m\u001b[0;34m.\u001b[0m\u001b[0mexecute\u001b[0m\u001b[0;34m(\u001b[0m\u001b[0mdriver_command\u001b[0m\u001b[0;34m,\u001b[0m \u001b[0mparams\u001b[0m\u001b[0;34m)\u001b[0m\u001b[0;34m\u001b[0m\u001b[0m\n\u001b[1;32m    235\u001b[0m         \u001b[0;32mif\u001b[0m \u001b[0mresponse\u001b[0m\u001b[0;34m:\u001b[0m\u001b[0;34m\u001b[0m\u001b[0m\n\u001b[0;32m--> 236\u001b[0;31m             \u001b[0mself\u001b[0m\u001b[0;34m.\u001b[0m\u001b[0merror_handler\u001b[0m\u001b[0;34m.\u001b[0m\u001b[0mcheck_response\u001b[0m\u001b[0;34m(\u001b[0m\u001b[0mresponse\u001b[0m\u001b[0;34m)\u001b[0m\u001b[0;34m\u001b[0m\u001b[0m\n\u001b[0m\u001b[1;32m    237\u001b[0m             response['value'] = self._unwrap_value(\n\u001b[1;32m    238\u001b[0m                 response.get('value', None))\n",
      "\u001b[0;32m/Users/ian/.pyenv/versions/3.5.2/lib/python3.5/site-packages/selenium/webdriver/remote/errorhandler.py\u001b[0m in \u001b[0;36mcheck_response\u001b[0;34m(self, response)\u001b[0m\n\u001b[1;32m    190\u001b[0m         \u001b[0;32melif\u001b[0m \u001b[0mexception_class\u001b[0m \u001b[0;34m==\u001b[0m \u001b[0mUnexpectedAlertPresentException\u001b[0m \u001b[0;32mand\u001b[0m \u001b[0;34m'alert'\u001b[0m \u001b[0;32min\u001b[0m \u001b[0mvalue\u001b[0m\u001b[0;34m:\u001b[0m\u001b[0;34m\u001b[0m\u001b[0m\n\u001b[1;32m    191\u001b[0m             \u001b[0;32mraise\u001b[0m \u001b[0mexception_class\u001b[0m\u001b[0;34m(\u001b[0m\u001b[0mmessage\u001b[0m\u001b[0;34m,\u001b[0m \u001b[0mscreen\u001b[0m\u001b[0;34m,\u001b[0m \u001b[0mstacktrace\u001b[0m\u001b[0;34m,\u001b[0m \u001b[0mvalue\u001b[0m\u001b[0;34m[\u001b[0m\u001b[0;34m'alert'\u001b[0m\u001b[0;34m]\u001b[0m\u001b[0;34m.\u001b[0m\u001b[0mget\u001b[0m\u001b[0;34m(\u001b[0m\u001b[0;34m'text'\u001b[0m\u001b[0;34m)\u001b[0m\u001b[0;34m)\u001b[0m\u001b[0;34m\u001b[0m\u001b[0m\n\u001b[0;32m--> 192\u001b[0;31m         \u001b[0;32mraise\u001b[0m \u001b[0mexception_class\u001b[0m\u001b[0;34m(\u001b[0m\u001b[0mmessage\u001b[0m\u001b[0;34m,\u001b[0m \u001b[0mscreen\u001b[0m\u001b[0;34m,\u001b[0m \u001b[0mstacktrace\u001b[0m\u001b[0;34m)\u001b[0m\u001b[0;34m\u001b[0m\u001b[0m\n\u001b[0m\u001b[1;32m    193\u001b[0m \u001b[0;34m\u001b[0m\u001b[0m\n\u001b[1;32m    194\u001b[0m     \u001b[0;32mdef\u001b[0m \u001b[0m_value_or_default\u001b[0m\u001b[0;34m(\u001b[0m\u001b[0mself\u001b[0m\u001b[0;34m,\u001b[0m \u001b[0mobj\u001b[0m\u001b[0;34m,\u001b[0m \u001b[0mkey\u001b[0m\u001b[0;34m,\u001b[0m \u001b[0mdefault\u001b[0m\u001b[0;34m)\u001b[0m\u001b[0;34m:\u001b[0m\u001b[0;34m\u001b[0m\u001b[0m\n",
      "\u001b[0;31mWebDriverException\u001b[0m: Message: unknown error: Element <i class=\"icon icon-caret-right\" data-reactid=\".24ijqylrkzk.0.2.0.3.2.2.0.1.0.6.0.1\"></i> is not clickable at point (199, 769). Other element would receive the click: <div class=\"modal-cell\" data-reactid=\".4.0.$=1$modal.0.0\">...</div>\n  (Session info: chrome=55.0.2883.95)\n  (Driver info: chromedriver=2.27.440174 (e97a722caafc2d3a8b807ee115bfb307f7d2cfd9),platform=Mac OS X 10.11.6 x86_64)\n"
     ]
    }
   ],
   "source": [
    "# Another selenium example\n",
    "from bs4 import BeautifulSoup\n",
    "from selenium import webdriver\n",
    "from selenium.webdriver.common.by import By\n",
    "from selenium.webdriver.common.keys import Keys\n",
    "from selenium.webdriver.support.ui import WebDriverWait\n",
    "from selenium.webdriver.support import expected_conditions as EC\n",
    "from selenium.webdriver.common.desired_capabilities import DesiredCapabilities\n",
    "\n",
    "page_no = 1\n",
    "\n",
    "driver = webdriver.Remote(\n",
    "   command_executor='http://127.0.0.1:9515',\n",
    "   desired_capabilities=DesiredCapabilities.CHROME)\n",
    "\n",
    "driver.get('http://airbnb.com/');\n",
    "#time.sleep(5) # Let the user actually see something!\n",
    "\n",
    "\n",
    "wait = WebDriverWait(driver, 10)\n",
    "\n",
    "# wait for the page to load\n",
    "wait.until(\n",
    "    EC.presence_of_element_located((By.NAME, \"location\"))\n",
    ")\n",
    "\n",
    "location_ele = driver.find_element_by_xpath('//*[@id=\"search-location\"]')\n",
    "location_ele.click()\n",
    "location_ele.send_keys(\"Niseko\")\n",
    "location_ele.send_keys(Keys.RETURN)\n",
    "\n",
    "check_in_ele = driver.find_element_by_xpath('//*[@id=\"startDate\"]')\n",
    "check_in_ele.send_keys('01/05/2017')\n",
    "\n",
    "checkout_ele = driver.find_element_by_xpath('//*[@id=\"endDate\"]')\n",
    "checkout_ele.send_keys('01/15/2017')\n",
    "\n",
    "guests_ele = driver.find_element_by_xpath('//*[@id=\"site-content\"]/div/div/div[2]/div[1]/div[1]/div/form/div/div/div[3]/div/button')\n",
    "guests_ele.click()\n",
    "add_ele = driver.find_element_by_xpath('//*[@id=\"site-content\"]/div/div/div[2]/div[1]/div[1]/div/form/div/div/div[3]/div/div/div/div/div[1]/div[2]/div/button[2]')\n",
    "for x in range(4):\n",
    "    add_ele.click()\n",
    "submit_ele = driver.find_element_by_xpath('//*[@id=\"site-content\"]/div/div/div[2]/div[1]/div[1]/div/form/div/div/div[4]/button')\n",
    "submit_ele.click()\n",
    "\n",
    "\n",
    "wait.until(\n",
    "    EC.presence_of_element_located((By.XPATH, '//*[@id=\"katamari-container\"]/div/div/div/div[1]/div/div[2]/div[3]/div[2]/div'))\n",
    ")\n",
    "\n",
    "with open('./niseko_page{}.html'.format(page_no), 'w') as f:\n",
    "    f.write(driver.page_source)\n",
    "    \n",
    "for x in range(3):\n",
    "    if not EC.presence_of_element_located((By.CLASS_NAME, 'icon-caret-right')):\n",
    "        break\n",
    "    navi_ele = driver.find_element_by_class_name('icon-caret-right')\n",
    "    #navi_ele = driver.find_element_by_class_name('next')\n",
    "    driver.execute_script(\"return arguments[0].scrollIntoView();\", navi_ele)\n",
    "    navi_ele.click()\n",
    "    wait.until(\n",
    "        EC.presence_of_element_located((By.XPATH, '//*[@id=\"katamari-container\"]'))\n",
    "    )\n",
    "    page_no += 1\n",
    "    with open('./niseko_page{}.html'.format(page_no), 'w') as f:\n",
    "        f.write(driver.page_source)\n",
    "    driver.implicitly_wait(5) # seconds\n",
    "    if EC.presence_of_element_located((By.CLASS_NAME, 'modal-close')):\n",
    "        modal_ele = driver.find_element_by_class_name('modal-close')\n",
    "        modal_ele.click()\n",
    "    driver.implicitly_wait(1) # seconds\n",
    "\n"
   ]
  },
  {
   "cell_type": "code",
   "execution_count": 144,
   "metadata": {
    "collapsed": false
   },
   "outputs": [],
   "source": [
    "driver.close()"
   ]
  },
  {
   "cell_type": "code",
   "execution_count": null,
   "metadata": {
    "collapsed": true
   },
   "outputs": [],
   "source": []
  }
 ],
 "metadata": {
  "kernelspec": {
   "display_name": "Python 3",
   "language": "python",
   "name": "python3"
  },
  "language_info": {
   "codemirror_mode": {
    "name": "ipython",
    "version": 3
   },
   "file_extension": ".py",
   "mimetype": "text/x-python",
   "name": "python",
   "nbconvert_exporter": "python",
   "pygments_lexer": "ipython3",
   "version": "3.5.2"
  }
 },
 "nbformat": 4,
 "nbformat_minor": 1
}
